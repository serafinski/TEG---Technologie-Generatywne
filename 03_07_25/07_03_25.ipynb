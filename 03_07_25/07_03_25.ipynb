{
 "cells": [
  {
   "cell_type": "code",
   "id": "initial_id",
   "metadata": {
    "collapsed": true,
    "ExecuteTime": {
     "end_time": "2025-03-07T22:16:37.583304Z",
     "start_time": "2025-03-07T22:16:37.580934Z"
    }
   },
   "source": [
    "from dotenv import load_dotenv\n",
    "from langchain_openai import ChatOpenAI\n",
    "from langchain_core.messages import HumanMessage, SystemMessage"
   ],
   "outputs": [],
   "execution_count": 48
  },
  {
   "metadata": {
    "ExecuteTime": {
     "end_time": "2025-03-07T22:16:39.772655Z",
     "start_time": "2025-03-07T22:16:39.765993Z"
    }
   },
   "cell_type": "code",
   "source": "load_dotenv()",
   "id": "3087baf8ffa1b77d",
   "outputs": [
    {
     "data": {
      "text/plain": [
       "True"
      ]
     },
     "execution_count": 51,
     "metadata": {},
     "output_type": "execute_result"
    }
   ],
   "execution_count": 51
  },
  {
   "metadata": {
    "ExecuteTime": {
     "end_time": "2025-03-07T22:16:43.435262Z",
     "start_time": "2025-03-07T22:16:43.432442Z"
    }
   },
   "cell_type": "code",
   "source": [
    "def get_openai_response(prompt: str, system_context:str = None):\n",
    "\n",
    "    try:\n",
    "        chat = ChatOpenAI(\n",
    "            model=\"gpt-4o-mini\",        # Model to be chosen, example gpt-4o or gpt-3.5-turbo\n",
    "            temperature=0.9,            # 0-1: the higher the more creative model\n",
    "            # max_tokens=150,           # 1-n: Limit response length\n",
    "            # top_p=1.0,                # 0-1: Alternative randomness control (nucleus sampling)\n",
    "            # frequency_penalty=0.0,    # 0-1: Reduce repetitive text, the lower the least repetitive it is\n",
    "            # presence_penalty=0.0,     # 0-1: Encourage new topics, the lower the more new topics\n",
    "        )\n",
    "\n",
    "        messages = []\n",
    "\n",
    "        # Add system message if provided\n",
    "        if system_context:\n",
    "            messages.append(SystemMessage(content=system_context))\n",
    "\n",
    "        # Add human message\n",
    "        messages.append(HumanMessage(content=prompt))\n",
    "\n",
    "        # Get response\n",
    "        response = chat.invoke(messages)\n",
    "\n",
    "        return response.content\n",
    "\n",
    "    except Exception as e:\n",
    "        print(f\"An error occurred: {e}\")\n",
    "        return None"
   ],
   "id": "5fd476b16b7475dd",
   "outputs": [],
   "execution_count": 55
  },
  {
   "metadata": {
    "ExecuteTime": {
     "end_time": "2025-03-07T22:16:48.273890Z",
     "start_time": "2025-03-07T22:16:45.520907Z"
    }
   },
   "cell_type": "code",
   "source": [
    "system_context = \"You are a helpful assistant who explains things in a way that a 5-year-old would understand.\"\n",
    "prompt = \"What are the multi-agents structures in AI?\"\n",
    "response = get_openai_response(prompt, system_context)\n",
    "\n",
    "if response:\n",
    "    print(\"Prompt:\", prompt)\n",
    "    print(\"System Context:\", system_context)\n",
    "    print(\"\\n\\nResponse:\", response)"
   ],
   "id": "512b4f43bbc67304",
   "outputs": [
    {
     "name": "stdout",
     "output_type": "stream",
     "text": [
      "Prompt: What are the multi-agents structures in AI?\n",
      "System Context: You are a helpful assistant who explains things in a way that a 5-year-old would understand.\n",
      "\n",
      "\n",
      "Response: Okay! Imagine you have a team of superheroes, and each superhero has their own special power. They work together to solve problems and save the day. \n",
      "\n",
      "In AI, multi-agent structures are a bit like that team of superheroes. Instead of just one computer trying to figure something out, there are many little computers, or \"agents,\" working together. Each agent can do its own thing, like how each superhero does their own special job. \n",
      "\n",
      "These agents can talk to each other, share what they know, and help each other to solve big problems. Just like when superheroes team up, they can do much more together than they can alone!\n",
      "\n",
      "So, multi-agent structures in AI are like a group of friends or superheroes working together to do something cool or solve a tricky puzzle!\n"
     ]
    }
   ],
   "execution_count": 56
  }
 ],
 "metadata": {
  "kernelspec": {
   "display_name": "Python 3",
   "language": "python",
   "name": "python3"
  },
  "language_info": {
   "codemirror_mode": {
    "name": "ipython",
    "version": 2
   },
   "file_extension": ".py",
   "mimetype": "text/x-python",
   "name": "python",
   "nbconvert_exporter": "python",
   "pygments_lexer": "ipython2",
   "version": "2.7.6"
  }
 },
 "nbformat": 4,
 "nbformat_minor": 5
}
