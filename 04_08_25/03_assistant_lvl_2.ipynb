{
 "cells": [
  {
   "cell_type": "markdown",
   "metadata": {
    "id": "HJpzr-KvHlxq"
   },
   "source": [
    "We can also place human in the loop and reduce number of iterations"
   ]
  },
  {
   "cell_type": "code",
   "execution_count": 1,
   "metadata": {
    "id": "qxOrGba4oxUk"
   },
   "outputs": [],
   "source": [
    "from langchain_openai import ChatOpenAI\n",
    "from dotenv import load_dotenv\n",
    "\n",
    "load_dotenv()\n",
    "\n",
    "llm = ChatOpenAI(model=\"gpt-4o-mini\", temperature=0)\n"
   ]
  },
  {
   "cell_type": "code",
   "execution_count": 2,
   "metadata": {
    "id": "s1kVPVW8zlVI"
   },
   "outputs": [],
   "source": [
    "from typing import Annotated, Literal, TypedDict\n",
    "from langgraph.graph.message import add_messages\n",
    "\n",
    "class AgentState(TypedDict):\n",
    "  messages: Annotated[list, add_messages]\n",
    "  no_of_iterations: int"
   ]
  },
  {
   "cell_type": "code",
   "execution_count": 3,
   "metadata": {
    "id": "1PB-RPBU1iw7"
   },
   "outputs": [],
   "source": [
    "from langchain_community.tools.tavily_search import TavilySearchResults\n",
    "\n",
    "tools = [TavilySearchResults(max_results=5)]"
   ]
  },
  {
   "cell_type": "code",
   "execution_count": 4,
   "metadata": {
    "id": "23GI9OaC2Mt3"
   },
   "outputs": [],
   "source": [
    "from langchain_core.messages import (\n",
    "    HumanMessage\n",
    ")\n",
    "from langchain_core.prompts import ChatPromptTemplate, MessagesPlaceholder\n",
    "\n",
    "\n",
    "def create_agent(llm, tools, system_message: str):\n",
    "    \"\"\"Create an agent.\"\"\"\n",
    "    prompt = ChatPromptTemplate.from_messages(\n",
    "        [\n",
    "            (\n",
    "                \"system\",\n",
    "                \"{system_message}\",\n",
    "            ),\n",
    "            MessagesPlaceholder(variable_name=\"messages\"),\n",
    "        ]\n",
    "    )\n",
    "    prompt = prompt.partial(system_message=system_message)\n",
    "    if tools:\n",
    "      return prompt | llm.bind_tools(tools)\n",
    "    else:\n",
    "      return prompt | llm"
   ]
  },
  {
   "cell_type": "code",
   "execution_count": 5,
   "metadata": {
    "id": "PS7_Jxqa5dnt"
   },
   "outputs": [],
   "source": [
    "search_template = \"\"\"Your job is to search the web for stock market related news that would be relevant to to generate the article described by the user.\n",
    "\n",
    "                     NOTE: When providing the news articles retrieved to the Outliner, you need to give the Outliner all of the articles you have retrieved that are relevant.\n",
    "                     The format should be:\n",
    "\n",
    "                     1. <article 1>\n",
    "                     2. <article 2>\n",
    "                     ...\n",
    "                  \"\"\"\n",
    "\n",
    "outliner_template = \"\"\"Your job is to take as input a list of articles from the web along with users instruction on what article they want to write and generate an outline\n",
    "                       for the article. This means you are giving clear instructions what information should be included in the article in bullet point format as well as\n",
    "                       the sources to include in the article.\n",
    "                    \"\"\"\n",
    "\n",
    "writer_template = \"\"\"Your job is to write an article, do it in this format:\n",
    "\n",
    "                        TITLE: <title>\n",
    "                        BODY: <body>\n",
    "\n",
    "                    You may received feedback on the article from an editor. If you do receive feedback, you MUST make changes to your article and incorporate the feedback.\n",
    "\n",
    "                       ```\n",
    "                    \"\"\"\n",
    "\n",
    "editor_template = \"\"\"Your job is to edit an article written by a writer. Please provide constructive critiques so they can improve it for publication.\n",
    "\n",
    "                    ```EDITORIAL GUIDELINES TO FOLLOW```\n",
    "\n",
    "                      - Your feedback should be in bullet point format only.\n",
    "\n",
    "                      - The critiques should only focus on are the use of keywords, the title of the article, and the title of the headers, also make sure they include references.\n",
    "\n",
    "                      - DO NOT not give positive feedback.\n",
    "\n",
    "                      - DO NOT WRITE THE ARTICLE. You should only provide feedback in bullet point format.\n",
    "\n",
    "                      - You should NEVER accept the first draft of the article.\n",
    "\n",
    "\n",
    "                     If you think the article looks good, then simply say DONE.\n",
    "                    \"\"\""
   ]
  },
  {
   "cell_type": "code",
   "execution_count": 6,
   "metadata": {
    "id": "8SXA3_Bi5gDD"
   },
   "outputs": [],
   "source": [
    "search_agent = create_agent(\n",
    "    llm,\n",
    "    tools,\n",
    "    system_message=search_template,\n",
    ")\n",
    "\n",
    "outliner_agent = create_agent(\n",
    "    llm,\n",
    "    [],\n",
    "    system_message=outliner_template,\n",
    ")\n",
    "\n",
    "writer_agent = create_agent(\n",
    "    llm,\n",
    "    [],\n",
    "    system_message=writer_template,\n",
    ")\n",
    "\n",
    "editor_agent = create_agent(\n",
    "    llm,\n",
    "    [],\n",
    "    system_message=editor_template,\n",
    ")"
   ]
  },
  {
   "cell_type": "code",
   "execution_count": 7,
   "metadata": {
    "id": "ekpm1Iga5jnx"
   },
   "outputs": [],
   "source": [
    "# Helper function to create a node for a given agent\n",
    "def agent_node(state, agent, name):\n",
    "    result = agent.invoke(state)\n",
    "    return {\n",
    "        \"messages\": [result]\n",
    "    }"
   ]
  },
  {
   "cell_type": "code",
   "execution_count": 8,
   "metadata": {
    "id": "Q2w1uxGO5l1_"
   },
   "outputs": [],
   "source": [
    "import functools\n",
    "\n",
    "search_node = functools.partial(agent_node, agent=search_agent, name=\"Search Agent\")\n",
    "outliner_node = functools.partial(agent_node, agent=outliner_agent, name=\"Outliner Agent\")\n",
    "writer_node = functools.partial(agent_node, agent=writer_agent, name=\"Writer Agent\")\n",
    "editor_node = functools.partial(agent_node, agent=editor_agent, name=\"Editor Agent\")"
   ]
  },
  {
   "cell_type": "code",
   "execution_count": 9,
   "metadata": {
    "id": "8Ol38h6BFQ9X"
   },
   "outputs": [],
   "source": [
    "def editor_node(state):\n",
    "  result = editor_agent.invoke(state)\n",
    "  N = state[\"no_of_iterations\"] + 1\n",
    "  return {\n",
    "      \"messages\": [result],\n",
    "      \"no_of_iterations\": N\n",
    "  }"
   ]
  },
  {
   "cell_type": "code",
   "execution_count": 10,
   "metadata": {
    "id": "AV379IZg5n8T"
   },
   "outputs": [],
   "source": [
    "from langgraph.prebuilt import ToolNode\n",
    "\n",
    "# LangGraph allows for us to create tool nodes\n",
    "tool_node = ToolNode(tools)"
   ]
  },
  {
   "cell_type": "code",
   "execution_count": 11,
   "metadata": {
    "id": "gldmIh5E5p6g"
   },
   "outputs": [],
   "source": [
    "from langgraph.graph import END, StateGraph\n",
    "\n",
    "def should_search(state) -> Literal[\"tools\", \"outliner\"]:\n",
    "    messages = state['messages']\n",
    "    last_message = messages[-1]\n",
    "    # If the LLM makes a tool call, then we route to the \"tools\" node\n",
    "    if last_message.tool_calls:\n",
    "        return \"tools\"\n",
    "    # Otherwise, we stop (reply to the user)\n",
    "    return \"outliner\"\n",
    "\n",
    "def should_edit(state) -> Literal[\"writer\", END]:\n",
    "  messages = state['messages']\n",
    "  print(\"Iteration number from should_edit: \", state['no_of_iterations'])\n",
    "  last_message = messages[-1]\n",
    "\n",
    "  if 'DONE' in last_message.content or state['no_of_iterations']>=MAX_ITERATIONS:\n",
    "    return END\n",
    "\n",
    "  return \"writer\""
   ]
  },
  {
   "cell_type": "code",
   "execution_count": 12,
   "metadata": {
    "id": "US9K9nFK5r3T"
   },
   "outputs": [],
   "source": [
    "# Instantiate a new graph\n",
    "workflow = StateGraph(AgentState)\n",
    "\n",
    "# Add the nodes\n",
    "workflow.add_node(\"search\", search_node)\n",
    "workflow.add_node(\"tools\", tool_node)\n",
    "workflow.add_node(\"outliner\", outliner_node)\n",
    "workflow.add_node(\"writer\", writer_node)\n",
    "workflow.add_node(\"editor\", editor_node)\n",
    "\n",
    "# Set the entrypoint as `search`\n",
    "# This means that this node is the first one called\n",
    "workflow.set_entry_point(\"search\")\n",
    "# Add the edges\n",
    "workflow.add_conditional_edges(\n",
    "    \"search\",\n",
    "    should_search,\n",
    ")\n",
    "workflow.add_edge(\"tools\", 'search')\n",
    "workflow.add_edge(\"outliner\", \"writer\")\n",
    "workflow.add_edge(\"writer\", \"editor\")\n",
    "workflow.add_conditional_edges(\n",
    "    \"editor\",\n",
    "    should_edit\n",
    ")\n",
    "\n",
    "graph = workflow.compile()"
   ]
  },
  {
   "cell_type": "code",
   "execution_count": 13,
   "metadata": {
    "id": "0dEguIxB5tyu"
   },
   "outputs": [
    {
     "data": {
      "image/png": "[encoded data removed]",
      "text/plain": [
       "<IPython.core.display.Image object>"
      ]
     },
     "metadata": {},
     "output_type": "display_data"
    }
   ],
   "source": [
    "from IPython.display import Image, display\n",
    "from langchain_core.runnables.graph import MermaidDrawMethod\n",
    "\n",
    "display(\n",
    "    Image(\n",
    "        graph.get_graph().draw_mermaid_png(\n",
    "            draw_method=MermaidDrawMethod.API,\n",
    "        )\n",
    "    )\n",
    ")"
   ]
  },
  {
   "cell_type": "code",
   "execution_count": 14,
   "metadata": {
    "id": "n2gKd7385vu2"
   },
   "outputs": [
    {
     "name": "stdout",
     "output_type": "stream",
     "text": [
      "================================\u001b[1m Human Message \u001b[0m=================================\n",
      "\n",
      "Jaki jest potencjał wykorzystania technologii generatywnych w bankowości? Zaproponuj scenariusze użycia i przykładowe uzasadnienia biznesowe.\n",
      "==================================\u001b[1m Ai Message \u001b[0m==================================\n",
      "Tool Calls:\n",
      "  tavily_search_results_json (call_ELbYoqf0YNToRIOSKYW0uMe2)\n",
      " Call ID: call_ELbYoqf0YNToRIOSKYW0uMe2\n",
      "  Args:\n",
      "    query: generative technology in banking potential use cases\n",
      "  tavily_search_results_json (call_E68Dig3Y8xAVupS2THMw56EC)\n",
      " Call ID: call_E68Dig3Y8xAVupS2THMw56EC\n",
      "  Args:\n",
      "    query: generative AI in banking business justification\n",
      "=================================\u001b[1m Tool Message \u001b[0m=================================\n",
      "Name: tavily_search_results_json\n",
      "\n",
      "[{\"title\": \"What is generative AI in banking? - IBM\", \"url\": \"https://www.ibm.com/think/topics/generative-ai-banking\", \"content\": \"In investment banking, generative AI can compile and analyze financial data to create detailed pitchbooks in a fraction of the time it would take a human, thus accelerating deal-making and providing a competitive edge.\\nBanks are increasingly adopting generative AI to elevate customer service, streamline workflows and improve operational efficiency. This adoption advances the ongoing digital transformation of the banking industry. [...] Risk management: Generative AI can analyze market trends, financial indicators and credit histories to provide more accurate risk assessments. This ability helps banks make better-informed decisions about lending, investments and other financial activities.\\nGenerative AI in banking benefits\\nGenerative AI in banking offers numerous benefits that enhance both operational efficiency and customer experience: [...] Beyond customer service, generative AI in banking is also transforming fraud detection and risk management. By analyzing vast amounts of transaction data, AI models can identify unusual patterns that might indicate fraudulent activities. This proactive approach enables banks to mitigate risks more effectively, safeguarding customer assets. While using AI applications, data privacy and compliance with regulatory requirements are crucial for maintaining customer trust and meeting industry\", \"score\": 0.7969415}, {\"title\": \"Capturing the full value of generative AI in banking\", \"url\": \"https://www.mckinsey.com/industries/financial-services/our-insights/capturing-the-full-value-of-generative-ai-in-banking\", \"content\": \"How banks are using generative AI\\n\\nGenerative AI (gen AI) applications are maturing among a vanguard of banking institutions. Most initial applications have centered on improving customer service, agent productivity, and software development. According to McKinsey analysis, about 75 percent of the value created by gen AI across all industries to date falls under customer engagement and three other categories: content synthesis (virtual expert), content generation, and coding and software. [...] increased productivity (exhibit).3There are additional benefits to customer experience and other areas, but the projection does not include them. The economic impact will likely benefit all banking segments and functions, with the greatest absolute gains in the corporate and retail sectors ($56 billion and $54 billion, respectively; see sidebar “How banks are using generative AI”). (Notably, while banks have rightly focused on productivity in their initial gen AI pilots due to the broader [...] Customer engagement. Gen AI solutions can turn tedious, manual processes into more engaging, efficient interactions. For example, a consumer lender’s virtual assistant guides its employees through the loan application process with helpful extracts from chat history and explanations of terms, making the process more streamlined and less onerous. Some corporate banks are using gen AI to give employees an approved initial template that aids in drafting some types of servicing documentation.1Carlo\", \"score\": 0.78963995}, {\"title\": \"Generative AI in Banking: Practical Use Cases and Future Potential\", \"url\": \"https://www.trinetix.com/insights/generative-ai-in-banking\", \"content\": \"In line with approaching generative AI for innovation, banks are expected to utilize the technology to improve efficiency in existing and older AI applications. Just like that, automating customer-facing processes creates digital data records that generative AI can use to refine services and internal workflows. These records can enhance risk management, automate data collection, and streamline reporting, leading to further digitalization, end-to-end customization, better client segmentation, [...] AI reinforces risk management by generating predictive models capable of identifying potential risks and compliance issues. With its ability to stimulate various risk scenarios, generative AI can be used to develop mitigation strategies and ensure adherence to regulatory requirements. This allows businesses to reduce the burden on compliance officers, improve accuracy, and ensure timely reporting, thus avoiding costly fines and reputational damage. [...] Making part of dedicated digital assets, generative AI algorithms can improve financial forecasting by analyzing historical data and current market conditions, providing more accurate and timely predictions. Financial institutions can leverage such tools for strategic planning processes and continuously train AI models with the latest data to ensure relevance and accuracy in predictions.\\n\\nEmployee augmentation\", \"score\": 0.78314424}, {\"title\": \"AI in Banking: Applications, Benefits and Examples | Google Cloud\", \"url\": \"https://cloud.google.com/discover/ai-in-banking\", \"content\": \"While AI’s potential to improve the banking sector for both banks and their customers is significant, it should be developed and applied in a responsible manner. It’s especially important in the context of generative AI. That’s because some concerns about generative AI’s accuracy and security are particularly acute when talking about its use in regulated industries, such as the larger banking system. We identified four critical building blocks for generative AI in banking: explainability,\", \"score\": 0.7476348}, {\"title\": \"AI in Banking: Generative AI Key Use Cases and Applications - Aisera\", \"url\": \"https://aisera.com/blog/generative-ai-in-banking/\", \"content\": \"Generative AI is used in banking to reshape risk assessment and credit scoring. By creating detailed simulations of financial scenarios, generative AI tools\", \"score\": 0.7440808}]\n",
      "==================================\u001b[1m Ai Message \u001b[0m==================================\n",
      "\n",
      "Oto kilka artykułów dotyczących potencjału wykorzystania technologii generatywnych w bankowości, które przedstawiają różne scenariusze użycia oraz uzasadnienia biznesowe:\n",
      "\n",
      "1. [Generative AI in Banking — Use Cases & Challenges - ITRex](https://itrexgroup.com/blog/generative-ai-in-banking/): Artykuł omawia automatyzację rutynowych zadań w bankowości, co może znacznie obniżyć koszty operacyjne. Wskazuje na zastosowanie generatywnej AI w obsłudze klienta, automatyzacji generowania raportów oraz analizie sentymentu danych tekstowych.\n",
      "\n",
      "2. [5 Use Cases of Generative AI in Banking | SoFi](https://www.sofi.com/learn/content/use-cases-of-generative-ai-in-banking/): Zawiera przykłady zastosowania generatywnej AI w strategiach wykrywania i zapobiegania oszustwom, co może poprawić bezpieczeństwo kont klientów.\n",
      "\n",
      "3. [Generative AI in Banking: Practical Use Cases and Future Potential](https://www.trinetix.com/insights/generative-ai-in-banking): Opisuje, jak generatywna AI może być używana do tworzenia wirtualnych asystentów, generowania raportów finansowych oraz dostosowywania porad inwestycyjnych do indywidualnych potrzeb klientów.\n",
      "\n",
      "4. [Top 7 Use Cases of Generative AI In Banking Systems - TestingXperts](https://www.testingxperts.com/blog/use-cases-of-generative-ai-in-banking/): Wskazuje na wpływ generatywnej AI na zarządzanie ryzykiem, handel i badania inwestycyjne, co może przynieść korzyści w różnych aspektach działalności bankowej.\n",
      "\n",
      "5. [Generative AI in Banking: Real Use Cases & 11 Banks Using AI](https://masterofcode.com/blog/generative-ai-in-banking): Artykuł omawia, jak banki mogą wykorzystać generatywną AI do automatyzacji procesów, poprawy interakcji z klientami oraz analizy wzorców zachowań, co może prowadzić do wzrostu przychodów.\n",
      "\n",
      "6. [What is generative AI in banking? - IBM](https://www.ibm.com/think/topics/generative-ai-banking): Zawiera informacje na temat zastosowania generatywnej AI w analizie danych finansowych, co przyspiesza procesy decyzyjne i poprawia zarządzanie ryzykiem.\n",
      "\n",
      "7. [Capturing the full value of generative AI in banking](https://www.mckinsey.com/industries/financial-services/our-insights/capturing-the-full-value-of-generative-ai-in-banking): Artykuł omawia, jak generatywna AI może zwiększyć produktywność i poprawić doświadczenia klientów, co przekłada się na znaczące korzyści finansowe dla banków.\n",
      "\n",
      "8. [AI in Banking: Applications, Benefits and Examples | Google Cloud](https://cloud.google.com/discover/ai-in-banking): Podkreśla znaczenie odpowiedzialnego rozwoju i zastosowania AI w bankowości, zwracając uwagę na kwestie dokładności i bezpieczeństwa.\n",
      "\n",
      "9. [AI in Banking: Generative AI Key Use Cases and Applications - Aisera](https://aisera.com/blog/generative-ai-in-banking/): Opisuje, jak generatywna AI może zmienić ocenę ryzyka i scoring kredytowy poprzez tworzenie symulacji scenariuszy finansowych.\n",
      "\n",
      "Te artykuły dostarczają szerokiego wglądu w potencjał technologii generatywnych w bankowości, wskazując na różnorodne zastosowania, które mogą przynieść korzyści zarówno bankom, jak i ich klientom.\n",
      "==================================\u001b[1m Ai Message \u001b[0m==================================\n",
      "\n",
      "### Potencjał wykorzystania technologii generatywnych w bankowości\n",
      "\n",
      "#### Wprowadzenie\n",
      "- Krótkie wprowadzenie do technologii generatywnych i ich znaczenia w bankowości.\n",
      "- Wzrost zainteresowania generatywną AI w kontekście cyfryzacji i automatyzacji procesów bankowych.\n",
      "\n",
      "#### Scenariusze użycia technologii generatywnych w bankowości\n",
      "\n",
      "1. **Automatyzacja rutynowych zadań**\n",
      "   - Opis zastosowania generatywnej AI do automatyzacji procesów, takich jak generowanie raportów, obsługa klienta i analiza danych.\n",
      "   - Przykłady banków, które już wdrożyły takie rozwiązania (np. Fujitsu i Hokuhoku Financial Group).\n",
      "   - Źródło: [ITRex](https://itrexgroup.com/blog/generative-ai-in-banking/)\n",
      "\n",
      "2. **Wykrywanie i zapobieganie oszustwom**\n",
      "   - Jak generatywna AI może poprawić strategie wykrywania oszustw poprzez analizę wzorców transakcji.\n",
      "   - Przykłady zastosowań w bankach.\n",
      "   - Źródło: [SoFi](https://www.sofi.com/learn/content/use-cases-of-generative-ai-in-banking/)\n",
      "\n",
      "3. **Personalizacja usług finansowych**\n",
      "   - Wykorzystanie generatywnej AI do tworzenia spersonalizowanych porad inwestycyjnych i ofert dla klientów.\n",
      "   - Przykłady wirtualnych asystentów w bankowości.\n",
      "   - Źródło: [Trinetix](https://www.trinetix.com/insights/generative-ai-in-banking)\n",
      "\n",
      "4. **Zarządzanie ryzykiem i ocena kredytowa**\n",
      "   - Jak generatywna AI może wspierać banki w analizie ryzyka i tworzeniu dokładniejszych modeli oceny kredytowej.\n",
      "   - Przykłady symulacji scenariuszy finansowych.\n",
      "   - Źródło: [Aisera](https://aisera.com/blog/generative-ai-in-banking/)\n",
      "\n",
      "5. **Zwiększenie efektywności operacyjnej**\n",
      "   - Wpływ generatywnej AI na poprawę efektywności operacyjnej i zwiększenie produktywności w bankach.\n",
      "   - Przykłady zastosowań w różnych działach bankowych.\n",
      "   - Źródło: [McKinsey](https://www.mckinsey.com/industries/financial-services/our-insights/capturing-the-full-value-of-generative-ai-in-banking)\n",
      "\n",
      "#### Uzasadnienia biznesowe\n",
      "\n",
      "- **Redukcja kosztów operacyjnych**\n",
      "  - Automatyzacja procesów prowadzi do zmniejszenia wydatków na pracowników i zwiększenia efektywności.\n",
      "  - Źródło: [ITRex](https://itrexgroup.com/blog/generative-ai-in-banking/)\n",
      "\n",
      "- **Zwiększenie przychodów**\n",
      "  - Generatywna AI może pomóc w identyfikacji nowych możliwości rynkowych i tworzeniu spersonalizowanych ofert, co prowadzi do wzrostu przychodów.\n",
      "  - Źródło: [Master of Code](https://masterofcode.com/blog/generative-ai-in-banking)\n",
      "\n",
      "- **Poprawa doświadczeń klientów**\n",
      "  - Umożliwienie szybszej i bardziej efektywnej obsługi klienta, co zwiększa satysfakcję i lojalność klientów.\n",
      "  - Źródło: [IBM](https://www.ibm.com/think/topics/generative-ai-banking)\n",
      "\n",
      "- **Zarządzanie ryzykiem**\n",
      "  - Lepsze modele oceny ryzyka i zgodności z regulacjami, co zmniejsza ryzyko finansowe i reputacyjne.\n",
      "  - Źródło: [Trinetix](https://www.trinetix.com/insights/generative-ai-in-banking)\n",
      "\n",
      "#### Podsumowanie\n",
      "- Krótkie podsumowanie kluczowych punktów dotyczących potencjału generatywnej AI w bankowości.\n",
      "- Wskazanie na przyszłość technologii i jej wpływ na rozwój sektora bankowego.\n",
      "\n",
      "### Źródła do wykorzystania w artykule\n",
      "1. [ITRex](https://itrexgroup.com/blog/generative-ai-in-banking/)\n",
      "2. [SoFi](https://www.sofi.com/learn/content/use-cases-of-generative-ai-in-banking/)\n",
      "3. [Trinetix](https://www.trinetix.com/insights/generative-ai-in-banking)\n",
      "4. [Master of Code](https://masterofcode.com/blog/generative-ai-in-banking)\n",
      "5. [IBM](https://www.ibm.com/think/topics/generative-ai-banking)\n",
      "6. [McKinsey](https://www.mckinsey.com/industries/financial-services/our-insights/capturing-the-full-value-of-generative-ai-in-banking)\n",
      "7. [Aisera](https://aisera.com/blog/generative-ai-in-banking/) \n",
      "\n",
      "Taki zarys artykułu pomoże w zrozumieniu potencjału technologii generatywnych w bankowości oraz ich zastosowań i korzyści biznesowych.\n",
      "==================================\u001b[1m Ai Message \u001b[0m==================================\n",
      "\n",
      "### POTENCJAŁ WYKORZYSTANIA TECHNOLOGII GENERATYWNYCH W BANKOWOŚCI\n",
      "\n",
      "#### Wprowadzenie\n",
      "Technologie generatywne, w tym sztuczna inteligencja (AI), zyskują na znaczeniu w różnych branżach, w tym w bankowości. Ich potencjał do automatyzacji procesów, poprawy obsługi klienta oraz zwiększenia efektywności operacyjnej staje się kluczowym elementem strategii cyfrowej transformacji banków.\n",
      "\n",
      "#### Scenariusze użycia technologii generatywnych w bankowości\n",
      "\n",
      "1. **Automatyzacja rutynowych zadań**\n",
      "   - Generatywna AI może automatyzować procesy, takie jak generowanie raportów, obsługa klienta i analiza danych. Przykłady banków, które już wdrożyły takie rozwiązania, to Fujitsu i Hokuhoku Financial Group, które testują generowanie odpowiedzi na zapytania wewnętrzne oraz tworzenie dokumentów biznesowych.\n",
      "   - Źródło: [ITRex](https://itrexgroup.com/blog/generative-ai-in-banking/)\n",
      "\n",
      "2. **Wykrywanie i zapobieganie oszustwom**\n",
      "   - Generatywna AI może poprawić strategie wykrywania oszustw poprzez analizę wzorców transakcji. Dzięki temu banki mogą lepiej chronić konta klientów przed nieautoryzowanymi transakcjami.\n",
      "   - Źródło: [SoFi](https://www.sofi.com/learn/content/use-cases-of-generative-ai-in-banking/)\n",
      "\n",
      "3. **Personalizacja usług finansowych**\n",
      "   - Wykorzystanie generatywnej AI do tworzenia spersonalizowanych porad inwestycyjnych oraz ofert dla klientów. Przykłady wirtualnych asystentów, które pomagają klientom w zarządzaniu finansami, stają się coraz bardziej powszechne.\n",
      "   - Źródło: [Trinetix](https://www.trinetix.com/insights/generative-ai-in-banking)\n",
      "\n",
      "4. **Zarządzanie ryzykiem i ocena kredytowa**\n",
      "   - Generatywna AI wspiera banki w analizie ryzyka i tworzeniu dokładniejszych modeli oceny kredytowej. Dzięki symulacjom scenariuszy finansowych banki mogą lepiej przewidywać potencjalne ryzyka.\n",
      "   - Źródło: [Aisera](https://aisera.com/blog/generative-ai-in-banking/)\n",
      "\n",
      "5. **Zwiększenie efektywności operacyjnej**\n",
      "   - Wpływ generatywnej AI na poprawę efektywności operacyjnej i zwiększenie produktywności w bankach. Automatyzacja procesów prowadzi do oszczędności czasu i zasobów.\n",
      "   - Źródło: [McKinsey](https://www.mckinsey.com/industries/financial-services/our-insights/capturing-the-full-value-of-generative-ai-in-banking)\n",
      "\n",
      "#### Uzasadnienia biznesowe\n",
      "\n",
      "- **Redukcja kosztów operacyjnych**\n",
      "  - Automatyzacja procesów prowadzi do zmniejszenia wydatków na pracowników i zwiększenia efektywności. Banki mogą zaoszczędzić znaczące kwoty, eliminując rutynowe zadania.\n",
      "  - Źródło: [ITRex](https://itrexgroup.com/blog/generative-ai-in-banking/)\n",
      "\n",
      "- **Zwiększenie przychodów**\n",
      "  - Generatywna AI może pomóc w identyfikacji nowych możliwości rynkowych i tworzeniu spersonalizowanych ofert, co prowadzi do wzrostu przychodów. Przewiduje się, że generatywna AI może zwiększyć przychody banków o 200-340 miliardów dolarów.\n",
      "  - Źródło: [Master of Code](https://masterofcode.com/blog/generative-ai-in-banking)\n",
      "\n",
      "- **Poprawa doświadczeń klientów**\n",
      "  - Umożliwienie szybszej i bardziej efektywnej obsługi klienta, co zwiększa satysfakcję i lojalność klientów. Wirtualni asystenci mogą znacznie poprawić interakcje z klientami.\n",
      "  - Źródło: [IBM](https://www.ibm.com/think/topics/generative-ai-banking)\n",
      "\n",
      "- **Zarządzanie ryzykiem**\n",
      "  - Lepsze modele oceny ryzyka i zgodności z regulacjami, co zmniejsza ryzyko finansowe i reputacyjne. Generatywna AI może pomóc w identyfikacji potencjalnych problemów z zgodnością.\n",
      "  - Źródło: [Trinetix](https://www.trinetix.com/insights/generative-ai-in-banking)\n",
      "\n",
      "#### Podsumowanie\n",
      "Technologie generatywne mają ogromny potencjał w bankowości, oferując różnorodne zastosowania, które mogą przynieść korzyści zarówno bankom, jak i ich klientom. W miarę jak banki coraz bardziej integrują te technologie w swoje operacje, można oczekiwać dalszego wzrostu efektywności, innowacyjności i satysfakcji klientów.\n",
      "\n",
      "### Źródła do wykorzystania w artykule\n",
      "1. [ITRex](https://itrexgroup.com/blog/generative-ai-in-banking/)\n",
      "2. [SoFi](https://www.sofi.com/learn/content/use-cases-of-generative-ai-in-banking/)\n",
      "3. [Trinetix](https://www.trinetix.com/insights/generative-ai-in-banking)\n",
      "4. [Master of Code](https://masterofcode.com/blog/generative-ai-in-banking)\n",
      "5. [IBM](https://www.ibm.com/think/topics/generative-ai-banking)\n",
      "6. [McKinsey](https://www.mckinsey.com/industries/financial-services/our-insights/capturing-the-full-value-of-generative-ai-in-banking)\n",
      "7. [Aisera](https://aisera.com/blog/generative-ai-in-banking/) \n",
      "\n",
      "Artykuł ten ma na celu przedstawienie potencjału technologii generatywnych w bankowości oraz ich zastosowań i korzyści biznesowych.\n",
      "Iteration number from should_edit:  1\n",
      "==================================\u001b[1m Ai Message \u001b[0m==================================\n",
      "\n",
      "- **Użycie słów kluczowych**: Artykuł powinien zawierać więcej słów kluczowych związanych z technologią generatywną, takich jak \"sztuczna inteligencja\", \"automatyzacja\", \"personalizacja usług\", \"zarządzanie ryzykiem\", \"wirtualni asystenci\". Użycie tych terminów w nagłówkach i treści pomoże w lepszym pozycjonowaniu w wyszukiwarkach.\n",
      "\n",
      "- **Tytuł artykułu**: Tytuł \"Potencjał wykorzystania technologii generatywnych w bankowości\" jest zbyt ogólny. Proponuję bardziej chwytliwy tytuł, np. \"Jak generatywna AI rewolucjonizuje bankowość: Przykłady i korzyści\". Taki tytuł lepiej oddaje temat i przyciąga uwagę czytelników.\n",
      "\n",
      "- **Nagłówki**: Nagłówki w artykule powinny być bardziej zróżnicowane i zawierać słowa kluczowe. Na przykład:\n",
      "  - Zamiast \"Scenariusze użycia technologii generatywnych w bankowości\", lepiej użyć \"Praktyczne zastosowania generatywnej AI w bankowości\".\n",
      "  - Zamiast \"Uzasadnienia biznesowe\", proponuję \"Dlaczego banki powinny inwestować w generatywną AI?\".\n",
      "  - Użycie pytań w nagłówkach, takich jak \"Jak generatywna AI może poprawić obsługę klienta w bankowości?\", może zwiększyć zaangażowanie czytelników.\n",
      "\n",
      "- **Referencje**: W artykule brakuje odniesień do konkretnych badań lub raportów, które potwierdzają przedstawione argumenty. Warto dodać cytaty lub dane z wiarygodnych źródeł, aby wzmocnić argumentację. Na przykład, można przytoczyć raporty McKinsey lub IBM dotyczące wpływu AI na bankowość.\n",
      "\n",
      "- **Struktura artykułu**: Artykuł powinien być bardziej zorganizowany, z wyraźnymi sekcjami i podsekcjami. Ułatwi to czytelnikom nawigację i zrozumienie treści. Proponuję dodać spis treści na początku artykułu.\n",
      "\n",
      "- **Podsumowanie**: W sekcji podsumowania warto podkreślić kluczowe wnioski i przyszłe kierunki rozwoju technologii generatywnych w bankowości, aby czytelnicy mieli jasny obraz tego, co mogą oczekiwać w przyszłości.\n",
      "\n",
      "Zastosowanie powyższych sugestii pomoże w poprawie jakości artykułu i zwiększy jego szanse na publikację.\n",
      "==================================\u001b[1m Ai Message \u001b[0m==================================\n",
      "\n",
      "### JAK GENERATYWNA AI REWOLUCJONUJE BANKOWOŚĆ: PRZYKŁADY I KORZYŚCI\n",
      "\n",
      "#### Wprowadzenie\n",
      "Technologie generatywne, w tym sztuczna inteligencja (AI), zyskują na znaczeniu w różnych branżach, w tym w bankowości. Ich potencjał do automatyzacji procesów, poprawy obsługi klienta oraz zwiększenia efektywności operacyjnej staje się kluczowym elementem strategii cyfrowej transformacji banków.\n",
      "\n",
      "#### Praktyczne zastosowania generatywnej AI w bankowości\n",
      "\n",
      "1. **Automatyzacja rutynowych zadań**\n",
      "   - Generatywna AI może automatyzować procesy, takie jak generowanie raportów, obsługa klienta i analiza danych. Przykłady banków, które już wdrożyły takie rozwiązania, to Fujitsu i Hokuhoku Financial Group, które testują generowanie odpowiedzi na zapytania wewnętrzne oraz tworzenie dokumentów biznesowych.\n",
      "   - Źródło: [ITRex](https://itrexgroup.com/blog/generative-ai-in-banking/)\n",
      "\n",
      "2. **Wykrywanie i zapobieganie oszustwom**\n",
      "   - Generatywna AI może poprawić strategie wykrywania oszustw poprzez analizę wzorców transakcji. Dzięki temu banki mogą lepiej chronić konta klientów przed nieautoryzowanymi transakcjami.\n",
      "   - Źródło: [SoFi](https://www.sofi.com/learn/content/use-cases-of-generative-ai-in-banking/)\n",
      "\n",
      "3. **Personalizacja usług finansowych**\n",
      "   - Wykorzystanie generatywnej AI do tworzenia spersonalizowanych porad inwestycyjnych oraz ofert dla klientów. Przykłady wirtualnych asystentów, które pomagają klientom w zarządzaniu finansami, stają się coraz bardziej powszechne.\n",
      "   - Źródło: [Trinetix](https://www.trinetix.com/insights/generative-ai-in-banking)\n",
      "\n",
      "4. **Zarządzanie ryzykiem i ocena kredytowa**\n",
      "   - Generatywna AI wspiera banki w analizie ryzyka i tworzeniu dokładniejszych modeli oceny kredytowej. Dzięki symulacjom scenariuszy finansowych banki mogą lepiej przewidywać potencjalne ryzyka.\n",
      "   - Źródło: [Aisera](https://aisera.com/blog/generative-ai-in-banking/)\n",
      "\n",
      "5. **Zwiększenie efektywności operacyjnej**\n",
      "   - Wpływ generatywnej AI na poprawę efektywności operacyjnej i zwiększenie produktywności w bankach. Automatyzacja procesów prowadzi do oszczędności czasu i zasobów.\n",
      "   - Źródło: [McKinsey](https://www.mckinsey.com/industries/financial-services/our-insights/capturing-the-full-value-of-generative-ai-in-banking)\n",
      "\n",
      "#### Dlaczego banki powinny inwestować w generatywną AI?\n",
      "\n",
      "- **Redukcja kosztów operacyjnych**\n",
      "  - Automatyzacja procesów prowadzi do zmniejszenia wydatków na pracowników i zwiększenia efektywności. Banki mogą zaoszczędzić znaczące kwoty, eliminując rutynowe zadania.\n",
      "  - Źródło: [ITRex](https://itrexgroup.com/blog/generative-ai-in-banking/)\n",
      "\n",
      "- **Zwiększenie przychodów**\n",
      "  - Generatywna AI może pomóc w identyfikacji nowych możliwości rynkowych i tworzeniu spersonalizowanych ofert, co prowadzi do wzrostu przychodów. Przewiduje się, że generatywna AI może zwiększyć przychody banków o 200-340 miliardów dolarów.\n",
      "  - Źródło: [Master of Code](https://masterofcode.com/blog/generative-ai-in-banking)\n",
      "\n",
      "- **Poprawa doświadczeń klientów**\n",
      "  - Umożliwienie szybszej i bardziej efektywnej obsługi klienta, co zwiększa satysfakcję i lojalność klientów. Wirtualni asystenci mogą znacznie poprawić interakcje z klientami.\n",
      "  - Źródło: [IBM](https://www.ibm.com/think/topics/generative-ai-banking)\n",
      "\n",
      "- **Zarządzanie ryzykiem**\n",
      "  - Lepsze modele oceny ryzyka i zgodności z regulacjami, co zmniejsza ryzyko finansowe i reputacyjne. Generatywna AI może pomóc w identyfikacji potencjalnych problemów z zgodnością.\n",
      "  - Źródło: [Trinetix](https://www.trinetix.com/insights/generative-ai-in-banking)\n",
      "\n",
      "#### Podsumowanie\n",
      "Technologie generatywne mają ogromny potencjał w bankowości, oferując różnorodne zastosowania, które mogą przynieść korzyści zarówno bankom, jak i ich klientom. W miarę jak banki coraz bardziej integrują te technologie w swoje operacje, można oczekiwać dalszego wzrostu efektywności, innowacyjności i satysfakcji klientów.\n",
      "\n",
      "### Źródła do wykorzystania w artykule\n",
      "1. [ITRex](https://itrexgroup.com/blog/generative-ai-in-banking/)\n",
      "2. [SoFi](https://www.sofi.com/learn/content/use-cases-of-generative-ai-in-banking/)\n",
      "3. [Trinetix](https://www.trinetix.com/insights/generative-ai-in-banking)\n",
      "4. [Master of Code](https://masterofcode.com/blog/generative-ai-in-banking)\n",
      "5. [IBM](https://www.ibm.com/think/topics/generative-ai-banking)\n",
      "6. [McKinsey](https://www.mckinsey.com/industries/financial-services/our-insights/capturing-the-full-value-of-generative-ai-in-banking)\n",
      "7. [Aisera](https://aisera.com/blog/generative-ai-in-banking/) \n",
      "\n",
      "Artykuł ten ma na celu przedstawienie potencjału technologii generatywnych w bankowości oraz ich zastosowań i korzyści biznesowych.\n",
      "Iteration number from should_edit:  2\n",
      "==================================\u001b[1m Ai Message \u001b[0m==================================\n",
      "\n",
      "DONE\n"
     ]
    }
   ],
   "source": [
    "from langchain_core.messages import HumanMessage\n",
    "\n",
    "\n",
    "thread = {\"configurable\": {\"thread_id\": \"1\"}}\n",
    "\n",
    "MAX_ITERATIONS = 3\n",
    "\n",
    "question = \"Jaki jest potencjał wykorzystania technologii generatywnych w bankowości? Zaproponuj scenariusze użycia i przykładowe uzasadnienia biznesowe.\"\n",
    "input_message = HumanMessage(content=question)\n",
    "\n",
    "for event in graph.stream({\"messages\": [input_message], \"no_of_iterations\":0}, thread, stream_mode=\"values\"):\n",
    "    event[\"messages\"][-1].pretty_print()"
   ]
  },
  {
   "cell_type": "markdown",
   "metadata": {
    "id": "PKPLo8aSICSM"
   },
   "source": [
    "# Human in the loop"
   ]
  },
  {
   "cell_type": "code",
   "execution_count": 15,
   "metadata": {
    "id": "iD5X1inL7RXE"
   },
   "outputs": [],
   "source": [
    "from langgraph.checkpoint.memory import MemorySaver\n",
    "\n",
    "checkpointer = MemorySaver()\n",
    "\n",
    "graph = workflow.compile(checkpointer=checkpointer, interrupt_before=['editor'])"
   ]
  },
  {
   "cell_type": "code",
   "execution_count": 16,
   "metadata": {
    "id": "yp9jKvnSIVYz"
   },
   "outputs": [
    {
     "data": {
      "image/png": "[encoded data removed]",
      "text/plain": [
       "<IPython.core.display.Image object>"
      ]
     },
     "metadata": {},
     "output_type": "display_data"
    }
   ],
   "source": [
    "display(\n",
    "    Image(\n",
    "        graph.get_graph().draw_mermaid_png(\n",
    "            draw_method=MermaidDrawMethod.API,\n",
    "        )\n",
    "    )\n",
    ")"
   ]
  },
  {
   "cell_type": "code",
   "execution_count": 17,
   "metadata": {
    "id": "7o3W7IQ8cNwt"
   },
   "outputs": [
    {
     "name": "stdout",
     "output_type": "stream",
     "text": [
      "================================\u001b[1m Human Message \u001b[0m=================================\n",
      "\n",
      "What is the business potential of multi-agent systems based on large language models?\n",
      "==================================\u001b[1m Ai Message \u001b[0m==================================\n",
      "Tool Calls:\n",
      "  tavily_search_results_json (call_b7Vw9EIVvlJZriuoUREmnFKk)\n",
      " Call ID: call_b7Vw9EIVvlJZriuoUREmnFKk\n",
      "  Args:\n",
      "    query: business potential of multi-agent systems based on large language models\n",
      "=================================\u001b[1m Tool Message \u001b[0m=================================\n",
      "Name: tavily_search_results_json\n",
      "\n",
      "[{\"title\": \"How Multi-Agent LLMs Working Together Will Impact Business\", \"url\": \"https://www.forbes.com/councils/forbesbusinessdevelopmentcouncil/2023/11/28/how-multi-agent-llms-working-together-will-impact-business/\", \"content\": \"Our journey through the emerging world of multi-agent large language models reveals a landscape teeming with excitement and potential. From redefining the customer experience to driving global collaboration, they set the stage for a brighter, more connected future for businesses. How swiftly can you embrace their power? Are you ready for the next big leap?\\n\\nForbes Business Development Council is an invitation-only community for sales and biz dev executives. Do I qualify? [...] Multiple AI agents working together harness a power one large language model can’t access on its own: collective intelligence. By distributing tasks among agents, each excels in its own specialty.\\n\\nWe’ve long recognized that people aren’t natural multitaskers. When we apply that same principle to AI, it becomes easy to imagine the power of agents within a multi-agent language model, where specialization and seamless cooperation go hand in hand. [...] Imagine a world where one AI agent says, “I'm reviewing our Wi-Fi infrastructure audit. It looks quite comprehensive.” Another replies, “Indeed, but did you consider potential security vulnerabilities in the guest network?”\\n\\nThis is just the beginning of the fascinating journey we’re about to embark on, so let’s dive into the game-changing impact of multi-agent large language models.\\n\\nWelcome To The Multi-Agent Language Model Revolution\", \"score\": 0.86981434}, {\"title\": \"A survey on LLM-based multi-agent systems: workflow, infrastructure ...\", \"url\": \"https://link.springer.com/article/10.1007/s44336-024-00009-2\", \"content\": \"Large language models (LLMs) have demonstrated exceptional potential in reasoning and planning, aligning precisely with the human expectations for LLM-based agents capable of perceiving their surroundings, making decisions, and taking actions within an interactive environment. Motivated by this, LLM-based agents have made significant strides in interacting with complex environments and solving intricate tasks across a wide range of applications [1], akin to human life in society. Notably, [...] The pursuit of more intelligent and credible autonomous systems, akin to human society, has been a long-standing endeavor for humans. Leveraging the exceptional reasoning and planning capabilities of large language models (LLMs), LLM-based agents have been proposed and have achieved remarkable success across a wide array of tasks. Notably, LLM-based multi-agent systems (MAS) are considered a promising pathway towards realizing general artificial intelligence that is equivalent to or surpasses [...] V. Pallagani, B.C. Muppasani, K. Roy, F. Fabiano, A. Loreggia, K. Murugesan, B. Srivastava, F. Rossi, L. Horesh, A. Sheth, On the prospects of incorporating large language models (llms) in automated planning and scheduling (aps). in Proceedings of the International Conference on Automated Planning and Scheduling (AAAI Press, Washington, DC, USA). 34(2024), pp. 432–444\", \"score\": 0.8655088}, {\"title\": \"LLM-based Multi-Agent Systems: Techniques and Business ... - arXiv\", \"url\": \"https://arxiv.org/html/2411.14033v2\", \"content\": \"In this paper, we provide our analysis on the future development of LLM-based Multi-Agent Systems (LaMAS) from the perspectives of techniques and business. Technically, compared to the traditional single-LLM-agent systems, LaMAS has a higher potential for overall performance and system flexibility; and commercially, LaMAS brings the feasibility of proprietary data preservability and monetization through traffic and intelligence, which essentially incentivizes various entities to contribute to [...] Report issue for preceding elementIn the era of (multi-modal) large language models, most operational processes can be reformulated and reproduced using LLM agents. The LLM agents can perceive, control, and get feedback from the environment so as to accomplish the given tasks in an autonomous manner. Besides the environment-interaction property, the LLM agents can call various external tools to ease the task completion process. The tools can be regarded as a predefined operational process with [...] Guo et al. (2024)↑ Taicheng Guo, Xiuying Chen, Yaqi Wang, Ruidi Chang, Shichao Pei, Nitesh V. Chawla, Olaf Wiest, and Xiangliang Zhang. 2024. Large Language Model based Multi-Agents: A Survey of Progress and Challenges. arXiv:2402.01680 [cs.CL] https://arxiv.org/abs/2402.01680\", \"score\": 0.84027237}, {\"title\": \"Understanding the Future of Multi-Agent LLM Systems and their ...\", \"url\": \"https://www.ema.co/additional-blogs/addition-blogs/understanding-the-future-of-multi-agent-llm-systems-and-their-architecture\", \"content\": \"Copy Link\\nDo you know, as per Gartner, over 80% of enterprise workloads are expected to be run on AI-driven systems by 2026? And multi-agent Large Language Models (LLMs) will be playing a significant role in these AI-driven systems.\\nFor companies looking to streamline operations, improve productivity, and maintain a competitive edge, understanding the architecture and future of these systems is more important than ever. [...] For example, a customer support agent can pass customer feedback directly to a data analytics agent, which then identifies patterns and suggests product improvements.\\nLikewise, procurement agents can notify HR agents about potential supply chain issues, prompting them to adjust workforce requirements proactively.\\nThis cross-functional collaboration turns multi-agent LLM systems into a form of collective intelligence capable of addressing complex, multi-layered business challenges.\", \"score\": 0.79484755}, {\"title\": \"[PDF] The rise and potential of large language model based agents: a survey\", \"url\": \"http://scis.scichina.com/en/2025/121101.pdf\", \"content\": \"With their versatile capabilities, large language models (LLMs) pave a promising path for the development of general AI agents, and substantial\", \"score\": 0.78054583}]\n",
      "==================================\u001b[1m Ai Message \u001b[0m==================================\n",
      "\n",
      "Here are some relevant articles discussing the business potential of multi-agent systems based on large language models:\n",
      "\n",
      "1. [How Multi-Agent LLMs Working Together Will Impact Business](https://www.forbes.com/councils/forbesbusinessdevelopmentcouncil/2023/11/28/how-multi-agent-llms-working-together-will-impact-business/) - This article explores the transformative potential of multi-agent large language models (LLMs) in redefining customer experiences and enhancing global collaboration, emphasizing the power of collective intelligence through specialized agents.\n",
      "\n",
      "2. [A survey on LLM-based multi-agent systems: workflow, infrastructure ...](https://link.springer.com/article/10.1007/s44336-024-00009-2) - This survey discusses the capabilities of LLM-based agents in reasoning and planning, highlighting their success in complex environments and their potential to contribute to the development of general artificial intelligence.\n",
      "\n",
      "3. [LLM-based Multi-Agent Systems: Techniques and Business ... - arXiv](https://arxiv.org/html/2411.14033v2) - This paper analyzes the future of LLM-based multi-agent systems (LaMAS) from both technical and commercial perspectives, noting their potential for improved performance, flexibility, and data monetization.\n",
      "\n",
      "4. [Understanding the Future of Multi-Agent LLM Systems and their ...](https://www.ema.co/additional-blogs/addition-blogs/understanding-the-future-of-multi-agent-llm-systems-and-their-architecture) - This article discusses the expected impact of multi-agent LLM systems on enterprise workloads and their role in streamlining operations and enhancing productivity through cross-functional collaboration.\n",
      "\n",
      "5. [The rise and potential of large language model based agents: a survey](http://scis.scichina.com/en/2025/121101.pdf) - This survey highlights the versatile capabilities of large language models and their promising path toward developing general AI agents.\n",
      "\n",
      "These articles provide insights into the capabilities, applications, and future potential of multi-agent systems based on large language models in the business landscape.\n",
      "==================================\u001b[1m Ai Message \u001b[0m==================================\n",
      "\n",
      "### Outline for the Article: \"The Business Potential of Multi-Agent Systems Based on Large Language Models\"\n",
      "\n",
      "#### Introduction\n",
      "- Define multi-agent systems (MAS) and large language models (LLMs).\n",
      "- Briefly explain the significance of combining MAS with LLMs in the context of business.\n",
      "- State the purpose of the article: to explore the business potential of these systems.\n",
      "\n",
      "#### 1. Understanding Multi-Agent Systems and Large Language Models\n",
      "- Explain what multi-agent systems are and how they function.\n",
      "- Describe large language models and their capabilities.\n",
      "- Discuss the synergy between MAS and LLMs, emphasizing collective intelligence.\n",
      "\n",
      "#### 2. Current Applications of Multi-Agent LLMs in Business\n",
      "- **Customer Experience Enhancement**\n",
      "  - Examples of how multi-agent systems can improve customer service (e.g., customer support agents collaborating with data analytics agents).\n",
      "- **Operational Efficiency**\n",
      "  - Discuss how MAS can streamline workflows and improve productivity across departments.\n",
      "- **Decision-Making Support**\n",
      "  - Explain how LLMs can assist in complex decision-making processes through data analysis and insights.\n",
      "\n",
      "#### 3. Advantages of Multi-Agent Systems Based on LLMs\n",
      "- **Specialization and Task Distribution**\n",
      "  - Discuss the benefits of having specialized agents for different tasks.\n",
      "- **Scalability and Flexibility**\n",
      "  - Explain how these systems can adapt to changing business needs and scale operations.\n",
      "- **Data Monetization and Proprietary Data Preservation**\n",
      "  - Explore the potential for businesses to monetize insights generated by these systems.\n",
      "\n",
      "#### 4. Challenges and Considerations\n",
      "- **Integration with Existing Systems**\n",
      "  - Discuss potential hurdles in integrating MAS with current business processes.\n",
      "- **Ethical and Security Concerns**\n",
      "  - Address concerns related to data privacy and the ethical use of AI.\n",
      "- **Dependence on Quality Data**\n",
      "  - Highlight the importance of high-quality data for effective functioning of LLMs.\n",
      "\n",
      "#### 5. Future Trends and Predictions\n",
      "- **Growth of AI-Driven Workloads**\n",
      "  - Reference Gartner's prediction about AI-driven systems in enterprises.\n",
      "- **Advancements in Technology**\n",
      "  - Discuss expected technological advancements that will enhance the capabilities of multi-agent LLMs.\n",
      "- **Potential for General Artificial Intelligence**\n",
      "  - Speculate on the long-term implications of MAS and LLMs in achieving general AI.\n",
      "\n",
      "#### Conclusion\n",
      "- Summarize the key points discussed in the article.\n",
      "- Emphasize the transformative potential of multi-agent systems based on large language models for businesses.\n",
      "- Call to action for businesses to explore and adopt these technologies.\n",
      "\n",
      "#### Sources to Include\n",
      "1. [How Multi-Agent LLMs Working Together Will Impact Business](https://www.forbes.com/councils/forbesbusinessdevelopmentcouncil/2023/11/28/how-multi-agent-llms-working-together-will-impact-business/)\n",
      "2. [A survey on LLM-based multi-agent systems: workflow, infrastructure ...](https://link.springer.com/article/10.1007/s44336-024-00009-2)\n",
      "3. [LLM-based Multi-Agent Systems: Techniques and Business ... - arXiv](https://arxiv.org/html/2411.14033v2)\n",
      "4. [Understanding the Future of Multi-Agent LLM Systems and their ...](https://www.ema.co/additional-blogs/addition-blogs/understanding-the-future-of-multi-agent-llm-systems-and-their-architecture)\n",
      "5. [The rise and potential of large language model based agents: a survey](http://scis.scichina.com/en/2025/121101.pdf)\n",
      "\n",
      "This outline provides a structured approach to discussing the business potential of multi-agent systems based on large language models, incorporating insights from various sources.\n",
      "==================================\u001b[1m Ai Message \u001b[0m==================================\n",
      "\n",
      "                        TITLE: The Business Potential of Multi-Agent Systems Based on Large Language Models\n",
      "                        \n",
      "                        BODY: \n",
      "                        \n",
      "#### Introduction\n",
      "In the rapidly evolving landscape of artificial intelligence, multi-agent systems (MAS) and large language models (LLMs) are emerging as powerful tools that can transform business operations. Multi-agent systems consist of multiple interacting intelligent agents that can collaborate to solve complex problems, while large language models are advanced AI systems capable of understanding and generating human-like text. This article explores the business potential of combining these two technologies, highlighting their applications, advantages, challenges, and future trends.\n",
      "\n",
      "#### 1. Understanding Multi-Agent Systems and Large Language Models\n",
      "Multi-agent systems are designed to enable multiple agents to work together, each specializing in different tasks. This collaborative approach allows for more efficient problem-solving and decision-making. Large language models, on the other hand, leverage vast amounts of data to understand context, generate text, and provide insights. When combined, MAS and LLMs create a powerful synergy that enhances collective intelligence, enabling businesses to tackle complex challenges more effectively.\n",
      "\n",
      "#### 2. Current Applications of Multi-Agent LLMs in Business\n",
      "- **Customer Experience Enhancement**: Multi-agent systems can significantly improve customer service by allowing different agents to collaborate. For instance, a customer support agent can work alongside a data analytics agent to analyze customer feedback and suggest product improvements.\n",
      "  \n",
      "- **Operational Efficiency**: These systems streamline workflows by automating repetitive tasks and facilitating communication between departments. For example, procurement agents can notify HR agents about potential supply chain issues, prompting proactive adjustments to workforce requirements.\n",
      "\n",
      "- **Decision-Making Support**: LLMs can assist in complex decision-making processes by analyzing data and providing actionable insights, helping businesses make informed choices.\n",
      "\n",
      "#### 3. Advantages of Multi-Agent Systems Based on LLMs\n",
      "- **Specialization and Task Distribution**: By having specialized agents for different tasks, businesses can enhance efficiency and effectiveness in operations.\n",
      "  \n",
      "- **Scalability and Flexibility**: Multi-agent systems can easily adapt to changing business needs, allowing organizations to scale operations without significant overhead.\n",
      "\n",
      "- **Data Monetization and Proprietary Data Preservation**: These systems enable businesses to monetize insights generated from data analysis while preserving proprietary information, creating new revenue streams.\n",
      "\n",
      "#### 4. Challenges and Considerations\n",
      "- **Integration with Existing Systems**: One of the primary challenges is integrating MAS with current business processes, which may require significant changes to existing workflows.\n",
      "\n",
      "- **Ethical and Security Concerns**: As with any AI technology, there are concerns related to data privacy and the ethical use of AI, which businesses must address to maintain trust.\n",
      "\n",
      "- **Dependence on Quality Data**: The effectiveness of LLMs relies heavily on the quality of data they are trained on, making data management a critical factor for success.\n",
      "\n",
      "#### 5. Future Trends and Predictions\n",
      "- **Growth of AI-Driven Workloads**: According to Gartner, over 80% of enterprise workloads are expected to be run on AI-driven systems by 2026, with multi-agent LLMs playing a significant role in this transition.\n",
      "\n",
      "- **Advancements in Technology**: Continued advancements in AI technology will enhance the capabilities of multi-agent systems, making them more effective and accessible for businesses.\n",
      "\n",
      "- **Potential for General Artificial Intelligence**: The long-term implications of MAS and LLMs could lead to the development of general AI, capable of performing a wide range of tasks with human-like intelligence.\n",
      "\n",
      "#### Conclusion\n",
      "The integration of multi-agent systems and large language models presents a transformative opportunity for businesses. By leveraging the strengths of both technologies, organizations can enhance customer experiences, improve operational efficiency, and make better-informed decisions. As the landscape of AI continues to evolve, businesses that embrace these innovations will be well-positioned to thrive in an increasingly competitive environment.\n",
      "\n",
      "#### Sources\n",
      "1. [How Multi-Agent LLMs Working Together Will Impact Business](https://www.forbes.com/councils/forbesbusinessdevelopmentcouncil/2023/11/28/how-multi-agent-llms-working-together-will-impact-business/)\n",
      "2. [A survey on LLM-based multi-agent systems: workflow, infrastructure ...](https://link.springer.com/article/10.1007/s44336-024-00009-2)\n",
      "3. [LLM-based Multi-Agent Systems: Techniques and Business ... - arXiv](https://arxiv.org/html/2411.14033v2)\n",
      "4. [Understanding the Future of Multi-Agent LLM Systems and their ...](https://www.ema.co/additional-blogs/addition-blogs/understanding-the-future-of-multi-agent-llm-systems-and-their-architecture)\n",
      "5. [The rise and potential of large language model based agents: a survey](http://scis.scichina.com/en/2025/121101.pdf)\n",
      "\n",
      "This article provides a comprehensive overview of the business potential of multi-agent systems based on large language models, emphasizing their transformative capabilities and the importance of embracing these technologies for future success.\n"
     ]
    }
   ],
   "source": [
    "from langchain_core.messages import HumanMessage\n",
    "\n",
    "thread = {\"configurable\": {\"thread_id\": \"1\"}}\n",
    "\n",
    "MAX_ITERATIONS = 3\n",
    "\n",
    "question = \"What is the business potential of multi-agent systems based on large language models?\"\n",
    "input_message = HumanMessage(content=question)\n",
    "\n",
    "for event in graph.stream({\"messages\": [input_message], \"no_of_iterations\":0}, thread, stream_mode=\"values\"):\n",
    "    event[\"messages\"][-1].pretty_print()"
   ]
  },
  {
   "cell_type": "code",
   "execution_count": 18,
   "metadata": {
    "id": "o64xKAMbckln"
   },
   "outputs": [
    {
     "name": "stdout",
     "output_type": "stream",
     "text": [
      "Iteration number from should_edit:  0\n"
     ]
    },
    {
     "data": {
      "text/plain": [
       "{'configurable': {'thread_id': '1',\n",
       "  'checkpoint_ns': '',\n",
       "  'checkpoint_id': '1f021ce9-ab63-688a-8006-6616bba818b3'}}"
      ]
     },
     "execution_count": 18,
     "metadata": {},
     "output_type": "execute_result"
    }
   ],
   "source": [
    "graph.update_state(thread, {\"messages\": HumanMessage(content=\"For the article sections, write in paragraph format and don't copy the outline. Keep the sources at the bottom of the article. Include information about the most popular multi-agent frameworks\")}, as_node=\"editor\")"
   ]
  },
  {
   "cell_type": "code",
   "execution_count": 19,
   "metadata": {
    "id": "uD9xqew8dL85"
   },
   "outputs": [
    {
     "data": {
      "text/plain": [
       "('writer',)"
      ]
     },
     "execution_count": 19,
     "metadata": {},
     "output_type": "execute_result"
    }
   ],
   "source": [
    "graph.get_state(thread).next"
   ]
  },
  {
   "cell_type": "code",
   "execution_count": 20,
   "metadata": {
    "id": "zhBpbL4EdO3m"
   },
   "outputs": [
    {
     "name": "stdout",
     "output_type": "stream",
     "text": [
      "================================\u001b[1m Human Message \u001b[0m=================================\n",
      "\n",
      "For the article sections, write in paragraph format and don't copy the outline. Keep the sources at the bottom of the article. Include information about the most popular multi-agent frameworks\n",
      "==================================\u001b[1m Ai Message \u001b[0m==================================\n",
      "\n",
      "                        TITLE: The Business Potential of Multi-Agent Systems Based on Large Language Models\n",
      "                        \n",
      "                        BODY: \n",
      "                        \n",
      "In the rapidly evolving landscape of artificial intelligence, multi-agent systems (MAS) and large language models (LLMs) are emerging as powerful tools that can transform business operations. Multi-agent systems consist of multiple interacting intelligent agents that collaborate to solve complex problems, while large language models are advanced AI systems capable of understanding and generating human-like text. This article explores the business potential of combining these two technologies, highlighting their applications, advantages, challenges, and future trends.\n",
      "\n",
      "Multi-agent systems are designed to enable multiple agents to work together, each specializing in different tasks. This collaborative approach allows for more efficient problem-solving and decision-making. Large language models, on the other hand, leverage vast amounts of data to understand context, generate text, and provide insights. When combined, MAS and LLMs create a powerful synergy that enhances collective intelligence, enabling businesses to tackle complex challenges more effectively.\n",
      "\n",
      "One of the most significant applications of multi-agent LLMs in business is enhancing customer experience. For instance, a customer support agent can work alongside a data analytics agent to analyze customer feedback and suggest product improvements. This collaboration not only improves service quality but also fosters a more responsive business environment. Additionally, these systems streamline workflows by automating repetitive tasks and facilitating communication between departments. For example, procurement agents can notify HR agents about potential supply chain issues, prompting proactive adjustments to workforce requirements. Furthermore, LLMs can assist in complex decision-making processes by analyzing data and providing actionable insights, helping businesses make informed choices.\n",
      "\n",
      "The advantages of multi-agent systems based on LLMs are numerous. By having specialized agents for different tasks, businesses can enhance efficiency and effectiveness in operations. This specialization allows for a more focused approach to problem-solving, where each agent excels in its designated area. Moreover, multi-agent systems can easily adapt to changing business needs, allowing organizations to scale operations without significant overhead. Another critical advantage is the potential for data monetization and proprietary data preservation. These systems enable businesses to monetize insights generated from data analysis while preserving proprietary information, creating new revenue streams.\n",
      "\n",
      "However, the integration of MAS with current business processes presents challenges. One of the primary hurdles is ensuring seamless integration, which may require significant changes to existing workflows. Additionally, ethical and security concerns related to data privacy and the responsible use of AI must be addressed to maintain trust among stakeholders. The effectiveness of LLMs also relies heavily on the quality of data they are trained on, making data management a critical factor for success.\n",
      "\n",
      "Looking ahead, the growth of AI-driven workloads is expected to accelerate, with Gartner predicting that over 80% of enterprise workloads will be run on AI-driven systems by 2026. Multi-agent LLMs will play a significant role in this transition, enhancing operational efficiency and decision-making capabilities. Continued advancements in AI technology will further enhance the capabilities of multi-agent systems, making them more effective and accessible for businesses. Ultimately, the long-term implications of MAS and LLMs could lead to the development of general AI, capable of performing a wide range of tasks with human-like intelligence.\n",
      "\n",
      "Several popular frameworks are currently leading the way in the development of multi-agent systems. For instance, the JADE (Java Agent Development Framework) is widely used for building multi-agent systems in Java, providing a robust platform for agent communication and interaction. Another notable framework is the SPADE (Smart Python Agent Development Environment), which allows developers to create agents in Python, making it accessible for a broader range of developers. Additionally, the OpenAI Gym provides a toolkit for developing and comparing reinforcement learning algorithms, which can be integrated into multi-agent systems for enhanced learning and adaptability.\n",
      "\n",
      "In conclusion, the integration of multi-agent systems and large language models presents a transformative opportunity for businesses. By leveraging the strengths of both technologies, organizations can enhance customer experiences, improve operational efficiency, and make better-informed decisions. As the landscape of AI continues to evolve, businesses that embrace these innovations will be well-positioned to thrive in an increasingly competitive environment.\n",
      "\n",
      "#### Sources\n",
      "1. [How Multi-Agent LLMs Working Together Will Impact Business](https://www.forbes.com/councils/forbesbusinessdevelopmentcouncil/2023/11/28/how-multi-agent-llms-working-together-will-impact-business/)\n",
      "2. [A survey on LLM-based multi-agent systems: workflow, infrastructure ...](https://link.springer.com/article/10.1007/s44336-024-00009-2)\n",
      "3. [LLM-based Multi-Agent Systems: Techniques and Business ... - arXiv](https://arxiv.org/html/2411.14033v2)\n",
      "4. [Understanding the Future of Multi-Agent LLM Systems and their ...](https://www.ema.co/additional-blogs/addition-blogs/understanding-the-future-of-multi-agent-llm-systems-and-their-architecture)\n",
      "5. [The rise and potential of large language model based agents: a survey](http://scis.scichina.com/en/2025/121101.pdf)\n"
     ]
    }
   ],
   "source": [
    "# Continue the graph execution\n",
    "for event in graph.stream(None, thread, stream_mode=\"values\"):\n",
    "     event[\"messages\"][-1].pretty_print()"
   ]
  },
  {
   "cell_type": "code",
   "execution_count": 21,
   "metadata": {
    "id": "N0MnQXgKsIvU"
   },
   "outputs": [
    {
     "name": "stdout",
     "output_type": "stream",
     "text": [
      "Iteration number from should_edit:  0\n",
      "================================\u001b[1m Human Message \u001b[0m=================================\n",
      "\n",
      "\n",
      "==================================\u001b[1m Ai Message \u001b[0m==================================\n",
      "\n",
      "It seems that your message was empty. If you have any questions, feedback, or requests for further information, please let me know! I'm here to help.\n"
     ]
    }
   ],
   "source": [
    "# continue without any further comments\n",
    "graph.update_state(thread, {\"messages\": HumanMessage(content=\"\")}, as_node=\"editor\")\n",
    "# Continue the graph execution\n",
    "for event in graph.stream(None, thread, stream_mode=\"values\"):\n",
    "     event[\"messages\"][-1].pretty_print()"
   ]
  }
 ],
 "metadata": {
  "colab": {
   "authorship_tag": "ABX9TyNry6WvXgE2KPpdjnXnZwsw",
   "provenance": []
  },
  "kernelspec": {
   "display_name": ".venv",
   "language": "python",
   "name": "python3"
  },
  "language_info": {
   "codemirror_mode": {
    "name": "ipython",
    "version": 3
   },
   "file_extension": ".py",
   "mimetype": "text/x-python",
   "name": "python",
   "nbconvert_exporter": "python",
   "pygments_lexer": "ipython3",
   "version": "3.11.11"
  }
 },
 "nbformat": 4,
 "nbformat_minor": 0
}
