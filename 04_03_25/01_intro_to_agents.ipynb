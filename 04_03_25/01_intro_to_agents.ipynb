{
 "cells": [
  {
   "cell_type": "markdown",
   "metadata": {},
   "source": [
    "# Agents and their tools"
   ]
  },
  {
   "cell_type": "code",
   "execution_count": 10,
   "metadata": {
    "id": "rJpjFln-HSEo"
   },
   "outputs": [],
   "source": [
    "import os\n",
    "from dotenv import load_dotenv\n",
    "from langchain_openai import ChatOpenAI\n",
    "\n",
    "load_dotenv()\n",
    "\n",
    "openai_api_key = os.environ[\"OPENAI_API_KEY\"]\n",
    "\n",
    "chat_openai = ChatOpenAI(openai_api_key=openai_api_key, model = \"gpt-4o-mini\", temperature=0)"
   ]
  },
  {
   "cell_type": "markdown",
   "metadata": {
    "id": "QHfHipB92bRz"
   },
   "source": [
    "# Function Calling"
   ]
  },
  {
   "cell_type": "markdown",
   "metadata": {
    "id": "V0hj3n_uHSEo"
   },
   "source": [
    "### Easy tools"
   ]
  },
  {
   "cell_type": "code",
   "execution_count": 2,
   "metadata": {
    "id": "mFj7RqzkHSEo"
   },
   "outputs": [],
   "source": [
    "def multiply(a: int, b: int) -> int:\n",
    "    \"\"\"Multiply a and b.\n",
    "\n",
    "    Args:\n",
    "        a: first int\n",
    "        b: second int\n",
    "    \"\"\"\n",
    "    print(\"Multiplying two numbers\")\n",
    "    return a * b\n",
    "\n",
    "llm_with_tools = chat_openai.bind_tools([multiply])"
   ]
  },
  {
   "cell_type": "markdown",
   "metadata": {
    "id": "she0mFEwIJru"
   },
   "source": [
    "### Important: Tools-Aware Agent returns only call to the function, nothing more\n",
    "\n",
    "1. Function which may help solving the problem\n",
    "2. Parses parameters for such function\n",
    "\n",
    "Only then we can run such call"
   ]
  },
  {
   "cell_type": "code",
   "execution_count": 3,
   "metadata": {
    "id": "lMgSFtRjHlyH"
   },
   "outputs": [
    {
     "data": {
      "text/plain": [
       "AIMessage(content='', additional_kwargs={'tool_calls': [{'id': 'call_SZlcHHomNwmaffyrkbJlkyts', 'function': {'arguments': '{\"a\":2,\"b\":3}', 'name': 'multiply'}, 'type': 'function'}], 'refusal': None}, response_metadata={'token_usage': {'completion_tokens': 18, 'prompt_tokens': 61, 'total_tokens': 79, 'completion_tokens_details': {'accepted_prediction_tokens': 0, 'audio_tokens': 0, 'reasoning_tokens': 0, 'rejected_prediction_tokens': 0}, 'prompt_tokens_details': {'audio_tokens': 0, 'cached_tokens': 0}}, 'model_name': 'gpt-4o-mini-2024-07-18', 'system_fingerprint': 'fp_86d0290411', 'id': 'chatcmpl-BJ7ACVRUn1DMdXm87euBxAXuwrkTP', 'finish_reason': 'tool_calls', 'logprobs': None}, id='run-9acede0a-7e1c-4469-bfaa-480d7dd47b89-0', tool_calls=[{'name': 'multiply', 'args': {'a': 2, 'b': 3}, 'id': 'call_SZlcHHomNwmaffyrkbJlkyts', 'type': 'tool_call'}], usage_metadata={'input_tokens': 61, 'output_tokens': 18, 'total_tokens': 79, 'input_token_details': {'audio': 0, 'cache_read': 0}, 'output_token_details': {'audio': 0, 'reasoning': 0}})"
      ]
     },
     "execution_count": 3,
     "metadata": {},
     "output_type": "execute_result"
    }
   ],
   "source": [
    "from langchain_core.messages import HumanMessage\n",
    "\n",
    "tool_call = llm_with_tools.invoke([HumanMessage(content=\"What is two multiplied by three?\", name=\"Mr\")])\n",
    "tool_call"
   ]
  },
  {
   "cell_type": "code",
   "execution_count": null,
   "metadata": {
    "id": "A5x1nee7IEtd"
   },
   "outputs": [
    {
     "data": {
      "text/plain": [
       "[{'id': 'call_SZlcHHomNwmaffyrkbJlkyts',\n",
       "  'function': {'arguments': '{\"a\":2,\"b\":3}', 'name': 'multiply'},\n",
       "  'type': 'function'}]"
      ]
     },
     "execution_count": 4,
     "metadata": {},
     "output_type": "execute_result"
    }
   ],
   "source": [
    "# To jeszcze nie jest wywołanie tej funkcji!\n",
    "tool_call.additional_kwargs['tool_calls']"
   ]
  },
  {
   "cell_type": "code",
   "execution_count": null,
   "metadata": {
    "id": "ZMjrEYByIrRK"
   },
   "outputs": [
    {
     "name": "stdout",
     "output_type": "stream",
     "text": [
      "tool_call_data value: {'id': 'call_SZlcHHomNwmaffyrkbJlkyts', 'function': {'arguments': '{\"a\":2,\"b\":3}', 'name': 'multiply'}, 'type': 'function'}\n",
      "function_name value: multiply\n",
      "function_args value: {'a': 2, 'b': 3}\n",
      "Multiplying two numbers\n",
      "Multiplication result: 6\n"
     ]
    }
   ],
   "source": [
    "# Without using an additional model\n",
    "import json\n",
    "\n",
    "tool_call_data = tool_call.additional_kwargs['tool_calls'][0]\n",
    "print(f\"tool_call_data value: {tool_call_data}\")\n",
    "\n",
    "function_name = tool_call_data['function']['name']\n",
    "print(f\"function_name value: {function_name}\")\n",
    "\n",
    "function_args = json.loads(tool_call_data['function']['arguments'])\n",
    "print(f\"function_args value: {function_args}\")\n",
    "\n",
    "# Ręczne wrzucenie argumentów do funkcji\n",
    "if function_name == \"multiply\":\n",
    "    result = multiply(**function_args)\n",
    "    print(f\"Multiplication result: {result}\")"
   ]
  },
  {
   "cell_type": "code",
   "execution_count": 6,
   "metadata": {
    "id": "fPp6Dl5HKWPZ"
   },
   "outputs": [
    {
     "name": "stdout",
     "output_type": "stream",
     "text": [
      "Multiplying two numbers\n",
      "Multiplication result: 17094\n"
     ]
    }
   ],
   "source": [
    "import json\n",
    "\n",
    "tool_call = llm_with_tools.invoke([HumanMessage(content=\"What is two hundred twenty two times seventy seven?\", name=\"Mr\")])\n",
    "\n",
    "tool_call_data = tool_call.additional_kwargs['tool_calls'][0]\n",
    "\n",
    "function_name = tool_call_data['function']['name']\n",
    "\n",
    "function_args = json.loads(tool_call_data['function']['arguments'])\n",
    "\n",
    "if function_name == \"multiply\":\n",
    "    result = multiply(**function_args)\n",
    "    print(f\"Multiplication result: {result}\")"
   ]
  },
  {
   "cell_type": "markdown",
   "metadata": {
    "id": "XBUX5HiSPdj_"
   },
   "source": [
    "# More advanced approach - integrate with external tools"
   ]
  },
  {
   "cell_type": "markdown",
   "metadata": {
    "id": "sWb2IbSoPkPN"
   },
   "source": [
    "### Get weather information from Open Weather Map\n",
    "\n",
    "https://openweathermap.org"
   ]
  },
  {
   "cell_type": "code",
   "execution_count": 12,
   "metadata": {
    "id": "h_fpHOEnR6Pv"
   },
   "outputs": [
    {
     "data": {
      "text/plain": [
       "'In Warsaw, the current weather is as follows:\\nDetailed status: broken clouds\\nWind speed: 8.75 m/s, direction: 340°\\nHumidity: 61%\\nTemperature: \\n  - Current: 0.9°C\\n  - High: 1.51°C\\n  - Low: 0.36°C\\n  - Feels like: -5.43°C\\nRain: {}\\nHeat index: None\\nCloud cover: 75%'"
      ]
     },
     "execution_count": 12,
     "metadata": {},
     "output_type": "execute_result"
    }
   ],
   "source": [
    "# Simple service call\n",
    "from langchain_community.utilities import OpenWeatherMapAPIWrapper\n",
    "weather_wrapper = OpenWeatherMapAPIWrapper()\n",
    "weather_wrapper.run(\"Warsaw\")"
   ]
  },
  {
   "cell_type": "markdown",
   "metadata": {
    "id": "XeMJr3m1g2OM"
   },
   "source": [
    "### Use whole chain - this will be easier with langgraph"
   ]
  },
  {
   "cell_type": "code",
   "execution_count": 13,
   "metadata": {
    "id": "kSjcVlJHQ6Yh"
   },
   "outputs": [
    {
     "name": "stderr",
     "output_type": "stream",
     "text": [
      "/Users/tomasz/Developer/TEG---Technologie-Generatywne/.venv/lib/python3.11/site-packages/langsmith/client.py:277: LangSmithMissingAPIKeyWarning: API key must be provided when using hosted LangSmith API\n",
      "  warnings.warn(\n"
     ]
    },
    {
     "name": "stdout",
     "output_type": "stream",
     "text": [
      "prompt value: input_variables=['agent_scratchpad', 'input'] optional_variables=['chat_history'] input_types={'chat_history': list[typing.Annotated[typing.Union[typing.Annotated[langchain_core.messages.ai.AIMessage, Tag(tag='ai')], typing.Annotated[langchain_core.messages.human.HumanMessage, Tag(tag='human')], typing.Annotated[langchain_core.messages.chat.ChatMessage, Tag(tag='chat')], typing.Annotated[langchain_core.messages.system.SystemMessage, Tag(tag='system')], typing.Annotated[langchain_core.messages.function.FunctionMessage, Tag(tag='function')], typing.Annotated[langchain_core.messages.tool.ToolMessage, Tag(tag='tool')], typing.Annotated[langchain_core.messages.ai.AIMessageChunk, Tag(tag='AIMessageChunk')], typing.Annotated[langchain_core.messages.human.HumanMessageChunk, Tag(tag='HumanMessageChunk')], typing.Annotated[langchain_core.messages.chat.ChatMessageChunk, Tag(tag='ChatMessageChunk')], typing.Annotated[langchain_core.messages.system.SystemMessageChunk, Tag(tag='SystemMessageChunk')], typing.Annotated[langchain_core.messages.function.FunctionMessageChunk, Tag(tag='FunctionMessageChunk')], typing.Annotated[langchain_core.messages.tool.ToolMessageChunk, Tag(tag='ToolMessageChunk')]], FieldInfo(annotation=NoneType, required=True, discriminator=Discriminator(discriminator=<function _get_type at 0x121dea700>, custom_error_type=None, custom_error_message=None, custom_error_context=None))]], 'agent_scratchpad': list[typing.Annotated[typing.Union[typing.Annotated[langchain_core.messages.ai.AIMessage, Tag(tag='ai')], typing.Annotated[langchain_core.messages.human.HumanMessage, Tag(tag='human')], typing.Annotated[langchain_core.messages.chat.ChatMessage, Tag(tag='chat')], typing.Annotated[langchain_core.messages.system.SystemMessage, Tag(tag='system')], typing.Annotated[langchain_core.messages.function.FunctionMessage, Tag(tag='function')], typing.Annotated[langchain_core.messages.tool.ToolMessage, Tag(tag='tool')], typing.Annotated[langchain_core.messages.ai.AIMessageChunk, Tag(tag='AIMessageChunk')], typing.Annotated[langchain_core.messages.human.HumanMessageChunk, Tag(tag='HumanMessageChunk')], typing.Annotated[langchain_core.messages.chat.ChatMessageChunk, Tag(tag='ChatMessageChunk')], typing.Annotated[langchain_core.messages.system.SystemMessageChunk, Tag(tag='SystemMessageChunk')], typing.Annotated[langchain_core.messages.function.FunctionMessageChunk, Tag(tag='FunctionMessageChunk')], typing.Annotated[langchain_core.messages.tool.ToolMessageChunk, Tag(tag='ToolMessageChunk')]], FieldInfo(annotation=NoneType, required=True, discriminator=Discriminator(discriminator=<function _get_type at 0x121dea700>, custom_error_type=None, custom_error_message=None, custom_error_context=None))]]} partial_variables={'chat_history': []} metadata={'lc_hub_owner': 'hwchase17', 'lc_hub_repo': 'openai-tools-agent', 'lc_hub_commit_hash': 'c18672812789a3b9697656dd539edf0120285dcae36396d0b548ae42a4ed66f5'} messages=[SystemMessagePromptTemplate(prompt=PromptTemplate(input_variables=[], input_types={}, partial_variables={}, template='You are a helpful assistant'), additional_kwargs={}), MessagesPlaceholder(variable_name='chat_history', optional=True), HumanMessagePromptTemplate(prompt=PromptTemplate(input_variables=['input'], input_types={}, partial_variables={}, template='{input}'), additional_kwargs={}), MessagesPlaceholder(variable_name='agent_scratchpad')]\n",
      "\n",
      "\n",
      "\u001b[1m> Entering new AgentExecutor chain...\u001b[0m\n",
      "\u001b[32;1m\u001b[1;3m\n",
      "Invoking: `open_weather_map` with `{'location': 'Los Angeles,US'}`\n",
      "\n",
      "\n",
      "\u001b[0m\u001b[36;1m\u001b[1;3mIn Los Angeles,US, the current weather is as follows:\n",
      "Detailed status: clear sky\n",
      "Wind speed: 6.69 m/s, direction: 250°\n",
      "Humidity: 30%\n",
      "Temperature: \n",
      "  - Current: 22.6°C\n",
      "  - High: 25.73°C\n",
      "  - Low: 19.66°C\n",
      "  - Feels like: 21.7°C\n",
      "Rain: {}\n",
      "Heat index: None\n",
      "Cloud cover: 0%\u001b[0m\u001b[32;1m\u001b[1;3mThe current temperature in Los Angeles is 22.6°C. It feels like 21.7°C, with a high of 25.73°C and a low of 19.66°C.\u001b[0m\n",
      "\n",
      "\u001b[1m> Finished chain.\u001b[0m\n"
     ]
    },
    {
     "data": {
      "text/plain": [
       "{'input': 'What is the temperature of the Los Angeles?',\n",
       " 'output': 'The current temperature in Los Angeles is 22.6°C. It feels like 21.7°C, with a high of 25.73°C and a low of 19.66°C.'}"
      ]
     },
     "execution_count": 13,
     "metadata": {},
     "output_type": "execute_result"
    }
   ],
   "source": [
    "# Create Tool-Aware Agent\n",
    "from langchain import hub\n",
    "from langchain.agents import load_tools, AgentExecutor, create_tool_calling_agent\n",
    "\n",
    "weather_tools = load_tools([\"openweathermap-api\"])\n",
    "\n",
    "# Previous approach\n",
    "llm_with_weather = chat_openai.bind_tools(weather_tools)\n",
    "llm_with_weather.invoke([HumanMessage(content=\"What is the weather in Warsaw?\", name=\"Mr\")])\n",
    "\n",
    "# Use dedicated prompt from public library\n",
    "prompt = hub.pull(\"hwchase17/openai-tools-agent\")\n",
    "print(f\"prompt value: {prompt}\")\n",
    "\n",
    "# Creating our own Agent Executor to make the action\n",
    "agent = create_tool_calling_agent(chat_openai, weather_tools, prompt)\n",
    "agent_executor = AgentExecutor(agent=agent, tools=weather_tools, verbose=True)\n",
    "\n",
    "# Wreszcie możemy zadać pytanie agentowi\n",
    "agent_executor.invoke(\n",
    "    {\n",
    "        \"input\": \"What is the temperature of the Los Angeles?\",\n",
    "    }\n",
    ")"
   ]
  },
  {
   "cell_type": "markdown",
   "metadata": {
    "id": "dV7imvLqj8B_"
   },
   "source": [
    "### Add internet browser: Tavily"
   ]
  },
  {
   "cell_type": "code",
   "execution_count": null,
   "metadata": {
    "id": "miXRc_wfSmxD"
   },
   "outputs": [
    {
     "name": "stdout",
     "output_type": "stream",
     "text": [
      "\n",
      "\n",
      "\u001b[1m> Entering new AgentExecutor chain...\u001b[0m\n",
      "\u001b[32;1m\u001b[1;3m\n",
      "Invoking: `open_weather_map` with `{'location': 'Warsaw'}`\n",
      "\n",
      "\n",
      "\u001b[0m\u001b[33;1m\u001b[1;3mIn Warsaw, the current weather is as follows:\n",
      "Detailed status: broken clouds\n",
      "Wind speed: 8.75 m/s, direction: 340°\n",
      "Humidity: 61%\n",
      "Temperature: \n",
      "  - Current: 0.9°C\n",
      "  - High: 1.51°C\n",
      "  - Low: 0.36°C\n",
      "  - Feels like: -5.43°C\n",
      "Rain: {}\n",
      "Heat index: None\n",
      "Cloud cover: 75%\u001b[0m\u001b[32;1m\u001b[1;3mThe current temperature in Warsaw is 0.9°C. \n",
      "\n",
      "To find the square root of the current temperature multiplied by the square root of -1, we can express this mathematically:\n",
      "\n",
      "1. The square root of 0.9 is approximately \\( \\sqrt{0.9} \\).\n",
      "2. The square root of -1 is represented as \\( i \\) in complex numbers.\n",
      "\n",
      "Thus, the expression becomes:\n",
      "\n",
      "\\[\n",
      "\\sqrt{0.9} \\times i\n",
      "\\]\n",
      "\n",
      "Calculating \\( \\sqrt{0.9} \\):\n",
      "\n",
      "\\[\n",
      "\\sqrt{0.9} \\approx 0.9487\n",
      "\\]\n",
      "\n",
      "Therefore, the result is approximately:\n",
      "\n",
      "\\[\n",
      "0.9487i\n",
      "\\]\n",
      "\n",
      "So, the square root of the current temperature in Warsaw multiplied by the square root of -1 is approximately \\( 0.9487i \\).\u001b[0m\n",
      "\n",
      "\u001b[1m> Finished chain.\u001b[0m\n"
     ]
    }
   ],
   "source": [
    "from langchain_community.tools.tavily_search import TavilySearchResults\n",
    "\n",
    "tavily = TavilySearchResults(max_results=5)\n",
    "tools = [tavily, weather_tools[0]]\n",
    "agent = create_tool_calling_agent(chat_openai, tools, prompt)\n",
    "agent_executor = AgentExecutor(agent=agent, tools=tools, verbose=True)\n",
    "\n",
    "result = agent_executor.invoke(\n",
    "    {\n",
    "        \"input\": \"What is the square root of current temperature in Warsaw multiplied by root of -1?\",\n",
    "    }\n",
    ")"
   ]
  },
  {
   "cell_type": "markdown",
   "metadata": {
    "id": "0UFezrKxktGZ"
   },
   "source": [
    "### Add Wikipedia search"
   ]
  },
  {
   "cell_type": "code",
   "execution_count": null,
   "metadata": {
    "id": "DiMqVQ18Sm0Y"
   },
   "outputs": [],
   "source": [
    "from langchain_community.tools import WikipediaQueryRun\n",
    "from langchain_community.utilities import WikipediaAPIWrapper"
   ]
  },
  {
   "cell_type": "code",
   "execution_count": 18,
   "metadata": {
    "id": "gKpNBUGNRqh2"
   },
   "outputs": [
    {
     "name": "stdout",
     "output_type": "stream",
     "text": [
      "Page: Wrocław\n",
      "Summary: Wrocław is a city in southwestern Poland and the largest city and historical capital of the region of Silesia. It lies on the banks of the Oder River in the Silesian Lowlands of Central Europe, roughly 40 kilometres (25 mi) from the Sudeten Mountains to the south. The city consists of 48 districts. As of 2023, the official population of Wrocław is 674,132 making it the third largest city in Poland. The population of the Wrocław metropolitan area is around 1.25 million.\n",
      "Wrocław is the historical capital of Silesia and Lower Silesia. Today, it is the capital of the Lower Silesian Voivodeship. The history of the city dates back over 1,000 years; at various times, it has been part of the Duchy of Poland, Kingdom of Poland, the Kingdom of Bohemia, the Kingdom of Hungary, the Habsburg monarchy of Austria, the Kingdom of Prussia and Germany, until it became again part of Poland in 1945 as the result of territorial changes of Poland immediately after World War II.\n",
      "Wrocław is a university city with a student population of over 130,000, making it one of the most youth-oriented cities in the country. Since the beginning of the 20th century, the University of Wrocław, previously the F. William University, has produced nine Nobel Prize laureates and is renowned for its high quality of teaching. Wrocław also possesses numerous historical landmarks, including the Main Market Square, Cathedral Island, Wrocław Opera, the National Museum and the Centennial Hall, which is listed as a UNESCO World Heritage Site. The city is also home to the Wrocław Zoo, the oldest zoological garden in Poland.\n",
      "Wrocław is classified as a Sufficiency global city by GaWC. It is often featured in lists of the most livable places in the world, and was ranked 1st among all medium and small cities by fDi Intelligence in 2021. In 1989, 1995 and 2019 Wrocław hosted the European Youth Meetings of the Taizé Community, the Eucharistic Congress in 1997, and the 2012 European Football Championship. In 2016, the city was a European Capital of Culture and the World Book Capital. Also in that year, Wrocław hosted the Theatre Olympics, World Bridge Games and the European Film Awards. In 2017, the city was host to the IFLA Annual Conference and the World Games. In 2019, it was named a UNESCO City of Literature.\n",
      "\n",
      "\n",
      "\n",
      "Page: Śląsk Wrocław\n",
      "Summary: Wrocławski Klub Sportowy Śląsk Wrocław Spółka Akcyjna, commonly known as WKS Śląsk Wrocław (Polish pronunciation: [ɕlɔ̃zɡ ˈvrɔt͡swaf]), is a Polish professional football club based in Wrocław that plays in Ekstraklasa, the highest level of the Polish football league system.\n",
      "Two-time Polish champion (1977, 2012), four-time Polish runner-up (1978, 1982, 2011, 2024), two-time Polish Cup winner (1976, 1987), two-time Polish Super Cup winner (1987, 2012) and Ekstraklasa Cup winner (2009). \n",
      "The club's home is Tarczyński Arena Wrocław, a 45,105 capacity stadium in Wrocław which was one of the host venues during UEFA Euro 2012. The club previously played at Olympic Stadium and Stadion Oporowska.\n",
      "\n",
      "Page: Wrocław Airport\n",
      "Summary: Wrocław Nicolaus Copernicus Airport (Polish: Port lotniczy Wrocław im. Mikołaja Kopernika) (IATA: WRO, ICAO: EPWR) is an international civil-military airport in Wrocław in Lower Silesian Voivodeship in southwestern Poland. It is Poland's 5th busiest airport. In 2023, it handled over 3.8 million passengers. The airport is located 10 km (6.2 mi) west of the city centre, at ul. Graniczna 190. It has one runway, one passenger terminal, one cargo terminal and one general aviation terminal. Wrocław Airport is also often used by Polish Air Force, US Air Force, NATO air force and Heavy Airlift Wing.\n"
     ]
    }
   ],
   "source": [
    "wikipedia = WikipediaQueryRun(api_wrapper=WikipediaAPIWrapper())\n",
    "data = wikipedia.run(\"Wrocław\")\n",
    "print(data)"
   ]
  },
  {
   "cell_type": "code",
   "execution_count": 21,
   "metadata": {
    "id": "4mnMHiVTRHTa"
   },
   "outputs": [
    {
     "name": "stdout",
     "output_type": "stream",
     "text": [
      "\n",
      "\n",
      "\u001b[1m> Entering new AgentExecutor chain...\u001b[0m\n",
      "\u001b[32;1m\u001b[1;3m\n",
      "Invoking: `wikipedia` with `{'query': 'mbank'}`\n",
      "\n",
      "\n",
      "\u001b[0m\u001b[38;5;200m\u001b[1;3mPage: MBank\n",
      "Summary: mBank SA (formerly BRE Bank), set up in 1986, and originally BRE – Bank Rozwoju Eksportu (Export Development Bank), is Poland's fourth largest universal banking group in terms of total assets and loans, and fifth by deposits at the end of September 2016. It offers retail, corporate and investment banking as well as other financial services such as leasing, factoring, insurance, financing of commercial real property, brokerage operations, wealth management, corporate finance and advisory in the scope of capital markets.\n",
      "Since 1992, it has been listed on the Warsaw Stock Exchange. In 2007 it started its retail operations in the Czech Republic and Slovakia.\n",
      "The current mBank CEO is Cezary Stypułkowski.\n",
      "\n",
      "Page: Bank One Corporation\n",
      "Summary: Bank One Corporation was an American bank founded in 1968 and at its peak the sixth-largest bank in the United States. It traded on the New York Stock Exchange under the stock symbol ONE. The company merged with JPMorgan Chase & Co. on July 1, 2004, with Bank One CEO Jamie Dimon soon becoming CEO and Chairman of the combined company but under JPMorgan Chase branding. The company had its headquarters in the Bank One Plaza (now the Chase Tower) in the Chicago Loop in Chicago, Illinois, now the headquarters of Chase's retail banking division.\n",
      "Bank One traces its roots to the merger of Illinois based First Chicago NBD, and  Ohio-based First Banc Group (later Bank One),  a holding company for the City National Bank in Columbus, Ohio.\n",
      "\n",
      "Page: Ömürbek Babanov\n",
      "Summary: Ömürbek Toktogulovich Babanov (born 20 May 1970) is a Kyrgyz businessman and politician who served twice as the Prime Minister of Kyrgyzstan briefly from 2011 to 2012. Owner of Mbank and of Asia Cement, a company that co-operates with the Russian nuclear industry.\u001b[0m\u001b[32;1m\u001b[1;3mmBank SA, formerly known as BRE Bank, was established in 1986 and is one of Poland's largest universal banking groups. As of September 2016, it ranked as the fourth largest in terms of total assets and loans, and fifth by deposits. The bank provides a wide range of financial services, including retail, corporate, and investment banking, as well as leasing, factoring, insurance, and wealth management.\n",
      "\n",
      "mBank has been listed on the Warsaw Stock Exchange since 1992 and expanded its retail operations to the Czech Republic and Slovakia in 2007. The current CEO of mBank is Cezary Stypułkowski.\u001b[0m\n",
      "\n",
      "\u001b[1m> Finished chain.\u001b[0m\n",
      "{'input': 'Tell me something about mbank', 'output': \"mBank SA, formerly known as BRE Bank, was established in 1986 and is one of Poland's largest universal banking groups. As of September 2016, it ranked as the fourth largest in terms of total assets and loans, and fifth by deposits. The bank provides a wide range of financial services, including retail, corporate, and investment banking, as well as leasing, factoring, insurance, and wealth management.\\n\\nmBank has been listed on the Warsaw Stock Exchange since 1992 and expanded its retail operations to the Czech Republic and Slovakia in 2007. The current CEO of mBank is Cezary Stypułkowski.\"}\n"
     ]
    }
   ],
   "source": [
    "tools = [tavily, weather_tools[0], wikipedia]\n",
    "agent = create_tool_calling_agent(chat_openai, tools, prompt)\n",
    "agent_executor = AgentExecutor(agent=agent, tools=tools, verbose=True)\n",
    "\n",
    "result = agent_executor.invoke(\n",
    "    {\n",
    "        \"input\": \"Tell me something about mbank\",\n",
    "    }\n",
    ")\n",
    "\n",
    "print(result)"
   ]
  },
  {
   "cell_type": "code",
   "execution_count": 22,
   "metadata": {
    "id": "BJ0Vvs9ERX_G"
   },
   "outputs": [
    {
     "name": "stdout",
     "output_type": "stream",
     "text": [
      "\n",
      "\n",
      "\u001b[1m> Entering new AgentExecutor chain...\u001b[0m\n",
      "\u001b[32;1m\u001b[1;3m\n",
      "Invoking: `wikipedia` with `{'query': 'Techland'}`\n",
      "\n",
      "\n",
      "\u001b[0m\u001b[38;5;200m\u001b[1;3mPage: Techland\n",
      "Summary: Techland S.A. is a Polish video game developer and publisher founded in 1991 by Paweł Marchewka. It developed Call of Juarez (2006) and its prequel Call of Juarez: Bound in Blood (2009), as well as Dead Island (2011) and the Dying Light series. The company is headquartered in Wrocław in western Poland and has offices in Wrocław and Warsaw.\n",
      "\n",
      "Page: List of Techland video games\n",
      "Summary: This is a list of Techland video games.\n",
      "\n",
      "Page: Dying Light\n",
      "Summary: Dying Light is a 2015 survival horror video game developed by Techland and published by Warner Bros. Interactive Entertainment. The game's story follows undercover agent Kyle Crane who is sent to infiltrate a quarantine zone in a fictional Middle Eastern city called Harran. It features an enemy-infested, open world city with a dynamic day–night cycle, in which zombies are slow and clumsy during daytime and extremely aggressive at night. The gameplay is focused on weapons-based combat and parkour, allowing players to choose fight or flight when presented with dangers. The game also features an asymmetrical multiplayer mode (originally set to be a pre-order bonus), and a four-player co-operative multiplayer mode.\n",
      "The development of the game began in early 2012, after the team completed the development of Dead Island. The game's parkour system emphasizes natural movement, and David Belle, the pioneer of parkour, was invited to serve as a consultant for the game. To implement that, Techland had to abandon most of the story elements and construct them again from scratch. To create a story that would suit the taste of the American audience, the writing team collaborated with Dan Jolley. The story was inspired by both Heart of Darkness and The Plague. Announced in May 2013, it was released in January 2015 for Linux, PlayStation 4, Windows, and Xbox One. The game was planned to be released on PlayStation 3 and Xbox 360, but these versions were cancelled due to hardware limitations.\n",
      "At release, Dying Light received mixed reviews from critics, with praise mainly directed at the combat, graphics, co-operative multiplayer, navigation and the day–night cycle, while receiving criticism regarding the story, difficulty, and technical issues. The game was a commercial success, breaking the record for first-month sales of a new survival horror intellectual property and selling 20 million units by April 2022. Techland committed to supporting the game, and released downloadable content packs, content drops and free updates for the game several years after the initial launch. An expansion, titled Dying Light: The Following, was released in February 2016. The sequel, Dying Light 2 Stay Human, was released in February 2022. A standalone game titled Dying Light: The Beast, which follows Kyle Crane thirteen years after the events of the original game, will be released in mid 2025.\n",
      "\n",
      "\u001b[0m\u001b[32;1m\u001b[1;3m\n",
      "Invoking: `open_weather_map` with `{'location': 'Wrocław, Poland'}`\n",
      "\n",
      "\n",
      "\u001b[0m\u001b[33;1m\u001b[1;3mIn Wrocław, Poland, the current weather is as follows:\n",
      "Detailed status: broken clouds\n",
      "Wind speed: 5.66 m/s, direction: 350°\n",
      "Humidity: 54%\n",
      "Temperature: \n",
      "  - Current: 0.25°C\n",
      "  - High: 0.57°C\n",
      "  - Low: -0.66°C\n",
      "  - Feels like: -4.96°C\n",
      "Rain: {}\n",
      "Heat index: None\n",
      "Cloud cover: 75%\u001b[0m\u001b[32;1m\u001b[1;3mTechland was created in Wrocław, Poland. The current temperature there is approximately 0.25°C.\n",
      "\n",
      "To find the square root of the temperature, we first convert the temperature to Kelvin (K) since the square root of a temperature in Celsius can lead to negative values. The conversion from Celsius to Kelvin is done by adding 273.15.\n",
      "\n",
      "So, the temperature in Kelvin is:\n",
      "\\[ 0.25 + 273.15 = 273.40 \\, K \\]\n",
      "\n",
      "Now, we calculate the square root:\n",
      "\\[ \\sqrt{273.40} \\approx 16.52 \\]\n",
      "\n",
      "Thus, the square root of the temperature in Wrocław is approximately **16.52**.\u001b[0m\n",
      "\n",
      "\u001b[1m> Finished chain.\u001b[0m\n",
      "{'input': 'What is the square root of the temperature of the city where Techland was created?', 'output': 'Techland was created in Wrocław, Poland. The current temperature there is approximately 0.25°C.\\n\\nTo find the square root of the temperature, we first convert the temperature to Kelvin (K) since the square root of a temperature in Celsius can lead to negative values. The conversion from Celsius to Kelvin is done by adding 273.15.\\n\\nSo, the temperature in Kelvin is:\\n\\\\[ 0.25 + 273.15 = 273.40 \\\\, K \\\\]\\n\\nNow, we calculate the square root:\\n\\\\[ \\\\sqrt{273.40} \\\\approx 16.52 \\\\]\\n\\nThus, the square root of the temperature in Wrocław is approximately **16.52**.'}\n"
     ]
    }
   ],
   "source": [
    "tools = [tavily, weather_tools[0], wikipedia]\n",
    "agent = create_tool_calling_agent(chat_openai, tools, prompt)\n",
    "agent_executor = AgentExecutor(agent=agent, tools=tools, verbose=True)\n",
    "\n",
    "result = agent_executor.invoke(\n",
    "    {\n",
    "        \"input\": \"What is the square root of the temperature of the city where Techland was created?\",\n",
    "    }\n",
    ")\n",
    "\n",
    "print(result)"
   ]
  },
  {
   "cell_type": "markdown",
   "metadata": {
    "id": "Ol24EZGouR5S"
   },
   "source": [
    "# Finally - research papers search"
   ]
  },
  {
   "cell_type": "markdown",
   "metadata": {
    "id": "TpVyfw-kuvwt"
   },
   "source": [
    "Let's firstly try without arxiv tool"
   ]
  },
  {
   "cell_type": "code",
   "execution_count": 23,
   "metadata": {
    "id": "x0T7zndluhZF"
   },
   "outputs": [
    {
     "name": "stdout",
     "output_type": "stream",
     "text": [
      "\n",
      "\n",
      "\u001b[1m> Entering new AgentExecutor chain...\u001b[0m\n",
      "\u001b[32;1m\u001b[1;3m\n",
      "Invoking: `tavily_search_results_json` with `{'query': 'reinforcement learning in computer games industry'}`\n",
      "\n",
      "\n",
      "\u001b[0m\u001b[36;1m\u001b[1;3m[{'title': '[PDF] The Application of Reinforcement Learning in Video Games', 'url': 'https://www.atlantis-press.com/article/125994505.pdf', 'content': 'rein-forcement learning, this study highlights the potential benefits it brings to the video game industry. Furthermore, real-world cases are examined to showcase successful applications of reinforcement learning in video games. It concludes that the future and advancement of reinforcement learning in video games hold great promise. Keywords: Reinforcement Learning, Video Games Playing, Video Game De-velopment 1 Introduction The reinforcement learning (RL) has emerged as an important method of [...] 3.2 The RL Based Artificial Intelligence in Games RL, a type of machine learning that has rapidly gained popularity in the game industry, unlike traditional machine AI implementations, RL allows the agents to learn and adapt to variant in-game situations through trail-and-error and feedback based on rewards and penalties. Such a process can be only be used in the time of the game development, that means that the AI does not need to be specific designed, the developers can use the RL to train an [...] 6 Conclusion This essay explores the fundamental concepts of RL and its various applications in the video game industry. The focus is on its utilization in RTS games, platformer games, MOBA games, chess Games and the interplay between game intelligence and RL.\\nTraditional intelligence implementation in games, the integration of RL-based intelligence, and specific use cases of RL in games are also discussed. Lastly, the future of RL in the gaming industry is examined.', 'score': 0.8708723}, {'title': 'Reinforcement Learning in Games: A Complete Guide | by Amit Yadav', 'url': 'https://medium.com/@amit25173/reinforcement-learning-in-games-a-complete-guide-24d1cab79317', 'content': 'Reinforcement Learning has revolutionized the gaming industry, demonstrating remarkable successes through projects like AlphaGo and OpenAI Five. As RL continues to advance, it holds immense potential for innovations that extend beyond games, influencing fields such as robotics, finance, healthcare, autonomous vehicles, and energy management. The future of RL is poised to bring more intelligent, efficient, and adaptable solutions to complex real-world problems, making it a pivotal technology in [...] Examining specific case studies provides valuable insights into how reinforcement learning (RL) has been successfully applied in games. Here, we delve into three significant examples: AlphaGo, OpenAI Five in Dota 2, and other noteworthy applications.\\n\\nAlphaGoDetailed Analysis of How RL Was Used:\\n\\nPolicy Networks: Two deep neural networks, the policy network and the value network, were used. The policy network predicted the next move, while the value network evaluated the board position. [...] By the end of this blog, readers will have a solid understanding of how reinforcement learning is applied in the gaming industry, the challenges involved, and the future potential of this exciting field.\\n\\nBasics of Reinforcement Learning\\n\\nCore ConceptsAgent, Environment, Actions, States, Rewards\\n\\n2. Environment:\\n\\n3. Actions (A):\\n\\n4. States (S):\\n\\n5. Rewards (R):\\n\\nExploration vs. Exploitation\\n\\nExploration vs. exploitation is a fundamental dilemma in reinforcement learning.\\n\\n2. Exploitation:', 'score': 0.8361405}, {'title': 'Reinforcement Learning: Game-Level Design Technique - Plat.AI', 'url': 'https://plat.ai/blog/reinforcement-learning-in-game-ai/', 'content': 'In video game development, reinforcement learning is particularly well-suited because it adjusts its behavior in response to the feedback it receives, with the goal of maximizing its reward over time. As a result, the agent learns from its mistakes and improves its decision-making process, akin to a trial-and-error procedure.\\n\\nReinforcement Learning and Game AI [...] Game developers are constantly searching for ways to improve the player’s experience, and reinforcement learning is a promising approach to achieving this goal. This section will explore the intersection of RL and game AI, focusing on how it is used to create NPCs (non-playable characters), train them using neural networks, and generate novel and exciting game levels.\\n\\nAI Game Programming [...] Reinforcement learning has shown great promise in enabling game AI to learn and adapt to complex environments and tasks. Through trial and error learning and reward-based feedback, RL agents can achieve superhuman performance in games ranging from classic Atari titles to modern strategy games like StarCraft III.', 'score': 0.81770587}, {'title': 'Reinforcement Learning Applications: From Gaming to Real-World', 'url': 'https://www.deepchecks.com/reinforcement-learning-applications-from-gaming-to-real-world/', 'content': 'In recent years, advances in RL have enabled game developers to create more immersive and challenging gaming experiences, where the game itself adapts to the player’s actions and decisions. The use of reinforcement learning (RL) in strategy-based games, such as Total War and role-playing games (RPGs), has emerged as a highly promising research area with vast potential for advancing artificial intelligence (AI) and Machine Learning (ML). The unique challenges presented by these games, including [...] demonstrated tremendous potential in solving real-world problems. In this post, we’ll explore some of the most exciting applications of RL in both gaming and real-world contexts, highlighting how this powerful approach is driving innovation and transforming industries and what are some of the different types of reinforcement learning algorithms examples in everyday life. [...] Furthermore, the application of RL in the games mentioned above has the potential to drive advancements in other fields of research, such as natural language processing (NLP) and the development of intelligent agents.These games are highly complex and require a great deal of strategic thinking and decision-making. RL algorithms can learn to make decisions in these games by evaluating the consequences of their actions and adjusting their strategies accordingly.', 'score': 0.80070794}, {'title': 'Reinforcement Learning in Game Industry—Review, Prospects and ...', 'url': 'https://www.mdpi.com/2076-3417/13/4/2443', 'content': 'This article focuses on the recent advances in the field of reinforcement learning (RL) as well as the present state–of–the–art applications in games.', 'score': 0.71758664}]\u001b[0m\u001b[32;1m\u001b[1;3mHere are 5 of the newest publications about reinforcement learning in the computer games industry:\n",
      "\n",
      "1. **[The Application of Reinforcement Learning in Video Games](https://www.atlantis-press.com/article/125994505.pdf)**  \n",
      "   This study highlights the potential benefits of reinforcement learning in the video game industry, examining real-world cases and discussing its future prospects.\n",
      "\n",
      "2. **[Reinforcement Learning in Games: A Complete Guide | by Amit Yadav](https://medium.com/@amit25173/reinforcement-learning-in-games-a-complete-guide-24d1cab79317)**  \n",
      "   This article discusses the revolutionary impact of reinforcement learning in gaming, including case studies like AlphaGo and OpenAI Five, and explores its future potential.\n",
      "\n",
      "3. **[Reinforcement Learning: Game-Level Design Technique - Plat.AI](https://plat.ai/blog/reinforcement-learning-in-game-ai/)**  \n",
      "   This blog post explores how reinforcement learning is used in game AI to improve player experiences, focusing on NPC behavior and game level generation.\n",
      "\n",
      "4. **[Reinforcement Learning Applications: From Gaming to Real-World](https://www.deepchecks.com/reinforcement-learning-applications-from-gaming-to-real-world/)**  \n",
      "   This article discusses the advancements in reinforcement learning that enhance gaming experiences and its applications in real-world scenarios.\n",
      "\n",
      "5. **[Reinforcement Learning in Game Industry—Review, Prospects and ...](https://www.mdpi.com/2076-3417/13/4/2443)**  \n",
      "   This review article focuses on recent advances in reinforcement learning and its current applications in the gaming industry.\n",
      "\n",
      "Feel free to explore these links for more detailed information!\u001b[0m\n",
      "\n",
      "\u001b[1m> Finished chain.\u001b[0m\n"
     ]
    }
   ],
   "source": [
    "result = agent_executor.invoke(\n",
    "    {\n",
    "        \"input\": \"Give me links to 5 newest publications about reinforcement machine learning in computer games industry\",\n",
    "    }\n",
    ")"
   ]
  },
  {
   "cell_type": "markdown",
   "metadata": {
    "id": "KHPX37yYu18p"
   },
   "source": [
    "Now we can add him arxiv search possibility"
   ]
  },
  {
   "cell_type": "code",
   "execution_count": 24,
   "metadata": {
    "id": "YnBVKb_Wu8l1"
   },
   "outputs": [],
   "source": [
    "arxiv = load_tools([\"arxiv\"])[0]\n",
    "tools = [tavily, wikipedia, arxiv]"
   ]
  },
  {
   "cell_type": "code",
   "execution_count": 26,
   "metadata": {
    "id": "umLOF12Bu_dh"
   },
   "outputs": [
    {
     "name": "stdout",
     "output_type": "stream",
     "text": [
      "\n",
      "\n",
      "\u001b[1m> Entering new AgentExecutor chain...\u001b[0m\n",
      "\u001b[32;1m\u001b[1;3m\n",
      "Invoking: `arxiv` with `{'query': 'data science telco industry'}`\n",
      "\n",
      "\n",
      "\u001b[0m\u001b[38;5;200m\u001b[1;3mPublished: 2021-08-24\n",
      "Title: Context-aware Telco Outdoor Localization\n",
      "Authors: Yige Zhang, Weixiong Rao, Mingxuan Yuan, Jia Zeng, Pan Hui\n",
      "Summary: Recent years have witnessed the fast growth in telecommunication (Telco)\n",
      "techniques from 2G to upcoming 5G. Precise outdoor localization is important\n",
      "for Telco operators to manage, operate and optimize Telco networks. Differing\n",
      "from GPS, Telco localization is a technique employed by Telco operators to\n",
      "localize outdoor mobile devices by using measurement report (MR) data. When\n",
      "given MR samples containing noisy signals (e.g., caused by Telco signal\n",
      "interference and attenuation), Telco localization often suffers from high\n",
      "errors. To this end, the main focus of this paper is how to improve Telco\n",
      "localization accuracy via the algorithms to detect and repair outlier positions\n",
      "with high errors. Specifically, we propose a context-aware Telco localization\n",
      "technique, namely RLoc, which consists of three main components: a\n",
      "machine-learning-based localization algorithm, a detection algorithm to find\n",
      "flawed samples, and a repair algorithm to replace outlier localization results\n",
      "by better ones (ideally ground truth positions). Unlike most existing works to\n",
      "detect and repair every flawed MR sample independently, we instead take into\n",
      "account spatio-temporal locality of MR locations and exploit trajectory context\n",
      "to detect and repair flawed positions. Our experiments on the real MR data sets\n",
      "from 2G GSM and 4G LTE Telco networks verify that our work RLoc can greatly\n",
      "improve Telco location accuracy. For example, RLoc on a large 4G MR data set\n",
      "can achieve 32.2 meters of median errors, around 17.4% better than\n",
      "state-of-the-art.\n",
      "\n",
      "Published: 2013-10-28\n",
      "Title: Determinants of a Successful Migration to Cloud Computing in Iranian Telecommunication Industry\n",
      "Authors: Azadeh Erfan\n",
      "Summary: Although the research support for Cloud Computing (CC) is still developing,\n",
      "the concept of this paper has provided comprehensive frameworks for a\n",
      "successful migration to cloud computing (SMCC) in telecommunication industry in\n",
      "Iran. Using an academic orientation, the conceptual research is focusing on the\n",
      "determinants of a successful migration from legacy to cloud computing. The\n",
      "study attempts to reveal the constructive effects and deconstructive defects of\n",
      "migration to cloud computing with a close regard into prior literature and\n",
      "practical practices all around the world. Conceptual frameworks are deducted\n",
      "from the literature and Telco's revolutionary movements toward cloud computing.\n",
      "The confirmatory quantitative approach tries to verify or reject the validity\n",
      "of determinants of successful migration. The study reports that there are some\n",
      "success and failure factors which are influencing a successful migration of\n",
      "data centres and servers of Iranian Telecommunication to the cloud. Considering\n",
      "these approved factors before any migration decision would be valuable for\n",
      "engaged project members and finally for Telecommunication organization. This\n",
      "paper can be used as reliable model for any migration beforehand taking any\n",
      "action. Enforcing proper determinants in accordance with the prior success\n",
      "stories and academia viewpoints in Telecommunication industry in Iran as a\n",
      "first mover research in this field provides a precious insight for policy and\n",
      "decision makers to change their mindset and grant a proper space for cloud\n",
      "computing to grow in this industry due to its advantages. Obviously, like any\n",
      "other big Telco in the world, Iranian Telco might start cloud projects to\n",
      "sustain its presence in the global market.\n",
      "\n",
      "Published: 2024-12-20\n",
      "Title: TelcoLM: collecting data, adapting, and benchmarking language models for the telecommunication domain\n",
      "Authors: Camille Barboule, Viet-Phi Huynh, Adrien Bufort, Yoan Chabot, Géraldine Damnati, Gwénolé Lecorvé\n",
      "Summary: Despite outstanding processes in many tasks, Large Language Models (LLMs)\n",
      "still lack accuracy when dealing with highly technical domains. Especially,\n",
      "telecommunications (telco) is a p\u001b[0m\u001b[32;1m\u001b[1;3m\n",
      "Invoking: `arxiv` with `{'query': 'data science telecommunications'}`\n",
      "\n",
      "\n",
      "\u001b[0m\u001b[38;5;200m\u001b[1;3mPublished: 2015-07-24\n",
      "Title: The Challenges of CASE Design Integration in the Telecommunication Application Domain\n",
      "Authors: Luiz Fernando Capretz\n",
      "Summary: The magnitude of the problems facing the telecommunication software industry\n",
      "is presently at a point at which software engineers should become deeply\n",
      "involved. This paper presents a research project on advanced telecommunication\n",
      "technology carried out in Europe, called BOOST (Broadband Object-Oriented\n",
      "Service Technology). The project involved cooperative work among\n",
      "telecommunication companies, research centres and universities from several\n",
      "countries. The challenges to integrate CASE tools to support software\n",
      "development within the telecommunication application domain are discussed. A\n",
      "software process model that encourages component reusability, named the X\n",
      "model, is described as part of a software life cycle model for the\n",
      "telecommunication software industry.\n",
      "\n",
      "Published: 2022-06-03\n",
      "Title: Oxford-style Debates in Telecommunication and Computer Science Education\n",
      "Authors: Marcin Niemiec\n",
      "Summary: Oxford-style debating is a well-known tool in social sciences. Such formal\n",
      "discussions on particular topics are widely used by historians and\n",
      "sociologists. However, when we try to go beyond standard thinking, it turns out\n",
      "that Oxford-style debating can be a great educational tool in telecommunication\n",
      "and computer science. This article presents this unusual method of education at\n",
      "technical universities and in the IT industry, and describes its features and\n",
      "challenges. Best practices and examples of debating are provided, taking into\n",
      "account emerging topics in telecommunications and computer science, such as\n",
      "cybersecurity. The article also contains feedback from IT engineers who\n",
      "participated in Oxford-style debates. All this aims to encourage this form of\n",
      "education in telecommunication and computer science.\n",
      "\n",
      "Published: 2004-04-13\n",
      "Title: Entropy, Information Matrix and order statistics of Multivariate Pareto, Burr and related distributions\n",
      "Authors: Gholamhossein Yari, Ali Mohammad-Djafari\n",
      "Summary: In this paper we derive the exact analytical expressions for the information\n",
      "and covariance matrices of the multivariate Burr and related distributions.\n",
      "These distributions arise as tractable parametric models in reliability,\n",
      "actuarial science, economics, finance and telecommunications. We show that all\n",
      "the calculations can be obtained from one main moment multi dimensional\n",
      "integral whose expression is obtained through some particular change of\n",
      "variables.\u001b[0m\u001b[32;1m\u001b[1;3mHere are some of the newest research articles from arXiv related to data science in the telecommunications (telco) industry:\n",
      "\n",
      "1. **Title:** TelcoLM: collecting data, adapting, and benchmarking language models for the telecommunication domain  \n",
      "   **Authors:** Camille Barboule, Viet-Phi Huynh, Adrien Bufort, Yoan Chabot, Géraldine Damnati, Gwénolé Lecorvé  \n",
      "   **Published:** 2024-12-20  \n",
      "   **Summary:** This paper discusses the challenges faced by Large Language Models (LLMs) in achieving accuracy in highly technical domains, particularly telecommunications. It focuses on the collection of data, adaptation, and benchmarking of language models tailored for the telco sector.\n",
      "\n",
      "2. **Title:** Context-aware Telco Outdoor Localization  \n",
      "   **Authors:** Yige Zhang, Weixiong Rao, Mingxuan Yuan, Jia Zeng, Pan Hui  \n",
      "   **Published:** 2021-08-24  \n",
      "   **Summary:** This research presents a context-aware localization technique for outdoor mobile devices in telco networks. It aims to improve localization accuracy by detecting and repairing outlier positions using machine learning algorithms, achieving significant improvements in accuracy over existing methods.\n",
      "\n",
      "3. **Title:** Determinants of a Successful Migration to Cloud Computing in Iranian Telecommunication Industry  \n",
      "   **Authors:** Azadeh Erfan  \n",
      "   **Published:** 2013-10-28  \n",
      "   **Summary:** This paper explores the factors influencing successful migration to cloud computing in the Iranian telecommunications sector. It provides a framework for understanding the determinants of success and failure in this transition.\n",
      "\n",
      "4. **Title:** The Challenges of CASE Design Integration in the Telecommunication Application Domain  \n",
      "   **Authors:** Luiz Fernando Capretz  \n",
      "   **Published:** 2015-07-24  \n",
      "   **Summary:** This article discusses the integration of CASE tools in the telecommunication software industry, presenting a software process model aimed at enhancing component reusability.\n",
      "\n",
      "5. **Title:** Oxford-style Debates in Telecommunication and Computer Science Education  \n",
      "   **Authors:** Marcin Niemiec  \n",
      "   **Published:** 2022-06-03  \n",
      "   **Summary:** This paper examines the use of Oxford-style debating as an educational tool in telecommunications and computer science, highlighting its benefits and challenges in fostering critical thinking.\n",
      "\n",
      "These articles cover a range of topics within data science and telecommunications, from localization techniques to educational methods and cloud computing migration.\u001b[0m\n",
      "\n",
      "\u001b[1m> Finished chain.\u001b[0m\n"
     ]
    }
   ],
   "source": [
    "agent = create_tool_calling_agent(chat_openai, tools, prompt)\n",
    "agent_executor = AgentExecutor(agent=agent, tools=tools, verbose=True)\n",
    "\n",
    "result = agent_executor.invoke(\n",
    "    {\n",
    "        \"input\": \"What is the newest research articles from arxiv within data science in telco industry?\",\n",
    "    }\n",
    ")"
   ]
  }
 ],
 "metadata": {
  "colab": {
   "provenance": []
  },
  "kernelspec": {
   "display_name": ".venv",
   "language": "python",
   "name": "python3"
  },
  "language_info": {
   "codemirror_mode": {
    "name": "ipython",
    "version": 3
   },
   "file_extension": ".py",
   "mimetype": "text/x-python",
   "name": "python",
   "nbconvert_exporter": "python",
   "pygments_lexer": "ipython3",
   "version": "3.11.11"
  }
 },
 "nbformat": 4,
 "nbformat_minor": 0
}
