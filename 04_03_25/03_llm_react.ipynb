{
 "cells": [
  {
   "cell_type": "markdown",
   "metadata": {
    "id": "i36ck0WVWEHm"
   },
   "source": [
    "# Agent ReAct wykorzystujący narzędzia"
   ]
  },
  {
   "cell_type": "code",
   "execution_count": 1,
   "metadata": {
    "executionInfo": {
     "elapsed": 4996,
     "status": "ok",
     "timestamp": 1741268655659,
     "user": {
      "displayName": "Andrzej Wodecki",
      "userId": "15583970232716185806"
     },
     "user_tz": -60
    },
    "id": "i8lGwKz7WVaO"
   },
   "outputs": [],
   "source": [
    "import os\n",
    "from dotenv import load_dotenv\n",
    "\n",
    "from langchain_core.messages import HumanMessage\n",
    "from langchain_openai import ChatOpenAI\n",
    "from langchain.agents import load_tools\n",
    "from langchain_community.tools.tavily_search import TavilySearchResults\n",
    "from langchain_community.tools import WikipediaQueryRun\n",
    "from langchain_community.utilities import WikipediaAPIWrapper\n"
   ]
  },
  {
   "cell_type": "code",
   "execution_count": 2,
   "metadata": {},
   "outputs": [],
   "source": [
    "load_dotenv()\n",
    "\n",
    "openai_api_key = os.environ[\"OPENAI_API_KEY\"]\n",
    "\n",
    "llm = ChatOpenAI(openai_api_key=openai_api_key, model=\"gpt-4o-mini\", temperature=0)"
   ]
  },
  {
   "cell_type": "markdown",
   "metadata": {},
   "source": [
    "### Define Tools"
   ]
  },
  {
   "cell_type": "code",
   "execution_count": 3,
   "metadata": {},
   "outputs": [],
   "source": [
    "weather = load_tools([\"openweathermap-api\"])[0]\n",
    "tavily = TavilySearchResults(max_results=5)\n",
    "wikipedia = WikipediaQueryRun(api_wrapper=WikipediaAPIWrapper())\n",
    "arxiv = load_tools([\"arxiv\"])[0]\n",
    "\n",
    "tools = [tavily, weather, wikipedia, arxiv]"
   ]
  },
  {
   "cell_type": "code",
   "execution_count": 6,
   "metadata": {
    "executionInfo": {
     "elapsed": 109,
     "status": "ok",
     "timestamp": 1741268696534,
     "user": {
      "displayName": "Andrzej Wodecki",
      "userId": "15583970232716185806"
     },
     "user_tz": -60
    },
    "id": "UQ_gub6HWWtp"
   },
   "outputs": [],
   "source": [
    "from langgraph.prebuilt import create_react_agent\n",
    "\n",
    "graph = create_react_agent(llm, tools=tools, debug=True)"
   ]
  },
  {
   "cell_type": "code",
   "execution_count": 7,
   "metadata": {
    "colab": {
     "base_uri": "https://localhost:8080/"
    },
    "executionInfo": {
     "elapsed": 21841,
     "status": "ok",
     "timestamp": 1741268734882,
     "user": {
      "displayName": "Andrzej Wodecki",
      "userId": "15583970232716185806"
     },
     "user_tz": -60
    },
    "id": "pzUs1Ln-WnJZ",
    "outputId": "fcb88b90-9bf4-450b-88ee-31f19ca865fd"
   },
   "outputs": [
    {
     "name": "stdout",
     "output_type": "stream",
     "text": [
      "\u001b[36;1m\u001b[1;3m[-1:checkpoint]\u001b[0m \u001b[1mState at the end of step -1:\n",
      "\u001b[0m{'messages': []}\n",
      "\u001b[36;1m\u001b[1;3m[0:tasks]\u001b[0m \u001b[1mStarting 1 task for step 0:\n",
      "\u001b[0m- \u001b[32;1m\u001b[1;3m__start__\u001b[0m -> {'messages': [HumanMessage(content='What is the potential of using Generative AI in Global Retail Supply Chains? Propose 3 best use-cases with usage samples, pros and cons.', additional_kwargs={}, response_metadata={})]}\n",
      "\u001b[36;1m\u001b[1;3m[0:writes]\u001b[0m \u001b[1mFinished step 0 with writes to 1 channel:\n",
      "\u001b[0m- \u001b[33;1m\u001b[1;3mmessages\u001b[0m -> [HumanMessage(content='What is the potential of using Generative AI in Global Retail Supply Chains? Propose 3 best use-cases with usage samples, pros and cons.', additional_kwargs={}, response_metadata={})]\n",
      "\u001b[36;1m\u001b[1;3m[0:checkpoint]\u001b[0m \u001b[1mState at the end of step 0:\n",
      "\u001b[0m{'messages': [HumanMessage(content='What is the potential of using Generative AI in Global Retail Supply Chains? Propose 3 best use-cases with usage samples, pros and cons.', additional_kwargs={}, response_metadata={}, id='711b3fe1-54c2-45d6-adeb-f36113b18337')]}\n",
      "\u001b[36;1m\u001b[1;3m[1:tasks]\u001b[0m \u001b[1mStarting 1 task for step 1:\n",
      "\u001b[0m- \u001b[32;1m\u001b[1;3magent\u001b[0m -> {'is_last_step': False,\n",
      " 'messages': [HumanMessage(content='What is the potential of using Generative AI in Global Retail Supply Chains? Propose 3 best use-cases with usage samples, pros and cons.', additional_kwargs={}, response_metadata={}, id='711b3fe1-54c2-45d6-adeb-f36113b18337')],\n",
      " 'remaining_steps': 24}\n",
      "================================\u001b[1m Human Message \u001b[0m=================================\n",
      "\n",
      "What is the potential of using Generative AI in Global Retail Supply Chains? Propose 3 best use-cases with usage samples, pros and cons.\n",
      "\u001b[36;1m\u001b[1;3m[1:writes]\u001b[0m \u001b[1mFinished step 1 with writes to 1 channel:\n",
      "\u001b[0m- \u001b[33;1m\u001b[1;3mmessages\u001b[0m -> [AIMessage(content='', additional_kwargs={'tool_calls': [{'id': 'call_N1cUiI9Fb4AlY0gAOQFwZvHv', 'function': {'arguments': '{\"query\":\"Generative AI in Global Retail Supply Chains\"}', 'name': 'arxiv'}, 'type': 'function'}], 'refusal': None}, response_metadata={'token_usage': {'completion_tokens': 22, 'prompt_tokens': 289, 'total_tokens': 311, 'completion_tokens_details': {'accepted_prediction_tokens': 0, 'audio_tokens': 0, 'reasoning_tokens': 0, 'rejected_prediction_tokens': 0}, 'prompt_tokens_details': {'audio_tokens': 0, 'cached_tokens': 0}}, 'model_name': 'gpt-4o-mini-2024-07-18', 'system_fingerprint': 'fp_b376dfbbd5', 'id': 'chatcmpl-BJMVfKR4LLSyzb8JvP7j2aDOPtIVK', 'finish_reason': 'tool_calls', 'logprobs': None}, id='run-fee4a2a0-aa15-4b29-be73-c21667765574-0', tool_calls=[{'name': 'arxiv', 'args': {'query': 'Generative AI in Global Retail Supply Chains'}, 'id': 'call_N1cUiI9Fb4AlY0gAOQFwZvHv', 'type': 'tool_call'}], usage_metadata={'input_tokens': 289, 'output_tokens': 22, 'total_tokens': 311, 'input_token_details': {'audio': 0, 'cache_read': 0}, 'output_token_details': {'audio': 0, 'reasoning': 0}})]\n",
      "\u001b[36;1m\u001b[1;3m[1:checkpoint]\u001b[0m \u001b[1mState at the end of step 1:\n",
      "\u001b[0m{'messages': [HumanMessage(content='What is the potential of using Generative AI in Global Retail Supply Chains? Propose 3 best use-cases with usage samples, pros and cons.', additional_kwargs={}, response_metadata={}, id='711b3fe1-54c2-45d6-adeb-f36113b18337'),\n",
      "              AIMessage(content='', additional_kwargs={'tool_calls': [{'id': 'call_N1cUiI9Fb4AlY0gAOQFwZvHv', 'function': {'arguments': '{\"query\":\"Generative AI in Global Retail Supply Chains\"}', 'name': 'arxiv'}, 'type': 'function'}], 'refusal': None}, response_metadata={'token_usage': {'completion_tokens': 22, 'prompt_tokens': 289, 'total_tokens': 311, 'completion_tokens_details': {'accepted_prediction_tokens': 0, 'audio_tokens': 0, 'reasoning_tokens': 0, 'rejected_prediction_tokens': 0}, 'prompt_tokens_details': {'audio_tokens': 0, 'cached_tokens': 0}}, 'model_name': 'gpt-4o-mini-2024-07-18', 'system_fingerprint': 'fp_b376dfbbd5', 'id': 'chatcmpl-BJMVfKR4LLSyzb8JvP7j2aDOPtIVK', 'finish_reason': 'tool_calls', 'logprobs': None}, id='run-fee4a2a0-aa15-4b29-be73-c21667765574-0', tool_calls=[{'name': 'arxiv', 'args': {'query': 'Generative AI in Global Retail Supply Chains'}, 'id': 'call_N1cUiI9Fb4AlY0gAOQFwZvHv', 'type': 'tool_call'}], usage_metadata={'input_tokens': 289, 'output_tokens': 22, 'total_tokens': 311, 'input_token_details': {'audio': 0, 'cache_read': 0}, 'output_token_details': {'audio': 0, 'reasoning': 0}})]}\n",
      "\u001b[36;1m\u001b[1;3m[2:tasks]\u001b[0m \u001b[1mStarting 1 task for step 2:\n",
      "\u001b[0m- \u001b[32;1m\u001b[1;3mtools\u001b[0m -> {'is_last_step': False,\n",
      " 'messages': [HumanMessage(content='What is the potential of using Generative AI in Global Retail Supply Chains? Propose 3 best use-cases with usage samples, pros and cons.', additional_kwargs={}, response_metadata={}, id='711b3fe1-54c2-45d6-adeb-f36113b18337'),\n",
      "              AIMessage(content='', additional_kwargs={'tool_calls': [{'id': 'call_N1cUiI9Fb4AlY0gAOQFwZvHv', 'function': {'arguments': '{\"query\":\"Generative AI in Global Retail Supply Chains\"}', 'name': 'arxiv'}, 'type': 'function'}], 'refusal': None}, response_metadata={'token_usage': {'completion_tokens': 22, 'prompt_tokens': 289, 'total_tokens': 311, 'completion_tokens_details': {'accepted_prediction_tokens': 0, 'audio_tokens': 0, 'reasoning_tokens': 0, 'rejected_prediction_tokens': 0}, 'prompt_tokens_details': {'audio_tokens': 0, 'cached_tokens': 0}}, 'model_name': 'gpt-4o-mini-2024-07-18', 'system_fingerprint': 'fp_b376dfbbd5', 'id': 'chatcmpl-BJMVfKR4LLSyzb8JvP7j2aDOPtIVK', 'finish_reason': 'tool_calls', 'logprobs': None}, id='run-fee4a2a0-aa15-4b29-be73-c21667765574-0', tool_calls=[{'name': 'arxiv', 'args': {'query': 'Generative AI in Global Retail Supply Chains'}, 'id': 'call_N1cUiI9Fb4AlY0gAOQFwZvHv', 'type': 'tool_call'}], usage_metadata={'input_tokens': 289, 'output_tokens': 22, 'total_tokens': 311, 'input_token_details': {'audio': 0, 'cache_read': 0}, 'output_token_details': {'audio': 0, 'reasoning': 0}})],\n",
      " 'remaining_steps': 23}\n",
      "==================================\u001b[1m Ai Message \u001b[0m==================================\n",
      "Tool Calls:\n",
      "  arxiv (call_N1cUiI9Fb4AlY0gAOQFwZvHv)\n",
      " Call ID: call_N1cUiI9Fb4AlY0gAOQFwZvHv\n",
      "  Args:\n",
      "    query: Generative AI in Global Retail Supply Chains\n",
      "\u001b[36;1m\u001b[1;3m[2:writes]\u001b[0m \u001b[1mFinished step 2 with writes to 1 channel:\n",
      "\u001b[0m- \u001b[33;1m\u001b[1;3mmessages\u001b[0m -> [ToolMessage(content=\"Published: 2024-02-29\\nTitle: Pivoting Retail Supply Chain with Deep Generative Techniques: Taxonomy, Survey and Insights\\nAuthors: Yuan Wang, Lokesh Kumar Sambasivan, Mingang Fu, Prakhar Mehrotra\\nSummary: Generative AI applications, such as ChatGPT or DALL-E, have shown the world\\ntheir impressive capabilities in generating human-like text or image. Diving\\ndeeper, the science stakeholder for those AI applications are Deep Generative\\nModels, a.k.a DGMs, which are designed to learn the underlying distribution of\\nthe data and generate new data points that are statistically similar to the\\noriginal dataset. One critical question is raised: how can we leverage DGMs\\ninto morden retail supply chain realm? To address this question, this paper\\nexpects to provide a comprehensive review of DGMs and discuss their existing\\nand potential usecases in retail supply chain, by (1) providing a taxonomy and\\noverview of state-of-the-art DGMs and their variants, (2) reviewing existing\\nDGM applications in retail supply chain from a end-to-end view of point, and\\n(3) discussing insights and potential directions on how DGMs can be further\\nutilized on solving retail supply chain problems.\\n\\nPublished: 2021-05-10\\nTitle: The challenges and realities of retailing in a COVID-19 world: Identifying trending and Vital During Crisis keywords during Covid-19 using Machine Learning (Austria as a case study)\\nAuthors: Reda Mastouri\\nSummary: From global pandemics to geopolitical turmoil, leaders in logistics, product\\nallocation, procurement and operations are facing increasing difficulty with\\nsafeguarding their organizations against supply chain vulnerabilities. It is\\nrecommended to opt for forecasting against trending based benchmark because\\nauditing a future forecast puts more focus on seasonality. The forecasting\\nmodels provide with end-to-end, real time oversight of the entire supply chain,\\nwhile utilizing predictive analytics and artificial intelligence to identify\\npotential disruptions before they occur. By combining internal and external\\ndata points, coming up with an AI-enabled modelling engine can greatly reduce\\nrisk by helping retail companies proactively respond to supply and demand\\nvariability. This research paper puts focus on creating an ingenious way to\\ntackle the impact of COVID19 on Supply chain, product allocation, trending and\\nseasonality.\\n  Key words: Supply chain, covid-19, forecasting, coronavirus, manufacturing,\\nseasonality, trending, retail.\\n\\nPublished: 2013-12-08\\nTitle: Research on fresh agriculture product based on overconfidence of the retailer under options and spot markets dominated\\nAuthors: Kai Nie, Man Yu\\nSummary: In this article, we analyze the application of options contract in special\\ncommodity supply chain such as fresh agricultural products. This problem is\\ndiscussed in the point of the retailer. When spot market and future market are\\nboth available, we discuss how the retailer chooses the optimal production.\\nFurthermore, overconfidence is introduced to the supply chain of the fresh\\nagricultural products, which has not happened before. Then,based on the\\noverconfidence of the retailer, we explore how overconfidence affects the\\nsupply chain system under different circumstances. At last, we get the\\nconclusion that different overconfidence level has different affection on\\nretailer's optimal ordering quantity and profit.\", name='arxiv', tool_call_id='call_N1cUiI9Fb4AlY0gAOQFwZvHv')]\n",
      "\u001b[36;1m\u001b[1;3m[2:checkpoint]\u001b[0m \u001b[1mState at the end of step 2:\n",
      "\u001b[0m{'messages': [HumanMessage(content='What is the potential of using Generative AI in Global Retail Supply Chains? Propose 3 best use-cases with usage samples, pros and cons.', additional_kwargs={}, response_metadata={}, id='711b3fe1-54c2-45d6-adeb-f36113b18337'),\n",
      "              AIMessage(content='', additional_kwargs={'tool_calls': [{'id': 'call_N1cUiI9Fb4AlY0gAOQFwZvHv', 'function': {'arguments': '{\"query\":\"Generative AI in Global Retail Supply Chains\"}', 'name': 'arxiv'}, 'type': 'function'}], 'refusal': None}, response_metadata={'token_usage': {'completion_tokens': 22, 'prompt_tokens': 289, 'total_tokens': 311, 'completion_tokens_details': {'accepted_prediction_tokens': 0, 'audio_tokens': 0, 'reasoning_tokens': 0, 'rejected_prediction_tokens': 0}, 'prompt_tokens_details': {'audio_tokens': 0, 'cached_tokens': 0}}, 'model_name': 'gpt-4o-mini-2024-07-18', 'system_fingerprint': 'fp_b376dfbbd5', 'id': 'chatcmpl-BJMVfKR4LLSyzb8JvP7j2aDOPtIVK', 'finish_reason': 'tool_calls', 'logprobs': None}, id='run-fee4a2a0-aa15-4b29-be73-c21667765574-0', tool_calls=[{'name': 'arxiv', 'args': {'query': 'Generative AI in Global Retail Supply Chains'}, 'id': 'call_N1cUiI9Fb4AlY0gAOQFwZvHv', 'type': 'tool_call'}], usage_metadata={'input_tokens': 289, 'output_tokens': 22, 'total_tokens': 311, 'input_token_details': {'audio': 0, 'cache_read': 0}, 'output_token_details': {'audio': 0, 'reasoning': 0}}),\n",
      "              ToolMessage(content=\"Published: 2024-02-29\\nTitle: Pivoting Retail Supply Chain with Deep Generative Techniques: Taxonomy, Survey and Insights\\nAuthors: Yuan Wang, Lokesh Kumar Sambasivan, Mingang Fu, Prakhar Mehrotra\\nSummary: Generative AI applications, such as ChatGPT or DALL-E, have shown the world\\ntheir impressive capabilities in generating human-like text or image. Diving\\ndeeper, the science stakeholder for those AI applications are Deep Generative\\nModels, a.k.a DGMs, which are designed to learn the underlying distribution of\\nthe data and generate new data points that are statistically similar to the\\noriginal dataset. One critical question is raised: how can we leverage DGMs\\ninto morden retail supply chain realm? To address this question, this paper\\nexpects to provide a comprehensive review of DGMs and discuss their existing\\nand potential usecases in retail supply chain, by (1) providing a taxonomy and\\noverview of state-of-the-art DGMs and their variants, (2) reviewing existing\\nDGM applications in retail supply chain from a end-to-end view of point, and\\n(3) discussing insights and potential directions on how DGMs can be further\\nutilized on solving retail supply chain problems.\\n\\nPublished: 2021-05-10\\nTitle: The challenges and realities of retailing in a COVID-19 world: Identifying trending and Vital During Crisis keywords during Covid-19 using Machine Learning (Austria as a case study)\\nAuthors: Reda Mastouri\\nSummary: From global pandemics to geopolitical turmoil, leaders in logistics, product\\nallocation, procurement and operations are facing increasing difficulty with\\nsafeguarding their organizations against supply chain vulnerabilities. It is\\nrecommended to opt for forecasting against trending based benchmark because\\nauditing a future forecast puts more focus on seasonality. The forecasting\\nmodels provide with end-to-end, real time oversight of the entire supply chain,\\nwhile utilizing predictive analytics and artificial intelligence to identify\\npotential disruptions before they occur. By combining internal and external\\ndata points, coming up with an AI-enabled modelling engine can greatly reduce\\nrisk by helping retail companies proactively respond to supply and demand\\nvariability. This research paper puts focus on creating an ingenious way to\\ntackle the impact of COVID19 on Supply chain, product allocation, trending and\\nseasonality.\\n  Key words: Supply chain, covid-19, forecasting, coronavirus, manufacturing,\\nseasonality, trending, retail.\\n\\nPublished: 2013-12-08\\nTitle: Research on fresh agriculture product based on overconfidence of the retailer under options and spot markets dominated\\nAuthors: Kai Nie, Man Yu\\nSummary: In this article, we analyze the application of options contract in special\\ncommodity supply chain such as fresh agricultural products. This problem is\\ndiscussed in the point of the retailer. When spot market and future market are\\nboth available, we discuss how the retailer chooses the optimal production.\\nFurthermore, overconfidence is introduced to the supply chain of the fresh\\nagricultural products, which has not happened before. Then,based on the\\noverconfidence of the retailer, we explore how overconfidence affects the\\nsupply chain system under different circumstances. At last, we get the\\nconclusion that different overconfidence level has different affection on\\nretailer's optimal ordering quantity and profit.\", name='arxiv', id='1504cb4d-09d1-4ca8-bd61-4cbd96d831a6', tool_call_id='call_N1cUiI9Fb4AlY0gAOQFwZvHv')]}\n",
      "\u001b[36;1m\u001b[1;3m[3:tasks]\u001b[0m \u001b[1mStarting 1 task for step 3:\n",
      "\u001b[0m- \u001b[32;1m\u001b[1;3magent\u001b[0m -> {'is_last_step': False,\n",
      " 'messages': [HumanMessage(content='What is the potential of using Generative AI in Global Retail Supply Chains? Propose 3 best use-cases with usage samples, pros and cons.', additional_kwargs={}, response_metadata={}, id='711b3fe1-54c2-45d6-adeb-f36113b18337'),\n",
      "              AIMessage(content='', additional_kwargs={'tool_calls': [{'id': 'call_N1cUiI9Fb4AlY0gAOQFwZvHv', 'function': {'arguments': '{\"query\":\"Generative AI in Global Retail Supply Chains\"}', 'name': 'arxiv'}, 'type': 'function'}], 'refusal': None}, response_metadata={'token_usage': {'completion_tokens': 22, 'prompt_tokens': 289, 'total_tokens': 311, 'completion_tokens_details': {'accepted_prediction_tokens': 0, 'audio_tokens': 0, 'reasoning_tokens': 0, 'rejected_prediction_tokens': 0}, 'prompt_tokens_details': {'audio_tokens': 0, 'cached_tokens': 0}}, 'model_name': 'gpt-4o-mini-2024-07-18', 'system_fingerprint': 'fp_b376dfbbd5', 'id': 'chatcmpl-BJMVfKR4LLSyzb8JvP7j2aDOPtIVK', 'finish_reason': 'tool_calls', 'logprobs': None}, id='run-fee4a2a0-aa15-4b29-be73-c21667765574-0', tool_calls=[{'name': 'arxiv', 'args': {'query': 'Generative AI in Global Retail Supply Chains'}, 'id': 'call_N1cUiI9Fb4AlY0gAOQFwZvHv', 'type': 'tool_call'}], usage_metadata={'input_tokens': 289, 'output_tokens': 22, 'total_tokens': 311, 'input_token_details': {'audio': 0, 'cache_read': 0}, 'output_token_details': {'audio': 0, 'reasoning': 0}}),\n",
      "              ToolMessage(content=\"Published: 2024-02-29\\nTitle: Pivoting Retail Supply Chain with Deep Generative Techniques: Taxonomy, Survey and Insights\\nAuthors: Yuan Wang, Lokesh Kumar Sambasivan, Mingang Fu, Prakhar Mehrotra\\nSummary: Generative AI applications, such as ChatGPT or DALL-E, have shown the world\\ntheir impressive capabilities in generating human-like text or image. Diving\\ndeeper, the science stakeholder for those AI applications are Deep Generative\\nModels, a.k.a DGMs, which are designed to learn the underlying distribution of\\nthe data and generate new data points that are statistically similar to the\\noriginal dataset. One critical question is raised: how can we leverage DGMs\\ninto morden retail supply chain realm? To address this question, this paper\\nexpects to provide a comprehensive review of DGMs and discuss their existing\\nand potential usecases in retail supply chain, by (1) providing a taxonomy and\\noverview of state-of-the-art DGMs and their variants, (2) reviewing existing\\nDGM applications in retail supply chain from a end-to-end view of point, and\\n(3) discussing insights and potential directions on how DGMs can be further\\nutilized on solving retail supply chain problems.\\n\\nPublished: 2021-05-10\\nTitle: The challenges and realities of retailing in a COVID-19 world: Identifying trending and Vital During Crisis keywords during Covid-19 using Machine Learning (Austria as a case study)\\nAuthors: Reda Mastouri\\nSummary: From global pandemics to geopolitical turmoil, leaders in logistics, product\\nallocation, procurement and operations are facing increasing difficulty with\\nsafeguarding their organizations against supply chain vulnerabilities. It is\\nrecommended to opt for forecasting against trending based benchmark because\\nauditing a future forecast puts more focus on seasonality. The forecasting\\nmodels provide with end-to-end, real time oversight of the entire supply chain,\\nwhile utilizing predictive analytics and artificial intelligence to identify\\npotential disruptions before they occur. By combining internal and external\\ndata points, coming up with an AI-enabled modelling engine can greatly reduce\\nrisk by helping retail companies proactively respond to supply and demand\\nvariability. This research paper puts focus on creating an ingenious way to\\ntackle the impact of COVID19 on Supply chain, product allocation, trending and\\nseasonality.\\n  Key words: Supply chain, covid-19, forecasting, coronavirus, manufacturing,\\nseasonality, trending, retail.\\n\\nPublished: 2013-12-08\\nTitle: Research on fresh agriculture product based on overconfidence of the retailer under options and spot markets dominated\\nAuthors: Kai Nie, Man Yu\\nSummary: In this article, we analyze the application of options contract in special\\ncommodity supply chain such as fresh agricultural products. This problem is\\ndiscussed in the point of the retailer. When spot market and future market are\\nboth available, we discuss how the retailer chooses the optimal production.\\nFurthermore, overconfidence is introduced to the supply chain of the fresh\\nagricultural products, which has not happened before. Then,based on the\\noverconfidence of the retailer, we explore how overconfidence affects the\\nsupply chain system under different circumstances. At last, we get the\\nconclusion that different overconfidence level has different affection on\\nretailer's optimal ordering quantity and profit.\", name='arxiv', id='1504cb4d-09d1-4ca8-bd61-4cbd96d831a6', tool_call_id='call_N1cUiI9Fb4AlY0gAOQFwZvHv')],\n",
      " 'remaining_steps': 22}\n",
      "=================================\u001b[1m Tool Message \u001b[0m=================================\n",
      "Name: arxiv\n",
      "\n",
      "Published: 2024-02-29\n",
      "Title: Pivoting Retail Supply Chain with Deep Generative Techniques: Taxonomy, Survey and Insights\n",
      "Authors: Yuan Wang, Lokesh Kumar Sambasivan, Mingang Fu, Prakhar Mehrotra\n",
      "Summary: Generative AI applications, such as ChatGPT or DALL-E, have shown the world\n",
      "their impressive capabilities in generating human-like text or image. Diving\n",
      "deeper, the science stakeholder for those AI applications are Deep Generative\n",
      "Models, a.k.a DGMs, which are designed to learn the underlying distribution of\n",
      "the data and generate new data points that are statistically similar to the\n",
      "original dataset. One critical question is raised: how can we leverage DGMs\n",
      "into morden retail supply chain realm? To address this question, this paper\n",
      "expects to provide a comprehensive review of DGMs and discuss their existing\n",
      "and potential usecases in retail supply chain, by (1) providing a taxonomy and\n",
      "overview of state-of-the-art DGMs and their variants, (2) reviewing existing\n",
      "DGM applications in retail supply chain from a end-to-end view of point, and\n",
      "(3) discussing insights and potential directions on how DGMs can be further\n",
      "utilized on solving retail supply chain problems.\n",
      "\n",
      "Published: 2021-05-10\n",
      "Title: The challenges and realities of retailing in a COVID-19 world: Identifying trending and Vital During Crisis keywords during Covid-19 using Machine Learning (Austria as a case study)\n",
      "Authors: Reda Mastouri\n",
      "Summary: From global pandemics to geopolitical turmoil, leaders in logistics, product\n",
      "allocation, procurement and operations are facing increasing difficulty with\n",
      "safeguarding their organizations against supply chain vulnerabilities. It is\n",
      "recommended to opt for forecasting against trending based benchmark because\n",
      "auditing a future forecast puts more focus on seasonality. The forecasting\n",
      "models provide with end-to-end, real time oversight of the entire supply chain,\n",
      "while utilizing predictive analytics and artificial intelligence to identify\n",
      "potential disruptions before they occur. By combining internal and external\n",
      "data points, coming up with an AI-enabled modelling engine can greatly reduce\n",
      "risk by helping retail companies proactively respond to supply and demand\n",
      "variability. This research paper puts focus on creating an ingenious way to\n",
      "tackle the impact of COVID19 on Supply chain, product allocation, trending and\n",
      "seasonality.\n",
      "  Key words: Supply chain, covid-19, forecasting, coronavirus, manufacturing,\n",
      "seasonality, trending, retail.\n",
      "\n",
      "Published: 2013-12-08\n",
      "Title: Research on fresh agriculture product based on overconfidence of the retailer under options and spot markets dominated\n",
      "Authors: Kai Nie, Man Yu\n",
      "Summary: In this article, we analyze the application of options contract in special\n",
      "commodity supply chain such as fresh agricultural products. This problem is\n",
      "discussed in the point of the retailer. When spot market and future market are\n",
      "both available, we discuss how the retailer chooses the optimal production.\n",
      "Furthermore, overconfidence is introduced to the supply chain of the fresh\n",
      "agricultural products, which has not happened before. Then,based on the\n",
      "overconfidence of the retailer, we explore how overconfidence affects the\n",
      "supply chain system under different circumstances. At last, we get the\n",
      "conclusion that different overconfidence level has different affection on\n",
      "retailer's optimal ordering quantity and profit.\n",
      "\u001b[36;1m\u001b[1;3m[3:writes]\u001b[0m \u001b[1mFinished step 3 with writes to 1 channel:\n",
      "\u001b[0m- \u001b[33;1m\u001b[1;3mmessages\u001b[0m -> [AIMessage(content='Generative AI has significant potential in global retail supply chains, offering innovative solutions to enhance efficiency, reduce costs, and improve customer satisfaction. Here are three promising use cases, along with their pros and cons:\\n\\n### 1. Demand Forecasting and Inventory Management\\n\\n**Usage Sample:**\\nGenerative AI can analyze historical sales data, market trends, and external factors (like weather or economic indicators) to generate accurate demand forecasts. For instance, a retail chain could use AI to predict the demand for winter clothing based on past sales data and current fashion trends.\\n\\n**Pros:**\\n- **Improved Accuracy:** AI can identify patterns and correlations that human analysts might miss, leading to more accurate forecasts.\\n- **Reduced Waste:** Better forecasting helps in optimizing inventory levels, reducing overstock and stockouts.\\n- **Dynamic Adjustments:** AI can continuously learn and adjust forecasts based on real-time data.\\n\\n**Cons:**\\n- **Data Dependency:** Requires high-quality, comprehensive data for effective training and predictions.\\n- **Complexity:** Implementing AI solutions can be complex and may require significant investment in technology and training.\\n- **Resistance to Change:** Employees may resist adopting AI-driven processes, fearing job displacement.\\n\\n### 2. Personalized Marketing and Customer Engagement\\n\\n**Usage Sample:**\\nGenerative AI can create personalized marketing content and product recommendations based on customer behavior and preferences. For example, an online retailer could use AI to generate tailored email campaigns that suggest products based on previous purchases and browsing history.\\n\\n**Pros:**\\n- **Enhanced Customer Experience:** Personalized interactions can lead to higher customer satisfaction and loyalty.\\n- **Increased Sales:** Targeted marketing can improve conversion rates and average order values.\\n- **Scalability:** AI can generate content at scale, allowing for personalized marketing to a large audience.\\n\\n**Cons:**\\n- **Privacy Concerns:** Collecting and analyzing customer data raises privacy issues and regulatory compliance challenges.\\n- **Quality Control:** Generated content may not always align with brand voice or quality standards.\\n- **Over-Reliance on Data:** May lead to a lack of creativity in marketing strategies if overly dependent on AI-generated insights.\\n\\n### 3. Supply Chain Optimization and Risk Management\\n\\n**Usage Sample:**\\nGenerative AI can simulate various supply chain scenarios to identify potential risks and optimize logistics. For instance, a retailer could use AI to model the impact of a supplier disruption and generate alternative sourcing strategies.\\n\\n**Pros:**\\n- **Proactive Risk Management:** AI can identify vulnerabilities and suggest mitigation strategies before issues arise.\\n- **Cost Savings:** Optimizing logistics and supply chain processes can lead to significant cost reductions.\\n- **Enhanced Decision-Making:** AI-generated insights can support data-driven decision-making in supply chain management.\\n\\n**Cons:**\\n- **Implementation Challenges:** Integrating AI into existing supply chain systems can be complex and resource-intensive.\\n- **Dependence on Accurate Models:** The effectiveness of AI simulations relies on the accuracy of the underlying models and data.\\n- **Potential Job Displacement:** Automation of supply chain tasks may lead to job losses in certain areas.\\n\\n### Conclusion\\nGenerative AI holds transformative potential for global retail supply chains, enabling improved forecasting, personalized marketing, and optimized logistics. However, organizations must carefully consider the associated challenges and invest in the necessary infrastructure and training to fully leverage these technologies.', additional_kwargs={'refusal': None}, response_metadata={'token_usage': {'completion_tokens': 665, 'prompt_tokens': 1004, 'total_tokens': 1669, 'completion_tokens_details': {'accepted_prediction_tokens': 0, 'audio_tokens': 0, 'reasoning_tokens': 0, 'rejected_prediction_tokens': 0}, 'prompt_tokens_details': {'audio_tokens': 0, 'cached_tokens': 0}}, 'model_name': 'gpt-4o-mini-2024-07-18', 'system_fingerprint': 'fp_b376dfbbd5', 'id': 'chatcmpl-BJMViL9mzW2yi1yvJrqF3yCSl8I4J', 'finish_reason': 'stop', 'logprobs': None}, id='run-17bd4cbc-fd7a-41d5-a3d3-3bc4241aab6e-0', usage_metadata={'input_tokens': 1004, 'output_tokens': 665, 'total_tokens': 1669, 'input_token_details': {'audio': 0, 'cache_read': 0}, 'output_token_details': {'audio': 0, 'reasoning': 0}})]\n",
      "\u001b[36;1m\u001b[1;3m[3:checkpoint]\u001b[0m \u001b[1mState at the end of step 3:\n",
      "\u001b[0m{'messages': [HumanMessage(content='What is the potential of using Generative AI in Global Retail Supply Chains? Propose 3 best use-cases with usage samples, pros and cons.', additional_kwargs={}, response_metadata={}, id='711b3fe1-54c2-45d6-adeb-f36113b18337'),\n",
      "              AIMessage(content='', additional_kwargs={'tool_calls': [{'id': 'call_N1cUiI9Fb4AlY0gAOQFwZvHv', 'function': {'arguments': '{\"query\":\"Generative AI in Global Retail Supply Chains\"}', 'name': 'arxiv'}, 'type': 'function'}], 'refusal': None}, response_metadata={'token_usage': {'completion_tokens': 22, 'prompt_tokens': 289, 'total_tokens': 311, 'completion_tokens_details': {'accepted_prediction_tokens': 0, 'audio_tokens': 0, 'reasoning_tokens': 0, 'rejected_prediction_tokens': 0}, 'prompt_tokens_details': {'audio_tokens': 0, 'cached_tokens': 0}}, 'model_name': 'gpt-4o-mini-2024-07-18', 'system_fingerprint': 'fp_b376dfbbd5', 'id': 'chatcmpl-BJMVfKR4LLSyzb8JvP7j2aDOPtIVK', 'finish_reason': 'tool_calls', 'logprobs': None}, id='run-fee4a2a0-aa15-4b29-be73-c21667765574-0', tool_calls=[{'name': 'arxiv', 'args': {'query': 'Generative AI in Global Retail Supply Chains'}, 'id': 'call_N1cUiI9Fb4AlY0gAOQFwZvHv', 'type': 'tool_call'}], usage_metadata={'input_tokens': 289, 'output_tokens': 22, 'total_tokens': 311, 'input_token_details': {'audio': 0, 'cache_read': 0}, 'output_token_details': {'audio': 0, 'reasoning': 0}}),\n",
      "              ToolMessage(content=\"Published: 2024-02-29\\nTitle: Pivoting Retail Supply Chain with Deep Generative Techniques: Taxonomy, Survey and Insights\\nAuthors: Yuan Wang, Lokesh Kumar Sambasivan, Mingang Fu, Prakhar Mehrotra\\nSummary: Generative AI applications, such as ChatGPT or DALL-E, have shown the world\\ntheir impressive capabilities in generating human-like text or image. Diving\\ndeeper, the science stakeholder for those AI applications are Deep Generative\\nModels, a.k.a DGMs, which are designed to learn the underlying distribution of\\nthe data and generate new data points that are statistically similar to the\\noriginal dataset. One critical question is raised: how can we leverage DGMs\\ninto morden retail supply chain realm? To address this question, this paper\\nexpects to provide a comprehensive review of DGMs and discuss their existing\\nand potential usecases in retail supply chain, by (1) providing a taxonomy and\\noverview of state-of-the-art DGMs and their variants, (2) reviewing existing\\nDGM applications in retail supply chain from a end-to-end view of point, and\\n(3) discussing insights and potential directions on how DGMs can be further\\nutilized on solving retail supply chain problems.\\n\\nPublished: 2021-05-10\\nTitle: The challenges and realities of retailing in a COVID-19 world: Identifying trending and Vital During Crisis keywords during Covid-19 using Machine Learning (Austria as a case study)\\nAuthors: Reda Mastouri\\nSummary: From global pandemics to geopolitical turmoil, leaders in logistics, product\\nallocation, procurement and operations are facing increasing difficulty with\\nsafeguarding their organizations against supply chain vulnerabilities. It is\\nrecommended to opt for forecasting against trending based benchmark because\\nauditing a future forecast puts more focus on seasonality. The forecasting\\nmodels provide with end-to-end, real time oversight of the entire supply chain,\\nwhile utilizing predictive analytics and artificial intelligence to identify\\npotential disruptions before they occur. By combining internal and external\\ndata points, coming up with an AI-enabled modelling engine can greatly reduce\\nrisk by helping retail companies proactively respond to supply and demand\\nvariability. This research paper puts focus on creating an ingenious way to\\ntackle the impact of COVID19 on Supply chain, product allocation, trending and\\nseasonality.\\n  Key words: Supply chain, covid-19, forecasting, coronavirus, manufacturing,\\nseasonality, trending, retail.\\n\\nPublished: 2013-12-08\\nTitle: Research on fresh agriculture product based on overconfidence of the retailer under options and spot markets dominated\\nAuthors: Kai Nie, Man Yu\\nSummary: In this article, we analyze the application of options contract in special\\ncommodity supply chain such as fresh agricultural products. This problem is\\ndiscussed in the point of the retailer. When spot market and future market are\\nboth available, we discuss how the retailer chooses the optimal production.\\nFurthermore, overconfidence is introduced to the supply chain of the fresh\\nagricultural products, which has not happened before. Then,based on the\\noverconfidence of the retailer, we explore how overconfidence affects the\\nsupply chain system under different circumstances. At last, we get the\\nconclusion that different overconfidence level has different affection on\\nretailer's optimal ordering quantity and profit.\", name='arxiv', id='1504cb4d-09d1-4ca8-bd61-4cbd96d831a6', tool_call_id='call_N1cUiI9Fb4AlY0gAOQFwZvHv'),\n",
      "              AIMessage(content='Generative AI has significant potential in global retail supply chains, offering innovative solutions to enhance efficiency, reduce costs, and improve customer satisfaction. Here are three promising use cases, along with their pros and cons:\\n\\n### 1. Demand Forecasting and Inventory Management\\n\\n**Usage Sample:**\\nGenerative AI can analyze historical sales data, market trends, and external factors (like weather or economic indicators) to generate accurate demand forecasts. For instance, a retail chain could use AI to predict the demand for winter clothing based on past sales data and current fashion trends.\\n\\n**Pros:**\\n- **Improved Accuracy:** AI can identify patterns and correlations that human analysts might miss, leading to more accurate forecasts.\\n- **Reduced Waste:** Better forecasting helps in optimizing inventory levels, reducing overstock and stockouts.\\n- **Dynamic Adjustments:** AI can continuously learn and adjust forecasts based on real-time data.\\n\\n**Cons:**\\n- **Data Dependency:** Requires high-quality, comprehensive data for effective training and predictions.\\n- **Complexity:** Implementing AI solutions can be complex and may require significant investment in technology and training.\\n- **Resistance to Change:** Employees may resist adopting AI-driven processes, fearing job displacement.\\n\\n### 2. Personalized Marketing and Customer Engagement\\n\\n**Usage Sample:**\\nGenerative AI can create personalized marketing content and product recommendations based on customer behavior and preferences. For example, an online retailer could use AI to generate tailored email campaigns that suggest products based on previous purchases and browsing history.\\n\\n**Pros:**\\n- **Enhanced Customer Experience:** Personalized interactions can lead to higher customer satisfaction and loyalty.\\n- **Increased Sales:** Targeted marketing can improve conversion rates and average order values.\\n- **Scalability:** AI can generate content at scale, allowing for personalized marketing to a large audience.\\n\\n**Cons:**\\n- **Privacy Concerns:** Collecting and analyzing customer data raises privacy issues and regulatory compliance challenges.\\n- **Quality Control:** Generated content may not always align with brand voice or quality standards.\\n- **Over-Reliance on Data:** May lead to a lack of creativity in marketing strategies if overly dependent on AI-generated insights.\\n\\n### 3. Supply Chain Optimization and Risk Management\\n\\n**Usage Sample:**\\nGenerative AI can simulate various supply chain scenarios to identify potential risks and optimize logistics. For instance, a retailer could use AI to model the impact of a supplier disruption and generate alternative sourcing strategies.\\n\\n**Pros:**\\n- **Proactive Risk Management:** AI can identify vulnerabilities and suggest mitigation strategies before issues arise.\\n- **Cost Savings:** Optimizing logistics and supply chain processes can lead to significant cost reductions.\\n- **Enhanced Decision-Making:** AI-generated insights can support data-driven decision-making in supply chain management.\\n\\n**Cons:**\\n- **Implementation Challenges:** Integrating AI into existing supply chain systems can be complex and resource-intensive.\\n- **Dependence on Accurate Models:** The effectiveness of AI simulations relies on the accuracy of the underlying models and data.\\n- **Potential Job Displacement:** Automation of supply chain tasks may lead to job losses in certain areas.\\n\\n### Conclusion\\nGenerative AI holds transformative potential for global retail supply chains, enabling improved forecasting, personalized marketing, and optimized logistics. However, organizations must carefully consider the associated challenges and invest in the necessary infrastructure and training to fully leverage these technologies.', additional_kwargs={'refusal': None}, response_metadata={'token_usage': {'completion_tokens': 665, 'prompt_tokens': 1004, 'total_tokens': 1669, 'completion_tokens_details': {'accepted_prediction_tokens': 0, 'audio_tokens': 0, 'reasoning_tokens': 0, 'rejected_prediction_tokens': 0}, 'prompt_tokens_details': {'audio_tokens': 0, 'cached_tokens': 0}}, 'model_name': 'gpt-4o-mini-2024-07-18', 'system_fingerprint': 'fp_b376dfbbd5', 'id': 'chatcmpl-BJMViL9mzW2yi1yvJrqF3yCSl8I4J', 'finish_reason': 'stop', 'logprobs': None}, id='run-17bd4cbc-fd7a-41d5-a3d3-3bc4241aab6e-0', usage_metadata={'input_tokens': 1004, 'output_tokens': 665, 'total_tokens': 1669, 'input_token_details': {'audio': 0, 'cache_read': 0}, 'output_token_details': {'audio': 0, 'reasoning': 0}})]}\n",
      "==================================\u001b[1m Ai Message \u001b[0m==================================\n",
      "\n",
      "Generative AI has significant potential in global retail supply chains, offering innovative solutions to enhance efficiency, reduce costs, and improve customer satisfaction. Here are three promising use cases, along with their pros and cons:\n",
      "\n",
      "### 1. Demand Forecasting and Inventory Management\n",
      "\n",
      "**Usage Sample:**\n",
      "Generative AI can analyze historical sales data, market trends, and external factors (like weather or economic indicators) to generate accurate demand forecasts. For instance, a retail chain could use AI to predict the demand for winter clothing based on past sales data and current fashion trends.\n",
      "\n",
      "**Pros:**\n",
      "- **Improved Accuracy:** AI can identify patterns and correlations that human analysts might miss, leading to more accurate forecasts.\n",
      "- **Reduced Waste:** Better forecasting helps in optimizing inventory levels, reducing overstock and stockouts.\n",
      "- **Dynamic Adjustments:** AI can continuously learn and adjust forecasts based on real-time data.\n",
      "\n",
      "**Cons:**\n",
      "- **Data Dependency:** Requires high-quality, comprehensive data for effective training and predictions.\n",
      "- **Complexity:** Implementing AI solutions can be complex and may require significant investment in technology and training.\n",
      "- **Resistance to Change:** Employees may resist adopting AI-driven processes, fearing job displacement.\n",
      "\n",
      "### 2. Personalized Marketing and Customer Engagement\n",
      "\n",
      "**Usage Sample:**\n",
      "Generative AI can create personalized marketing content and product recommendations based on customer behavior and preferences. For example, an online retailer could use AI to generate tailored email campaigns that suggest products based on previous purchases and browsing history.\n",
      "\n",
      "**Pros:**\n",
      "- **Enhanced Customer Experience:** Personalized interactions can lead to higher customer satisfaction and loyalty.\n",
      "- **Increased Sales:** Targeted marketing can improve conversion rates and average order values.\n",
      "- **Scalability:** AI can generate content at scale, allowing for personalized marketing to a large audience.\n",
      "\n",
      "**Cons:**\n",
      "- **Privacy Concerns:** Collecting and analyzing customer data raises privacy issues and regulatory compliance challenges.\n",
      "- **Quality Control:** Generated content may not always align with brand voice or quality standards.\n",
      "- **Over-Reliance on Data:** May lead to a lack of creativity in marketing strategies if overly dependent on AI-generated insights.\n",
      "\n",
      "### 3. Supply Chain Optimization and Risk Management\n",
      "\n",
      "**Usage Sample:**\n",
      "Generative AI can simulate various supply chain scenarios to identify potential risks and optimize logistics. For instance, a retailer could use AI to model the impact of a supplier disruption and generate alternative sourcing strategies.\n",
      "\n",
      "**Pros:**\n",
      "- **Proactive Risk Management:** AI can identify vulnerabilities and suggest mitigation strategies before issues arise.\n",
      "- **Cost Savings:** Optimizing logistics and supply chain processes can lead to significant cost reductions.\n",
      "- **Enhanced Decision-Making:** AI-generated insights can support data-driven decision-making in supply chain management.\n",
      "\n",
      "**Cons:**\n",
      "- **Implementation Challenges:** Integrating AI into existing supply chain systems can be complex and resource-intensive.\n",
      "- **Dependence on Accurate Models:** The effectiveness of AI simulations relies on the accuracy of the underlying models and data.\n",
      "- **Potential Job Displacement:** Automation of supply chain tasks may lead to job losses in certain areas.\n",
      "\n",
      "### Conclusion\n",
      "Generative AI holds transformative potential for global retail supply chains, enabling improved forecasting, personalized marketing, and optimized logistics. However, organizations must carefully consider the associated challenges and invest in the necessary infrastructure and training to fully leverage these technologies.\n"
     ]
    }
   ],
   "source": [
    "question = \"What is the potential of using Generative AI in Global Retail Supply Chains? Propose 3 best use-cases with usage samples, pros and cons.\"\n",
    "input_message = HumanMessage(content=question)\n",
    "\n",
    "for event in graph.stream({\"messages\": [input_message]}, stream_mode=\"values\"):\n",
    "     event[\"messages\"][-1].pretty_print()"
   ]
  }
 ],
 "metadata": {
  "colab": {
   "provenance": []
  },
  "kernelspec": {
   "display_name": ".venv",
   "language": "python",
   "name": "python3"
  },
  "language_info": {
   "codemirror_mode": {
    "name": "ipython",
    "version": 3
   },
   "file_extension": ".py",
   "mimetype": "text/x-python",
   "name": "python",
   "nbconvert_exporter": "python",
   "pygments_lexer": "ipython3",
   "version": "3.11.11"
  }
 },
 "nbformat": 4,
 "nbformat_minor": 0
}
