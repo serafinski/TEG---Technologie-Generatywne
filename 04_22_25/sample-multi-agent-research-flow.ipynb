{
 "cells": [
  {
   "cell_type": "markdown",
   "id": "e0a5763f-5f45-4b8f-b3e2-480f46c5721b",
   "metadata": {
    "id": "e0a5763f-5f45-4b8f-b3e2-480f46c5721b"
   },
   "source": [
    "# Zespół asystentów badacza\n",
    "\n",
    "W tym notatniku stworzymy zespół ekspertów, którzy pomogą nam rozwiązać problem.\n",
    "\n",
    "To nasz najbardziej zaawansowany projekt, integrujący wszystkie przedstawione dotąd idee, a przy okazji praktyczny i o dużym potencjale dalszego rozwoju."
   ]
  },
  {
   "cell_type": "markdown",
   "id": "99a1c01d-87e1-4723-b83e-ebcf937fe914",
   "metadata": {
    "id": "99a1c01d-87e1-4723-b83e-ebcf937fe914"
   },
   "source": [
    "## Setup"
   ]
  },
  {
   "cell_type": "code",
   "execution_count": null,
   "id": "ba917800-10e4-4e2a-8e9e-30893b731e97",
   "metadata": {
    "executionInfo": {
     "elapsed": 42,
     "status": "ok",
     "timestamp": 1740314020597,
     "user": {
      "displayName": "Andrzej Wodecki",
      "userId": "15583970232716185806"
     },
     "user_tz": -60
    },
    "id": "ba917800-10e4-4e2a-8e9e-30893b731e97"
   },
   "outputs": [],
   "source": [
    "from dotenv import load_dotenv\n",
    "load_dotenv()"
   ]
  },
  {
   "cell_type": "code",
   "execution_count": 2,
   "id": "afe9ff57-0826-4669-b88b-4d0501a509f5",
   "metadata": {
    "executionInfo": {
     "elapsed": 3913,
     "status": "ok",
     "timestamp": 1740314027757,
     "user": {
      "displayName": "Andrzej Wodecki",
      "userId": "15583970232716185806"
     },
     "user_tz": -60
    },
    "id": "afe9ff57-0826-4669-b88b-4d0501a509f5"
   },
   "outputs": [],
   "source": [
    "from langchain_openai import ChatOpenAI\n",
    "llm = ChatOpenAI(model=\"gpt-4o-mini\", temperature=0)"
   ]
  },
  {
   "cell_type": "markdown",
   "id": "f8fe5d93-e353-44bb-be3e-434654bcb7ea",
   "metadata": {
    "id": "f8fe5d93-e353-44bb-be3e-434654bcb7ea"
   },
   "source": [
    "## Zespół asystentów\n",
    "\n",
    "Zaczniemy od funkcji umożliwiającej stworzenie zespołu analityków wspomagających nas w rozwiązaniu problemu.\n",
    "\n",
    "Dodamy też możliwość zaopiniowania tego zespołu (\"Human-in-the-loop\")."
   ]
  },
  {
   "cell_type": "code",
   "execution_count": null,
   "id": "1eee8e60-e548-49b1-88ec-a4f3aef2174e",
   "metadata": {
    "executionInfo": {
     "elapsed": 13,
     "status": "ok",
     "timestamp": 1740314064977,
     "user": {
      "displayName": "Andrzej Wodecki",
      "userId": "15583970232716185806"
     },
     "user_tz": -60
    },
    "id": "1eee8e60-e548-49b1-88ec-a4f3aef2174e"
   },
   "outputs": [],
   "source": [
    "from typing import List\n",
    "from typing_extensions import TypedDict\n",
    "from pydantic import BaseModel, Field\n",
    "\n",
    "class Analyst(BaseModel):\n",
    "    affiliation: str = Field(\n",
    "        description=\"Firma/organizacja, w której zatrudniony jest analityk.\",\n",
    "    )\n",
    "    name: str = Field(\n",
    "        description=\"Imię i nazwisko analityka.\"\n",
    "    )\n",
    "    role: str = Field(\n",
    "        description=\"Rola analityka w projekcie, uwzględniająca jego (projektu) tematykę.\",\n",
    "    )\n",
    "    description: str = Field(\n",
    "        description=\"Obszary kompetencyjne, doświadczenie i motywacja analityka.\",\n",
    "    )\n",
    "\n",
    "    # Dobrze dać mu persone by model sie biasował na to, że jest to faktyczna osoba z faktycznym doświadczeniem\n",
    "    @property\n",
    "    def persona(self) -> str:\n",
    "        return f\"Name: {self.name}\\nRole: {self.role}\\nAffiliation: {self.affiliation}\\nDescription: {self.description}\\n\"\n",
    "\n",
    "class Perspectives(BaseModel):\n",
    "    analysts: List[Analyst] = Field(\n",
    "        description=\"Wyczerpująca lista analityków wraz z ich rolami i organizacjami, dla których pracują.\",\n",
    "    )\n",
    "\n",
    "class GenerateAnalystsState(TypedDict):\n",
    "    topic: str # Temat badania\n",
    "    max_analysts: int # Liczba analityków\n",
    "    human_analyst_feedback: str # Opinia użytkownika\n",
    "    analysts: List[Analyst] # Analitycy zadający pytania narzędziom"
   ]
  },
  {
   "cell_type": "code",
   "execution_count": null,
   "id": "fd088ff5-4c75-412c-85f0-04afd0900bfc",
   "metadata": {
    "colab": {
     "base_uri": "https://localhost:8080/",
     "height": 392
    },
    "executionInfo": {
     "elapsed": 1067,
     "status": "ok",
     "timestamp": 1740314083360,
     "user": {
      "displayName": "Andrzej Wodecki",
      "userId": "15583970232716185806"
     },
     "user_tz": -60
    },
    "id": "fd088ff5-4c75-412c-85f0-04afd0900bfc",
    "outputId": "97152ee9-b32b-413a-83c6-ddef71c44bca"
   },
   "outputs": [
    {
     "data": {
      "image/png": "[encoded data removed]",
      "text/plain": [
       "<IPython.core.display.Image object>"
      ]
     },
     "metadata": {},
     "output_type": "display_data"
    }
   ],
   "source": [
    "from IPython.display import Image, display\n",
    "from langgraph.graph import START, END, StateGraph\n",
    "from langgraph.checkpoint.memory import MemorySaver\n",
    "from langchain_core.messages import AIMessage, HumanMessage, SystemMessage\n",
    "\n",
    "# W przypadku promptu warto było by mieć coś co weryfikuje, że ten prompt nie przekracza kontekstu modelu\n",
    "analyst_instructions=\"\"\"Twoim zadaniem jest stworzenie zestawu person analityków biznesowych. Postępuj zgodnie z poniższymi instrukcjami:\n",
    "\n",
    "1. Najpierw zapoznaj się z tematem badania:\n",
    "{topic}\n",
    "\n",
    "2. Przeanalizuj wszelkie opinie i wskazówki, które zostały opcjonalnie dostarczone w celu usprawnienia procesu  tworzenia zespołu analityków:\n",
    "\n",
    "{human_analyst_feedback}\n",
    "\n",
    "3. Stwórz listę najbardziej interesujących tematów w oparciu o powyższe dokumenty i/lub informacje zwrotne.\n",
    "\n",
    "4. Wybierz maksimum {max_analysts} tematów.\n",
    "\n",
    "5. Przypisz jednego analityka do każdego z tematów.\"\"\"\n",
    "\n",
    "# To jest bardziej assign analyst\n",
    "def create_analysts(state: GenerateAnalystsState):\n",
    "\n",
    "    \"\"\" Stwórz analityka\"\"\"\n",
    "    print(\"... Tworzę zespół analityków ...\")\n",
    "    topic=state['topic']\n",
    "    max_analysts=state['max_analysts']\n",
    "    human_analyst_feedback=state.get('human_analyst_feedback', '')\n",
    "\n",
    "    # Enforce structured output\n",
    "    structured_llm = llm.with_structured_output(Perspectives)\n",
    "\n",
    "    # System message\n",
    "    system_message = analyst_instructions.format(topic=topic,\n",
    "                                                            human_analyst_feedback=human_analyst_feedback,\n",
    "                                                            max_analysts=max_analysts)\n",
    "\n",
    "\n",
    "    analysts = structured_llm.invoke([SystemMessage(content=system_message)]+[HumanMessage(content=\"Stwórz zespół analityków.\")])\n",
    "\n",
    "    # Zapisz listę analityków do stanu\n",
    "    return {\"analysts\": analysts.analysts}\n",
    "\n",
    "def human_feedback(state: GenerateAnalystsState):\n",
    "    \"\"\" No-op node that should be interrupted on \"\"\"\n",
    "    pass\n",
    "\n",
    "def should_continue(state: GenerateAnalystsState):\n",
    "    \"\"\" Return the next node to execute \"\"\"\n",
    "\n",
    "    # Check if human feedback\n",
    "    human_analyst_feedback=state.get('human_analyst_feedback', None)\n",
    "    if human_analyst_feedback:\n",
    "        return \"stwórz zespół analityków\"\n",
    "\n",
    "    # Otherwise end\n",
    "    return END\n",
    "\n",
    "# Add nodes and edges\n",
    "builder = StateGraph(GenerateAnalystsState)\n",
    "builder.add_node(\"stwórz zespół analityków\", create_analysts)\n",
    "builder.add_node(\"opinia użytkownika\", human_feedback)\n",
    "builder.add_edge(START, \"stwórz zespół analityków\")\n",
    "builder.add_edge(\"stwórz zespół analityków\", \"opinia użytkownika\")\n",
    "builder.add_conditional_edges(\"opinia użytkownika\", should_continue, [\"stwórz zespół analityków\", END])\n",
    "\n",
    "# Compile\n",
    "memory = MemorySaver()\n",
    "graph = builder.compile(interrupt_before=['opinia użytkownika'], checkpointer=memory)\n",
    "\n",
    "# View\n",
    "display(Image(graph.get_graph(xray=1).draw_mermaid_png()))"
   ]
  },
  {
   "cell_type": "code",
   "execution_count": 5,
   "id": "6c22cb05-c436-4358-8f7a-72d722f9b5cc",
   "metadata": {
    "colab": {
     "base_uri": "https://localhost:8080/"
    },
    "executionInfo": {
     "elapsed": 2400,
     "status": "ok",
     "timestamp": 1740314090163,
     "user": {
      "displayName": "Andrzej Wodecki",
      "userId": "15583970232716185806"
     },
     "user_tz": -60
    },
    "id": "6c22cb05-c436-4358-8f7a-72d722f9b5cc",
    "outputId": "f96cf435-980d-4370-8a8b-8dbd21a9cc46"
   },
   "outputs": [
    {
     "name": "stdout",
     "output_type": "stream",
     "text": [
      "... Tworzę zespół analityków ...\n",
      "Name: Anna Kowalska\n",
      "Affiliation: Bank XYZ\n",
      "Role: Ekspert ds. analizy danych\n",
      "Description: Specjalizuje się w analizie danych finansowych oraz zastosowaniach sztucznej inteligencji w bankowości. Posiada doświadczenie w projektach związanych z automatyzacją procesów bankowych i optymalizacją usług.\n",
      "--------------------------------------------------\n",
      "Name: Marek Nowak\n",
      "Affiliation: Instytut Badań Ekonomicznych\n",
      "Role: Analityk trendów rynkowych\n",
      "Description: Zajmuje się badaniem trendów w sektorze finansowym oraz wpływem nowych technologii na bankowość. Ma doświadczenie w pracy z modelami predykcyjnymi i analizą ryzyka.\n",
      "--------------------------------------------------\n",
      "Name: Katarzyna Wiśniewska\n",
      "Affiliation: Firma Technologiczna ABC\n",
      "Role: Specjalista ds. systemów wielo-agentowych\n",
      "Description: Ekspert w dziedzinie systemów wielo-agentowych i ich zastosowań w różnych branżach, w tym bankowości. Posiada doświadczenie w projektowaniu i wdrażaniu rozwiązań opartych na dużych modelach językowych.\n",
      "--------------------------------------------------\n"
     ]
    }
   ],
   "source": [
    "# Input\n",
    "max_analysts = 3\n",
    "topic = \"Jaki jest potencjał zastosowań systemów wielo-agentowych opartych na dużych modelach językowych w bankowości?\"\n",
    "thread = {\"configurable\": {\"thread_id\": \"1\"}}\n",
    "\n",
    "# Run the graph until the first interruption\n",
    "for event in graph.stream({\"topic\":topic,\"max_analysts\":max_analysts,}, thread, stream_mode=\"values\"):\n",
    "    # Review\n",
    "    analysts = event.get('analysts', '')\n",
    "    if analysts:\n",
    "        for analyst in analysts:\n",
    "            print(f\"Name: {analyst.name}\")\n",
    "            print(f\"Affiliation: {analyst.affiliation}\")\n",
    "            print(f\"Role: {analyst.role}\")\n",
    "            print(f\"Description: {analyst.description}\")\n",
    "            print(\"-\" * 50)"
   ]
  },
  {
   "cell_type": "code",
   "execution_count": 6,
   "id": "72b2a402-fd10-4f26-9a32-3e3c0d4aaf76",
   "metadata": {
    "colab": {
     "base_uri": "https://localhost:8080/"
    },
    "executionInfo": {
     "elapsed": 19,
     "status": "ok",
     "timestamp": 1740314120746,
     "user": {
      "displayName": "Andrzej Wodecki",
      "userId": "15583970232716185806"
     },
     "user_tz": -60
    },
    "id": "72b2a402-fd10-4f26-9a32-3e3c0d4aaf76",
    "outputId": "8861ae54-e2ad-4078-ab4a-d7ef1bac08f0"
   },
   "outputs": [
    {
     "data": {
      "text/plain": [
       "{'configurable': {'thread_id': '1',\n",
       "  'checkpoint_ns': '',\n",
       "  'checkpoint_id': '1f01f654-85b9-61b1-8002-64ac61c01626'}}"
      ]
     },
     "execution_count": 6,
     "metadata": {},
     "output_type": "execute_result"
    }
   ],
   "source": [
    "# Dodajmy teraz naszą opinię\n",
    "opinia = \"Dodaj eksperta w obszarze ochrony danych osobowych\"\n",
    "graph.update_state(thread, {\"human_analyst_feedback\":\n",
    "                            opinia}, as_node=\"opinia użytkownika\")"
   ]
  },
  {
   "cell_type": "code",
   "execution_count": 7,
   "id": "b8816eb9-9906-441b-b552-be71107db14f",
   "metadata": {
    "colab": {
     "base_uri": "https://localhost:8080/"
    },
    "executionInfo": {
     "elapsed": 2612,
     "status": "ok",
     "timestamp": 1740314125725,
     "user": {
      "displayName": "Andrzej Wodecki",
      "userId": "15583970232716185806"
     },
     "user_tz": -60
    },
    "id": "b8816eb9-9906-441b-b552-be71107db14f",
    "outputId": "f5c7a2d5-c36a-4dbf-fb25-9852c747d2cb"
   },
   "outputs": [
    {
     "name": "stdout",
     "output_type": "stream",
     "text": [
      "Imię i nazwisko: Anna Kowalska\n",
      "Afiliacja: Bank XYZ\n",
      "Rola: Ekspert ds. analizy danych\n",
      "Opis: Specjalizuje się w analizie danych finansowych oraz zastosowaniach sztucznej inteligencji w bankowości. Posiada doświadczenie w projektach związanych z automatyzacją procesów bankowych i optymalizacją usług.\n",
      "--------------------------------------------------\n",
      "Imię i nazwisko: Marek Nowak\n",
      "Afiliacja: Instytut Badań Ekonomicznych\n",
      "Rola: Analityk trendów rynkowych\n",
      "Opis: Zajmuje się badaniem trendów w sektorze finansowym oraz wpływem nowych technologii na bankowość. Ma doświadczenie w pracy z modelami predykcyjnymi i analizą ryzyka.\n",
      "--------------------------------------------------\n",
      "Imię i nazwisko: Katarzyna Wiśniewska\n",
      "Afiliacja: Firma Technologiczna ABC\n",
      "Rola: Specjalista ds. systemów wielo-agentowych\n",
      "Opis: Ekspert w dziedzinie systemów wielo-agentowych i ich zastosowań w różnych branżach, w tym bankowości. Posiada doświadczenie w projektowaniu i wdrażaniu rozwiązań opartych na dużych modelach językowych.\n",
      "--------------------------------------------------\n",
      "... Tworzę zespół analityków ...\n",
      "Imię i nazwisko: Anna Kowalska\n",
      "Afiliacja: Bank XYZ\n",
      "Rola: Ekspert ds. zastosowań systemów wielo-agentowych\n",
      "Opis: Specjalizuje się w implementacji systemów opartych na sztucznej inteligencji w sektorze finansowym. Posiada doświadczenie w projektach związanych z automatyzacją procesów bankowych oraz analizą danych.\n",
      "--------------------------------------------------\n",
      "Imię i nazwisko: Marek Nowak\n",
      "Afiliacja: Instytut Ochrony Danych\n",
      "Rola: Ekspert ds. ochrony danych osobowych\n",
      "Opis: Zajmuje się regulacjami prawnymi dotyczącymi ochrony danych osobowych w kontekście technologii AI. Posiada doświadczenie w audytach zgodności oraz wdrażaniu polityk ochrony danych w instytucjach finansowych.\n",
      "--------------------------------------------------\n",
      "Imię i nazwisko: Katarzyna Wiśniewska\n",
      "Afiliacja: Uniwersytet Ekonomiczny\n",
      "Rola: Analityk trendów rynkowych\n",
      "Opis: Specjalizuje się w analizie trendów rynkowych i innowacji w bankowości. Posiada doświadczenie w badaniach nad wpływem nowych technologii na sektor finansowy oraz w ocenie ich potencjału rynkowego.\n",
      "--------------------------------------------------\n"
     ]
    }
   ],
   "source": [
    "# Continue the graph execution\n",
    "for event in graph.stream(None, thread, stream_mode=\"values\"):\n",
    "    # Review\n",
    "    analysts = event.get('analysts', '')\n",
    "    if analysts:\n",
    "        for analyst in analysts:\n",
    "            print(f\"Imię i nazwisko: {analyst.name}\")\n",
    "            print(f\"Afiliacja: {analyst.affiliation}\")\n",
    "            print(f\"Rola: {analyst.role}\")\n",
    "            print(f\"Opis: {analyst.description}\")\n",
    "            print(\"-\" * 50)"
   ]
  },
  {
   "cell_type": "code",
   "execution_count": 8,
   "id": "a43ac322-5926-4932-8653-68206fec0d2c",
   "metadata": {
    "colab": {
     "base_uri": "https://localhost:8080/"
    },
    "executionInfo": {
     "elapsed": 46,
     "status": "ok",
     "timestamp": 1740314137650,
     "user": {
      "displayName": "Andrzej Wodecki",
      "userId": "15583970232716185806"
     },
     "user_tz": -60
    },
    "id": "a43ac322-5926-4932-8653-68206fec0d2c",
    "outputId": "edcda351-ea94-4e7b-fac0-31e47b48f107"
   },
   "outputs": [
    {
     "data": {
      "text/plain": [
       "{'configurable': {'thread_id': '1',\n",
       "  'checkpoint_ns': '',\n",
       "  'checkpoint_id': '1f01f654-c78e-6e93-8004-ec02462a2797'}}"
      ]
     },
     "execution_count": 8,
     "metadata": {},
     "output_type": "execute_result"
    }
   ],
   "source": [
    "# Jeśli nam to odpowiada, jako kolejną opinię dodajmy None\n",
    "kolejna_opinia = None\n",
    "graph.update_state(thread, {\"human_analyst_feedback\":\n",
    "                            kolejna_opinia}, as_node=\"opinia użytkownika\")"
   ]
  },
  {
   "cell_type": "code",
   "execution_count": 9,
   "id": "ab034e65-aeee-4723-8d6d-74541b548425",
   "metadata": {
    "executionInfo": {
     "elapsed": 9,
     "status": "ok",
     "timestamp": 1740314140341,
     "user": {
      "displayName": "Andrzej Wodecki",
      "userId": "15583970232716185806"
     },
     "user_tz": -60
    },
    "id": "ab034e65-aeee-4723-8d6d-74541b548425"
   },
   "outputs": [],
   "source": [
    "# Kontynuujmy wykonanie grafu\n",
    "for event in graph.stream(None, thread, stream_mode=\"updates\"):\n",
    "    print(\"--Node--\")\n",
    "    node_name = next(iter(event.keys()))\n",
    "    print(node_name)"
   ]
  },
  {
   "cell_type": "code",
   "execution_count": 10,
   "id": "2f204e8a-285c-4e46-8223-a695caec7764",
   "metadata": {
    "executionInfo": {
     "elapsed": 4,
     "status": "ok",
     "timestamp": 1740314142666,
     "user": {
      "displayName": "Andrzej Wodecki",
      "userId": "15583970232716185806"
     },
     "user_tz": -60
    },
    "id": "2f204e8a-285c-4e46-8223-a695caec7764"
   },
   "outputs": [],
   "source": [
    "final_state = graph.get_state(thread)\n",
    "analysts = final_state.values.get('analysts')"
   ]
  },
  {
   "cell_type": "code",
   "execution_count": 11,
   "id": "95717ba3-aa00-48d6-bbb7-5fe4db5919bf",
   "metadata": {
    "colab": {
     "base_uri": "https://localhost:8080/"
    },
    "executionInfo": {
     "elapsed": 19,
     "status": "ok",
     "timestamp": 1740314145179,
     "user": {
      "displayName": "Andrzej Wodecki",
      "userId": "15583970232716185806"
     },
     "user_tz": -60
    },
    "id": "95717ba3-aa00-48d6-bbb7-5fe4db5919bf",
    "outputId": "35754e3c-52a0-4aad-982d-4592b828a357"
   },
   "outputs": [
    {
     "name": "stdout",
     "output_type": "stream",
     "text": [
      "Imię i nazwisko: Anna Kowalska\n",
      "Afiliacja: Bank XYZ\n",
      "Rola: Ekspert ds. zastosowań systemów wielo-agentowych\n",
      "Opis: Specjalizuje się w implementacji systemów opartych na sztucznej inteligencji w sektorze finansowym. Posiada doświadczenie w projektach związanych z automatyzacją procesów bankowych oraz analizą danych.\n",
      "--------------------------------------------------\n",
      "Imię i nazwisko: Marek Nowak\n",
      "Afiliacja: Instytut Ochrony Danych\n",
      "Rola: Ekspert ds. ochrony danych osobowych\n",
      "Opis: Zajmuje się regulacjami prawnymi dotyczącymi ochrony danych osobowych w kontekście technologii AI. Posiada doświadczenie w audytach zgodności oraz wdrażaniu polityk ochrony danych w instytucjach finansowych.\n",
      "--------------------------------------------------\n",
      "Imię i nazwisko: Katarzyna Wiśniewska\n",
      "Afiliacja: Uniwersytet Ekonomiczny\n",
      "Rola: Analityk trendów rynkowych\n",
      "Opis: Specjalizuje się w analizie trendów rynkowych i innowacji w bankowości. Posiada doświadczenie w badaniach nad wpływem nowych technologii na sektor finansowy oraz w ocenie ich potencjału rynkowego.\n",
      "--------------------------------------------------\n"
     ]
    }
   ],
   "source": [
    "for analyst in analysts:\n",
    "    print(f\"Imię i nazwisko: {analyst.name}\")\n",
    "    print(f\"Afiliacja: {analyst.affiliation}\")\n",
    "    print(f\"Rola: {analyst.role}\")\n",
    "    print(f\"Opis: {analyst.description}\")\n",
    "    print(\"-\" * 50)"
   ]
  },
  {
   "cell_type": "markdown",
   "id": "7d2498e4-20ae-4503-9dd0-a4165132b7a7",
   "metadata": {
    "id": "7d2498e4-20ae-4503-9dd0-a4165132b7a7"
   },
   "source": [
    "## Realizacja badań\n",
    "\n",
    "Każdy z analityków będzie prowadził badania zadając odpowiednie swoim \"narzędziom\".\n",
    "\n",
    "Zacznijmy więc od zaprojektowania funkcji generującej takie pytania."
   ]
  },
  {
   "cell_type": "code",
   "execution_count": 12,
   "id": "e5d5f559-f42e-442b-87cd-dbf0a91abf9c",
   "metadata": {
    "executionInfo": {
     "elapsed": 6,
     "status": "ok",
     "timestamp": 1740314155931,
     "user": {
      "displayName": "Andrzej Wodecki",
      "userId": "15583970232716185806"
     },
     "user_tz": -60
    },
    "id": "e5d5f559-f42e-442b-87cd-dbf0a91abf9c"
   },
   "outputs": [],
   "source": [
    "import operator\n",
    "from typing import  Annotated\n",
    "from langgraph.graph import MessagesState\n",
    "\n",
    "class InterviewState(MessagesState):\n",
    "    max_num_turns: int # Maksymalna liczba zadanych pytań (iteracji)\n",
    "    context: Annotated[list, operator.add] # Dokumenty źródłowe\n",
    "    analyst: Analyst # Analityk zadający pytanie\n",
    "    interview: str # Zapis \"wywiadu\"\n",
    "    sections: list # Lista tematów, których realizację później zrównoleglimy\n",
    "\n",
    "class SearchQuery(BaseModel):\n",
    "    search_query: str = Field(None, description=\"Pytanie badawcze, kwerenda wyszukiwania.\")"
   ]
  },
  {
   "cell_type": "code",
   "execution_count": 13,
   "id": "1c2e71eb-07ad-4bea-aabc-dbaf551408c0",
   "metadata": {
    "executionInfo": {
     "elapsed": 13,
     "status": "ok",
     "timestamp": 1740314174680,
     "user": {
      "displayName": "Andrzej Wodecki",
      "userId": "15583970232716185806"
     },
     "user_tz": -60
    },
    "id": "1c2e71eb-07ad-4bea-aabc-dbaf551408c0"
   },
   "outputs": [],
   "source": [
    "question_instructions = \"\"\"Jesteś analitykiem, którego zadaniem jest przeprowadzenie wywiadu z ekspertem w celu uzyskania informacji na określony temat.\n",
    "\n",
    "Twoim celem jest sprowadzenie się do interesujących i konkretnych spostrzeżeń związanych z tematem.\n",
    "\n",
    "1. Interesujące: Spostrzeżenia, które ludzie uznają za zaskakujące lub nieoczywiste.\n",
    "\n",
    "2. Konkretne: spostrzeżenia, które unikają ogólników i zawierają konkretne przykłady od eksperta.\n",
    "\n",
    "Oto temat, na którym się skupiasz i zestaw celów: {goals}\n",
    "\n",
    "Zacznij od przedstawienia się, używając imienia, które pasuje do Twojej persony, a następnie zadaj pytanie.\n",
    "\n",
    "Kontynuuj zadawanie pytań, aby pogłębić i udoskonalić swoje zrozumienie tematu.\n",
    "\n",
    "Gdy będziesz zadowolony ze swojego zrozumienia, zakończ rozmowę słowami: „Dziękuję bardzo za pomoc!”.\n",
    "\n",
    "Pamiętaj, aby zachować swój charakter podczas odpowiedzi, odzwierciedlając swoją osobowość i cele, które zostały ci przekazane.\"\"\"\n",
    "\n",
    "def generate_question(state: InterviewState):\n",
    "    \"\"\" Node to generate a question \"\"\"\n",
    "    print(\"... Generuję pytania do wywiadu ...\")\n",
    "    # Get state\n",
    "    analyst = state[\"analyst\"]\n",
    "    messages = state[\"messages\"]\n",
    "\n",
    "    # Generate question\n",
    "    system_message = question_instructions.format(goals=analyst.persona)\n",
    "    question = llm.invoke([SystemMessage(content=system_message)]+messages)\n",
    "\n",
    "    # Write messages to state\n",
    "    return {\"messages\": [question]}"
   ]
  },
  {
   "cell_type": "markdown",
   "id": "be2ff33a-6232-4a79-8a82-882a645394f5",
   "metadata": {
    "id": "be2ff33a-6232-4a79-8a82-882a645394f5"
   },
   "source": [
    "### Generowanie odpowiedzi: zrównoleglenie\n",
    "\n",
    "Ekspert będzie zbierał informacje z wielu źródeł równolegle, aby odpowiedzieć na pytania.\n",
    "\n",
    "Może w tym celu użyć:\n",
    "\n",
    "* Specyficznych stron www np. dzięki [`WebBaseLoader`](https://python.langchain.com/v0.2/docs/integrations/document_loaders/web_base/)\n",
    "* Zindeksowanych dokumentów np. dzięki [RAG](https://python.langchain.com/v0.2/docs/tutorials/rag/)\n",
    "* Wyszukiwarce internetowej (Tavily)\n",
    "* Wikipedia search"
   ]
  },
  {
   "cell_type": "code",
   "execution_count": 14,
   "id": "c61ae74a-f838-4e97-8bd5-48ccd15b7789",
   "metadata": {
    "executionInfo": {
     "elapsed": 378,
     "status": "ok",
     "timestamp": 1740314181750,
     "user": {
      "displayName": "Andrzej Wodecki",
      "userId": "15583970232716185806"
     },
     "user_tz": -60
    },
    "id": "c61ae74a-f838-4e97-8bd5-48ccd15b7789"
   },
   "outputs": [],
   "source": [
    "# Web search tool\n",
    "from langchain_community.tools.tavily_search import TavilySearchResults\n",
    "tavily_search = TavilySearchResults(max_results=3)"
   ]
  },
  {
   "cell_type": "code",
   "execution_count": 15,
   "id": "2d8f760b-5a1a-4fa9-a014-d3fb02bec51c",
   "metadata": {
    "executionInfo": {
     "elapsed": 18,
     "status": "ok",
     "timestamp": 1740314183743,
     "user": {
      "displayName": "Andrzej Wodecki",
      "userId": "15583970232716185806"
     },
     "user_tz": -60
    },
    "id": "2d8f760b-5a1a-4fa9-a014-d3fb02bec51c"
   },
   "outputs": [],
   "source": [
    "# Wikipedia search tool\n",
    "from langchain_community.document_loaders import WikipediaLoader"
   ]
  },
  {
   "cell_type": "markdown",
   "id": "06cb1603",
   "metadata": {
    "id": "06cb1603"
   },
   "source": [
    "Stwórzmy węzły do przeszukiwania sieci i wikipedii.\n",
    "\n",
    "Utworzymy również węzeł do odpowiadania na pytania analityków.\n",
    "\n",
    "Na koniec utworzymy węzły, aby zapisać cały wywiad i napisać jego podsumowanie („sekcję”)."
   ]
  },
  {
   "cell_type": "code",
   "execution_count": null,
   "id": "9c863768-2278-415b-aef1-96fd18c1b1cb",
   "metadata": {
    "colab": {
     "base_uri": "https://localhost:8080/",
     "height": 647
    },
    "executionInfo": {
     "elapsed": 1146,
     "status": "ok",
     "timestamp": 1740314191147,
     "user": {
      "displayName": "Andrzej Wodecki",
      "userId": "15583970232716185806"
     },
     "user_tz": -60
    },
    "id": "9c863768-2278-415b-aef1-96fd18c1b1cb",
    "outputId": "2579f361-0293-4a39-ac1c-1f76a7822da6"
   },
   "outputs": [
    {
     "data": {
      "image/png": "[encoded data removed]",
      "text/plain": [
       "<IPython.core.display.Image object>"
      ]
     },
     "metadata": {},
     "output_type": "display_data"
    }
   ],
   "source": [
    "from langchain_core.messages import get_buffer_string\n",
    "\n",
    "# Search query writing\n",
    "search_instructions = SystemMessage(content=\"\"\"Otrzymasz rozmowę między analitykiem a ekspertem.\n",
    "\n",
    "Twoim celem jest wygenerowanie dobrze skonstruowanego zapytania do wykorzystania w wyszukiwaniu i/lub przeszukiwaniu stron internetowych związanych z rozmową.\n",
    "\n",
    "Najpierw przeanalizuj całą rozmowę.\n",
    "\n",
    "Zwróć szczególną uwagę na ostatnie pytanie zadane przez analityka.\n",
    "\n",
    "Przekształć to końcowe pytanie w dobrze skonstruowane zapytanie wyszukiwania w Internecie\"\"\")\n",
    "\n",
    "def search_web(state: InterviewState):\n",
    "\n",
    "    \"\"\" Wyszukaj dokumenty w internecie \"\"\"\n",
    "\n",
    "    print(\"... \", analyst.role, \": Przeszukuję Internet ...\")\n",
    "\n",
    "    # Search query\n",
    "    structured_llm = llm.with_structured_output(SearchQuery)\n",
    "    search_query = structured_llm.invoke([search_instructions]+state['messages'])\n",
    "\n",
    "    # Search\n",
    "    search_docs = tavily_search.invoke(search_query.search_query)\n",
    "\n",
    "     # Format\n",
    "    formatted_search_docs = \"\\n\\n---\\n\\n\".join(\n",
    "        [\n",
    "            f'<Document href=\"{doc[\"url\"]}\"/>\\n{doc[\"content\"]}\\n</Document>'\n",
    "            for doc in search_docs\n",
    "        ]\n",
    "    )\n",
    "\n",
    "    return {\"context\": [formatted_search_docs]}\n",
    "\n",
    "def search_wikipedia(state: InterviewState):\n",
    "\n",
    "    \"\"\" Wyszukaj dokumenty w Wikipedii \"\"\"\n",
    "\n",
    "    print(\"... \", analyst.role, \": Przeszukuję Wikipedię ...\")\n",
    "\n",
    "    # Search query\n",
    "    structured_llm = llm.with_structured_output(SearchQuery)\n",
    "    search_query = structured_llm.invoke([search_instructions]+state['messages'])\n",
    "\n",
    "    # Search\n",
    "    search_docs = WikipediaLoader(query=search_query.search_query,\n",
    "                                  load_max_docs=2).load()\n",
    "\n",
    "     # Format\n",
    "    formatted_search_docs = \"\\n\\n---\\n\\n\".join(\n",
    "        [\n",
    "            f'<Document source=\"{doc.metadata[\"source\"]}\" page=\"{doc.metadata.get(\"page\", \"\")}\"/>\\n{doc.page_content}\\n</Document>'\n",
    "            for doc in search_docs\n",
    "        ]\n",
    "    )\n",
    "\n",
    "    return {\"context\": [formatted_search_docs]}\n",
    "\n",
    "answer_instructions = \"\"\"Jesteś ekspertem, z którym rozmawia analityk.\n",
    "\n",
    "Oto obszar zainteresowania analityka: {goals}.\n",
    "\n",
    "Twoim celem jest udzielenie odpowiedzi na pytanie zadane przez ankietera.\n",
    "\n",
    "Aby odpowiedzieć na pytanie, użyj tego kontekstu:\n",
    "\n",
    "{context}.\n",
    "\n",
    "Odpowiadając na pytania, postępuj zgodnie z poniższymi wskazówkami:\n",
    "\n",
    "1. Używaj tylko informacji podanych w kontekście.\n",
    "\n",
    "2. Nie wprowadzaj informacji zewnętrznych ani nie przyjmuj założeń wykraczających poza to, co zostało wyraźnie określone w kontekście.\n",
    "\n",
    "3. Kontekst zawiera źródła na temat każdego dokumentu.\n",
    "\n",
    "4. Dołącz te źródła do odpowiedzi obok odpowiednich stwierdzeń. Na przykład dla źródła nr 1 użyj [1].\n",
    "\n",
    "5. Wymień źródła w kolejności na dole odpowiedzi. [1] Źródło 1, [2] Źródło 2 itd.\n",
    "\n",
    "6. Jeśli źródłem jest: <Document source=„assistant/docs/llama3_1.pdf” page=„7”/>' wtedy po prostu wymień:\n",
    "\n",
    "[1] assistant/docs/llama3_1.pdf, strona 7\n",
    "\n",
    "I pomiń dodawanie nawiasów, a także preambuły źródła dokumentu w cytacie.\"\"\"\n",
    "\n",
    "def generate_answer(state: InterviewState):\n",
    "\n",
    "    \"\"\" Node to answer a question \"\"\"\n",
    "\n",
    "    # Get state\n",
    "    analyst = state[\"analyst\"]\n",
    "    messages = state[\"messages\"]\n",
    "    context = state[\"context\"]\n",
    "\n",
    "    print(\"... \", analyst.role, \": Generuję odpowiedzi ...\")\n",
    "\n",
    "    # Answer question\n",
    "    system_message = answer_instructions.format(goals=analyst.persona, context=context)\n",
    "    answer = llm.invoke([SystemMessage(content=system_message)]+messages)\n",
    "\n",
    "    # Name the message as coming from the expert\n",
    "    answer.name = \"expert\"\n",
    "\n",
    "    # Append it to state\n",
    "    return {\"messages\": [answer]}\n",
    "\n",
    "def save_interview(state: InterviewState):\n",
    "\n",
    "    \"\"\" Save interviews \"\"\"\n",
    "\n",
    "    # Get messages\n",
    "    messages = state[\"messages\"]\n",
    "\n",
    "    # Convert interview to a string\n",
    "    interview = get_buffer_string(messages)\n",
    "\n",
    "    # Save to interviews key\n",
    "    return {\"interview\": interview}\n",
    "\n",
    "def route_messages(state: InterviewState,\n",
    "                   name: str = \"expert\"):\n",
    "\n",
    "    \"\"\" Przełącza pomiędzy pytaniami i odpowiedziami \"\"\"\n",
    "\n",
    "    # Get messages\n",
    "    messages = state[\"messages\"]\n",
    "    max_num_turns = state.get('max_num_turns',2)\n",
    "\n",
    "    # Check the number of expert answers\n",
    "    num_responses = len(\n",
    "        [m for m in messages if isinstance(m, AIMessage) and m.name == name]\n",
    "    )\n",
    "\n",
    "    # End if expert has answered more than the max turns\n",
    "    if num_responses >= max_num_turns:\n",
    "        return 'zapisz wywiad'\n",
    "\n",
    "    # This router is run after each question - answer pair\n",
    "    # Get the last question asked to check if it signals the end of discussion\n",
    "    last_question = messages[-2]\n",
    "\n",
    "    if \"Dziękuję bardzo za pomoc\" in last_question.content:\n",
    "        return 'zapisz wywiad'\n",
    "    return \"zadaj pytanie\"\n",
    "\n",
    "section_writer_instructions = \"\"\"Jesteś ekspertem w pisaniu tekstów technicznych.\n",
    "\n",
    "Twoim zadaniem jest stworzenie krótkiej, łatwo przyswajalnej sekcji raportu na podstawie zestawu dokumentów źródłowych.\n",
    "\n",
    "1. Przeanalizuj zawartość dokumentów źródłowych:\n",
    "- Nazwa każdego dokumentu źródłowego znajduje się na początku dokumentu, ze znacznikiem <Document>.\n",
    "\n",
    "2. Utwórz strukturę raportu przy użyciu formatowania markdown:\n",
    "- Użyj ## dla tytułu sekcji\n",
    "- Użyj ### dla nagłówków podsekcji\n",
    "\n",
    "3. Napisz raport zgodnie z tą strukturą:\n",
    "a. Tytuł (## header)\n",
    "b. Podsumowanie (### header)\n",
    "c. Źródła (### header)\n",
    "\n",
    "4. Nadaj tytułowi angażujący charakter w oparciu o obszar zainteresowania analityka:\n",
    "{focus}\n",
    "\n",
    "5. Sekcja podsumowania:\n",
    "- Skonfiguruj podsumowanie z ogólnym tłem / kontekstem związanym z obszarem zainteresowania analityka.\n",
    "- Podkreśl, co jest nowego, interesującego lub zaskakującego w spostrzeżeniach zebranych podczas wywiadu.\n",
    "- Utwórz ponumerowaną listę dokumentów źródłowych, gdy ich używasz.\n",
    "- Nie wymieniaj nazwisk ankieterów ani ekspertów.\n",
    "- Maksymalnie około 400 słów\n",
    "- Użyj numerowanych źródeł w raporcie (np. [1], [2]) w oparciu o informacje z dokumentów źródłowych.\n",
    "\n",
    "6. W sekcji Źródła:\n",
    "- Uwzględnij wszystkie źródła wykorzystane w raporcie\n",
    "- Podaj pełne linki do odpowiednich stron internetowych lub określonych ścieżek dokumentów\n",
    "- Oddziel każde źródło nową linią. Użyj dwóch spacji na końcu każdego wiersza, aby utworzyć nową linię w Markdown.\n",
    "- Będzie to wyglądać następująco:\n",
    "\n",
    "### Źródła\n",
    "[1] Nazwa linku lub dokumentu\n",
    "[2] Link lub nazwa dokumentu\n",
    "\n",
    "7. Upewnij się, że źródła są połączone. Na przykład nie jest to poprawne:\n",
    "\n",
    "[3] https://ai.meta.com/b\"\"\"\n",
    "\n",
    "def write_section(state: InterviewState):\n",
    "\n",
    "    \"\"\" Węzeł udzielający odpowiedzi \"\"\"\n",
    "\n",
    "    # Wczytaj stan\n",
    "    interview = state[\"interview\"]\n",
    "    context = state[\"context\"]\n",
    "    analyst = state[\"analyst\"]\n",
    "\n",
    "    print(\"... \", analyst.role, \": Piszę sekcję ...\")\n",
    "\n",
    "    # Napisz sekcję, korzystając z zebranych dokumentów źródłowych z wywiadu (context) lub samego wywiadu (interview).\n",
    "    system_message = section_writer_instructions.format(focus=analyst.description)\n",
    "    section = llm.invoke([SystemMessage(content=system_message)]+[HumanMessage(content=f\"Wykorzystaj to źródło do napisania tej sekcji: {context}\")])\n",
    "\n",
    "    # Append it to state\n",
    "    return {\"sections\": [section.content]}\n",
    "\n",
    "# Add nodes and edges\n",
    "interview_builder = StateGraph(InterviewState)\n",
    "interview_builder.add_node(\"zadaj pytanie\", generate_question)\n",
    "interview_builder.add_node(\"przeszukaj internet\", search_web)\n",
    "interview_builder.add_node(\"poszukaj w wikipedii\", search_wikipedia)\n",
    "interview_builder.add_node(\"odpowiedz na pytanie\", generate_answer)\n",
    "interview_builder.add_node(\"zapisz wywiad\", save_interview)\n",
    "interview_builder.add_node(\"napisz sekcję\", write_section)\n",
    "\n",
    "# Flow\n",
    "interview_builder.add_edge(START, \"zadaj pytanie\")\n",
    "interview_builder.add_edge(\"zadaj pytanie\", \"przeszukaj internet\")\n",
    "interview_builder.add_edge(\"zadaj pytanie\", \"poszukaj w wikipedii\")\n",
    "interview_builder.add_edge(\"przeszukaj internet\", \"odpowiedz na pytanie\")\n",
    "interview_builder.add_edge(\"poszukaj w wikipedii\", \"odpowiedz na pytanie\")\n",
    "interview_builder.add_conditional_edges(\"odpowiedz na pytanie\", route_messages,['zadaj pytanie','zapisz wywiad'])\n",
    "interview_builder.add_edge(\"zapisz wywiad\", \"napisz sekcję\")\n",
    "interview_builder.add_edge(\"napisz sekcję\", END)\n",
    "\n",
    "# Interview\n",
    "memory = MemorySaver()\n",
    "interview_graph = interview_builder.compile(checkpointer=memory).with_config(run_name=\"Przeprowadź wywiady\")\n",
    "\n",
    "# View\n",
    "display(Image(interview_graph.get_graph().draw_mermaid_png()))"
   ]
  },
  {
   "cell_type": "code",
   "execution_count": 17,
   "id": "50f382f1-6e93-48d0-a44a-1094d26ccb1e",
   "metadata": {
    "colab": {
     "base_uri": "https://localhost:8080/"
    },
    "executionInfo": {
     "elapsed": 52,
     "status": "ok",
     "timestamp": 1740314219346,
     "user": {
      "displayName": "Andrzej Wodecki",
      "userId": "15583970232716185806"
     },
     "user_tz": -60
    },
    "id": "50f382f1-6e93-48d0-a44a-1094d26ccb1e",
    "outputId": "b422e6ff-7498-42b6-b0b4-27e597efb35f"
   },
   "outputs": [
    {
     "data": {
      "text/plain": [
       "Analyst(affiliation='Bank XYZ', name='Anna Kowalska', role='Ekspert ds. zastosowań systemów wielo-agentowych', description='Specjalizuje się w implementacji systemów opartych na sztucznej inteligencji w sektorze finansowym. Posiada doświadczenie w projektach związanych z automatyzacją procesów bankowych oraz analizą danych.')"
      ]
     },
     "execution_count": 17,
     "metadata": {},
     "output_type": "execute_result"
    }
   ],
   "source": [
    "# Wypróbujmy na razie tylko jednego analityka\n",
    "analysts[0]"
   ]
  },
  {
   "cell_type": "code",
   "execution_count": 18,
   "id": "b2242d4e-8430-4de9-8cf7-3ad2f9a22b28",
   "metadata": {
    "colab": {
     "base_uri": "https://localhost:8080/",
     "height": 580
    },
    "executionInfo": {
     "elapsed": 25949,
     "status": "ok",
     "timestamp": 1740314248468,
     "user": {
      "displayName": "Andrzej Wodecki",
      "userId": "15583970232716185806"
     },
     "user_tz": -60
    },
    "id": "b2242d4e-8430-4de9-8cf7-3ad2f9a22b28",
    "outputId": "7fe45377-0eea-48e9-fe2a-6163b6635bb7"
   },
   "outputs": [
    {
     "name": "stdout",
     "output_type": "stream",
     "text": [
      "... Generuję pytania do wywiadu ...\n",
      "...  Analityk trendów rynkowych : Przeszukuję Wikipedię ...\n",
      "...  Analityk trendów rynkowych : Przeszukuję Internet ...\n",
      "...  Ekspert ds. zastosowań systemów wielo-agentowych : Generuję odpowiedzi ...\n",
      "... Generuję pytania do wywiadu ...\n",
      "... ...  Analityk trendów rynkowych : Przeszukuję Internet ...\n",
      " Analityk trendów rynkowych : Przeszukuję Wikipedię ...\n",
      "...  Ekspert ds. zastosowań systemów wielo-agentowych : Generuję odpowiedzi ...\n",
      "...  Ekspert ds. zastosowań systemów wielo-agentowych : Piszę sekcję ...\n"
     ]
    },
    {
     "data": {
      "text/markdown": [
       "## Rewolucja w Bankowości: Jak Cyfrowe Bliźniaki i AI Zmieniają Sektor Finansowy\n",
       "\n",
       "### Podsumowanie\n",
       "W ostatnich latach technologia cyfrowych bliźniaków oraz duże modele językowe (LLM) zyskały na znaczeniu w sektorze bankowym, przekształcając sposób, w jaki instytucje finansowe zarządzają swoimi operacjami. Cyfrowe bliźniaki, będące wirtualnymi replikami rzeczywistych obiektów i procesów, umożliwiają bankom optymalizację działań oraz lepsze przewidywanie trendów rynkowych. Integracja LLM z cyfrowymi bliźniakami zwiększa zdolność do przetwarzania i generowania języka naturalnego, co z kolei poprawia interakcje z klientami oraz automatyzację zadań [1].\n",
       "\n",
       "Zaskakujące jest, że według badań Accenture, aż 73% czasu pracy w bankowości może zostać zautomatyzowane dzięki nowym technologiom, co czyni ten sektor liderem wśród różnych branż [2]. Warto również zauważyć, że LLM nie tylko wspierają automatyzację, ale także wzbogacają doświadczenia klientów poprzez personalizację usług i rekomendacji [3]. Przykłady zastosowań obejmują automatyczne sporządzanie notatek przez systemy wspierające obsługę klienta, co pozwala pracownikom skupić się na bardziej złożonych zadaniach [4].\n",
       "\n",
       "1. Cyfrowe bliźniaki z LLM poprawiają interakcje i automatyzację.\n",
       "2. W bankowości 73% pracy może być zautomatyzowane.\n",
       "3. LLM wspierają personalizację usług, co zwiększa zadowolenie klientów.\n",
       "\n",
       "### Źródła\n",
       "[1] https://www.galaksiya.com/pl/articles/twinize-digital-twin-technology-in-banking  \n",
       "[2] https://itwiz.pl/3-obszary-na-ktore-wplynie-generatywna-ai-w-bankowosci/  \n",
       "[3] https://botpress.com/pl/blog/best-large-language-models/  \n",
       "[4] https://action.bot/pl/blog/duze-modele-jezykowe-llm/  "
      ],
      "text/plain": [
       "<IPython.core.display.Markdown object>"
      ]
     },
     "execution_count": 18,
     "metadata": {},
     "output_type": "execute_result"
    }
   ],
   "source": [
    "from IPython.display import Markdown\n",
    "messages = [HumanMessage(f\"Mówisz więc, że piszesz artykuł na temat {topic}?\")]\n",
    "thread = {\"configurable\": {\"thread_id\": \"1\"}}\n",
    "interview = interview_graph.invoke({\"analyst\": analysts[0], \"messages\": messages, \"max_num_turns\": 2}, thread)\n",
    "Markdown(interview['sections'][0])"
   ]
  },
  {
   "cell_type": "markdown",
   "id": "3b739e87-68bb-4e96-a86a-704e84240a6c",
   "metadata": {
    "id": "3b739e87-68bb-4e96-a86a-704e84240a6c"
   },
   "source": [
    "### Map-Reduce: przeprowadzenie wielu analiz równolegle\n",
    "\n",
    "Zrównoleglimy teraz wywiady za pomocą interfejsu API `Send()` (etap Map).\n",
    "\n",
    "Na koniec połączymy je w treść raportu w kroku Reduce, po czym napiszemy wstęp i zakończenie raportu końcowego."
   ]
  },
  {
   "cell_type": "code",
   "execution_count": 19,
   "id": "6a0042f9-5b9f-441a-9e8d-7d8189f44140",
   "metadata": {
    "executionInfo": {
     "elapsed": 44,
     "status": "ok",
     "timestamp": 1740314279963,
     "user": {
      "displayName": "Andrzej Wodecki",
      "userId": "15583970232716185806"
     },
     "user_tz": -60
    },
    "id": "6a0042f9-5b9f-441a-9e8d-7d8189f44140"
   },
   "outputs": [],
   "source": [
    "import operator\n",
    "from typing import List, Annotated\n",
    "from typing_extensions import TypedDict\n",
    "\n",
    "\n",
    "class ResearchGraphState(TypedDict):\n",
    "    topic: str # Temat badawczy\n",
    "    max_analysts: int # Maksymalna liczba analityków\n",
    "    human_analyst_feedback: str # Opinia użytkownika\n",
    "    analysts: List[Analyst] # Analityk zadający pytanie\n",
    "    sections: Annotated[list, operator.add] # Klucz do Send() API\n",
    "    introduction: str # Wprowadzenie do raportu końcowego\n",
    "    content: str # Zawartość raportu końcowego\n",
    "    conclusion: str # Konkluzja raportu końcowego\n",
    "    final_report: str # Raport końcowy"
   ]
  },
  {
   "cell_type": "code",
   "execution_count": 20,
   "id": "c2224592-d2ff-469d-97bd-928809f896d7",
   "metadata": {
    "colab": {
     "base_uri": "https://localhost:8080/",
     "height": 1000
    },
    "executionInfo": {
     "elapsed": 1850,
     "status": "ok",
     "timestamp": 1740314283952,
     "user": {
      "displayName": "Andrzej Wodecki",
      "userId": "15583970232716185806"
     },
     "user_tz": -60
    },
    "id": "c2224592-d2ff-469d-97bd-928809f896d7",
    "outputId": "4ba1414d-849f-4c93-dfef-0c6bca2610c0"
   },
   "outputs": [
    {
     "data": {
      "image/png": "[encoded data removed]",
      "text/plain": [
       "<IPython.core.display.Image object>"
      ]
     },
     "metadata": {},
     "output_type": "display_data"
    }
   ],
   "source": [
    "from langgraph.constants import Send\n",
    "\n",
    "def initiate_all_interviews(state: ResearchGraphState):\n",
    "    \"\"\" Jest to krok „mapowania”, w którym uruchamiamy każdy podgraf wywiadu za pomocą Send API \"\"\"\n",
    "    print(\"... Inicjuję wywiady ...\")\n",
    "    # Check if human feedback\n",
    "    human_analyst_feedback=state.get('human_analyst_feedback')\n",
    "    if human_analyst_feedback:\n",
    "        # Return to create_analysts\n",
    "        return \"stwórz analityków\"\n",
    "\n",
    "    # Otherwise kick off interviews in parallel via Send() API\n",
    "    else:\n",
    "        topic = state[\"topic\"]\n",
    "        return [Send(\"przeprowadź wywiad\", {\"analyst\": analyst,\n",
    "                                           \"messages\": [HumanMessage(\n",
    "                                               content=f\"Mówisz więc, że piszesz artykuł na temat {topic}?\"\n",
    "                                           )\n",
    "                                                       ]}) for analyst in state[\"analysts\"]]\n",
    "\n",
    "report_writer_instructions = \"\"\"Jesteś specjalistą technicznym tworzącym raport na poniższy temat:\n",
    "\n",
    "{topic}\n",
    "\n",
    "Masz zespół analityków. Każdy analityk wykonał dwie czynności:\n",
    "\n",
    "1. Przeprowadził wywiad z ekspertem na określony temat cząstkowy.\n",
    "2. Zapisał swoje ustalenia w notatce.\n",
    "\n",
    "Twoje zadanie:\n",
    "\n",
    "1. Otrzymasz zbiór notatek od swoich analityków.\n",
    "2. Zastanów się dokładnie nad wnioskami z każdej notatki.\n",
    "3. Skonsoliduj je w ogólne, zwięzłe podsumowanie, które integruje główne pomysły ze wszystkich notatek.\n",
    "4. Podsumuj główne punkty każdej notatki w spójną, pojedynczą narrację.\n",
    "\n",
    "Aby sformatować raport:\n",
    "\n",
    "1. Użyj formatowania markdown.\n",
    "2. Nie dołączaj wstępu do raportu.\n",
    "3. Nie używaj podtytułów.\n",
    "4. Rozpocznij raport od pojedynczego nagłówka tytułowego: ## Główne wnioski\n",
    "5. W raporcie nie wymieniaj imion i nazwisk analityków.\n",
    "6. Zachowaj wszelkie cytaty w notatkach, które zostaną oznaczone w nawiasach, na przykład [1] lub [2].\n",
    "7. Utwórz ostateczną, skonsolidowaną listę źródeł i dodaj ją do sekcji Źródła z nagłówkiem `## Źródła`.\n",
    "8. Wymień źródła w kolejności i nie powtarzaj ich.\n",
    "\n",
    "[1] Źródło 1\n",
    "[2] Źródło 2\n",
    "\n",
    "Oto notatki od analityków, na podstawie których można zbudować raport:\n",
    "\n",
    "{context}\"\"\"\n",
    "\n",
    "def write_report(state: ResearchGraphState):\n",
    "    print(\"... Piszę raport ...\")\n",
    "    # Full set of sections\n",
    "    sections = state[\"sections\"]\n",
    "    topic = state[\"topic\"]\n",
    "\n",
    "    # Concat all sections together\n",
    "    formatted_str_sections = \"\\n\\n\".join([f\"{section}\" for section in sections])\n",
    "\n",
    "    # Summarize the sections into a final report\n",
    "    system_message = report_writer_instructions.format(topic=topic, context=formatted_str_sections)\n",
    "    report = llm.invoke([SystemMessage(content=system_message)]+[HumanMessage(content=f\"Napisz raport w oparciu o te notatki.\")])\n",
    "    return {\"content\": report.content}\n",
    "\n",
    "intro_conclusion_instructions = \"\"\"Jesteś specjalistą technicznym kończącym raport na temat {topic}.\n",
    "\n",
    "Otrzymasz wszystkie sekcje raportu.\n",
    "\n",
    "Twoim zadaniem jest napisanie wyrazistego i przekonującego wstępu lub zakończenia.\n",
    "\n",
    "Użytkownik poinstruuje Cię, czy napisać wstęp czy zakończenie.\n",
    "\n",
    "Nie dołączaj wstępu do żadnej z sekcji.\n",
    "\n",
    "Celuj w około 100 słów, zwięzły przegląd zagadnień (w przypadku wstępu) lub podsumowanie (w przypadku podsumowania) wszystkich sekcji raportu.\n",
    "\n",
    "Użyj formatowania markdown.\n",
    "\n",
    "W przypadku wstępu utwórz atrakcyjny tytuł i użyj nagłówka # dla tytułu.\n",
    "\n",
    "W przypadku wprowadzenia użyj ## Wprowadzenie jako nagłówka sekcji.\n",
    "\n",
    "W podsumowaniu użyj ## Podsumowanie jako nagłówka sekcji.\n",
    "\n",
    "Oto sekcje, nad którymi należy się zastanowić podczas pisania: {formatted_str_sections}\"\"\"\n",
    "\n",
    "def write_introduction(state: ResearchGraphState):\n",
    "    print(\"... Piszę wprowadzenie...\")\n",
    "    # Full set of sections\n",
    "    sections = state[\"sections\"]\n",
    "    topic = state[\"topic\"]\n",
    "\n",
    "    # Concat all sections together\n",
    "    formatted_str_sections = \"\\n\\n\".join([f\"{section}\" for section in sections])\n",
    "\n",
    "    # Summarize the sections into a final report\n",
    "\n",
    "    instructions = intro_conclusion_instructions.format(topic=topic, formatted_str_sections=formatted_str_sections)\n",
    "    intro = llm.invoke([instructions]+[HumanMessage(content=f\"Napisz wprowadzenie do raportu\")])\n",
    "    return {\"introduction\": intro.content}\n",
    "\n",
    "def write_conclusion(state: ResearchGraphState):\n",
    "    print(\"... Piszę podsumowanie ...\")\n",
    "    # Full set of sections\n",
    "    sections = state[\"sections\"]\n",
    "    topic = state[\"topic\"]\n",
    "\n",
    "    # Concat all sections together\n",
    "    formatted_str_sections = \"\\n\\n\".join([f\"{section}\" for section in sections])\n",
    "\n",
    "    # Summarize the sections into a final report\n",
    "\n",
    "    instructions = intro_conclusion_instructions.format(topic=topic, formatted_str_sections=formatted_str_sections)\n",
    "    conclusion = llm.invoke([instructions]+[HumanMessage(content=f\"Napisz podsumowanie raportu\")])\n",
    "    return {\"conclusion\": conclusion.content}\n",
    "\n",
    "def finalize_report(state: ResearchGraphState):\n",
    "    \"\"\" Jest to etap „reduce”, w którym zbieramy wszystkie sekcje, łączymy je i zastanawiamy się nad nimi, aby napisać wstęp / zakończenie \"\"\"\n",
    "    print(\"... Finalizuję raport ...\")\n",
    "    # Save full final report\n",
    "    content = state[\"content\"]\n",
    "    if content.startswith(\"## Wnioski\"):\n",
    "        content = content.strip(\"## Wnioski\")\n",
    "    if \"## Źródła\" in content:\n",
    "        try:\n",
    "            content, sources = content.split(\"\\n## Źródła\\n\")\n",
    "        except:\n",
    "            sources = None\n",
    "    else:\n",
    "        sources = None\n",
    "\n",
    "    final_report = state[\"introduction\"] + \"\\n\\n---\\n\\n\" + content + \"\\n\\n---\\n\\n\" + state[\"conclusion\"]\n",
    "    if sources is not None:\n",
    "        final_report += \"\\n\\n## Źródła\\n\" + sources\n",
    "    return {\"final_report\": final_report}\n",
    "\n",
    "def route_messages(state: InterviewState,\n",
    "                   name: str = \"expert\"):\n",
    "\n",
    "    \"\"\" Przełącza pomiędzy pytaniami i odpowiedziami \"\"\"\n",
    "\n",
    "    # Get messages\n",
    "    messages = state[\"messages\"]\n",
    "    max_num_turns = state.get('max_num_turns',2)\n",
    "\n",
    "    # Check the number of expert answers\n",
    "    num_responses = len(\n",
    "        [m for m in messages if isinstance(m, AIMessage) and m.name == name]\n",
    "    )\n",
    "\n",
    "    # End if expert has answered more than the max turns\n",
    "    if num_responses >= max_num_turns:\n",
    "        return 'zapisz wywiad'\n",
    "\n",
    "    # This router is run after each question - answer pair\n",
    "    # Get the last question asked to check if it signals the end of discussion\n",
    "    last_question = messages[-2]\n",
    "\n",
    "    if \"Dziękuję bardzo za pomoc\" in last_question.content:\n",
    "        return 'zapisz wywiad'\n",
    "    return \"zadaj pytanie\"\n",
    "\n",
    "# Add nodes and edges\n",
    "interview_builder = StateGraph(InterviewState)\n",
    "interview_builder.add_node(\"zadaj pytanie\", generate_question)\n",
    "interview_builder.add_node(\"przeszukaj internet\", search_web)\n",
    "interview_builder.add_node(\"poszukaj w wikipedii\", search_wikipedia)\n",
    "interview_builder.add_node(\"odpowiedz na pytanie\", generate_answer)\n",
    "interview_builder.add_node(\"zapisz wywiad\", save_interview)\n",
    "interview_builder.add_node(\"napisz sekcję\", write_section)\n",
    "\n",
    "# Flow\n",
    "interview_builder.add_edge(START, \"zadaj pytanie\")\n",
    "interview_builder.add_edge(\"zadaj pytanie\", \"przeszukaj internet\")\n",
    "interview_builder.add_edge(\"zadaj pytanie\", \"poszukaj w wikipedii\")\n",
    "interview_builder.add_edge(\"przeszukaj internet\", \"odpowiedz na pytanie\")\n",
    "interview_builder.add_edge(\"poszukaj w wikipedii\", \"odpowiedz na pytanie\")\n",
    "interview_builder.add_conditional_edges(\"odpowiedz na pytanie\", route_messages,['zadaj pytanie','zapisz wywiad'])\n",
    "interview_builder.add_edge(\"zapisz wywiad\", \"napisz sekcję\")\n",
    "interview_builder.add_edge(\"napisz sekcję\", END)\n",
    "\n",
    "\n",
    "# Add nodes and edges\n",
    "builder = StateGraph(ResearchGraphState)\n",
    "builder.add_node(\"stwórz analityków\", create_analysts)\n",
    "builder.add_node(\"opinia użytkownika\", human_feedback)\n",
    "builder.add_node(\"przeprowadź wywiad\", interview_builder.compile())\n",
    "builder.add_node(\"napisz raport\",write_report)\n",
    "builder.add_node(\"napisz wprowadzenie\",write_introduction)\n",
    "builder.add_node(\"napisz podsumowanie\",write_conclusion)\n",
    "builder.add_node(\"sfinalizuj raport\",finalize_report)\n",
    "\n",
    "# Logic\n",
    "builder.add_edge(START, \"stwórz analityków\")\n",
    "builder.add_edge(\"stwórz analityków\", \"opinia użytkownika\")\n",
    "builder.add_conditional_edges(\"opinia użytkownika\", initiate_all_interviews, [\"stwórz analityków\", \"przeprowadź wywiad\"])\n",
    "builder.add_edge(\"przeprowadź wywiad\", \"napisz raport\")\n",
    "builder.add_edge(\"przeprowadź wywiad\", \"napisz wprowadzenie\")\n",
    "builder.add_edge(\"przeprowadź wywiad\", \"napisz podsumowanie\")\n",
    "builder.add_edge([\"napisz podsumowanie\", \"napisz raport\", \"napisz wprowadzenie\"], \"sfinalizuj raport\")\n",
    "builder.add_edge(\"sfinalizuj raport\", END)\n",
    "\n",
    "# Compile\n",
    "memory = MemorySaver()\n",
    "graph = builder.compile(interrupt_before=['opinia użytkownika'], checkpointer=memory)\n",
    "display(Image(graph.get_graph(xray=1).draw_mermaid_png()))"
   ]
  },
  {
   "cell_type": "markdown",
   "id": "1b64ba9a-2b5e-40e1-a778-0f635aa3f6d0",
   "metadata": {
    "id": "1b64ba9a-2b5e-40e1-a778-0f635aa3f6d0"
   },
   "source": [
    "Zadajmy teraz nasze pytanie"
   ]
  },
  {
   "cell_type": "code",
   "execution_count": 21,
   "id": "362932ee-4106-4a2d-a32d-b812eafcf9df",
   "metadata": {
    "colab": {
     "base_uri": "https://localhost:8080/"
    },
    "executionInfo": {
     "elapsed": 2877,
     "status": "ok",
     "timestamp": 1740314296069,
     "user": {
      "displayName": "Andrzej Wodecki",
      "userId": "15583970232716185806"
     },
     "user_tz": -60
    },
    "id": "362932ee-4106-4a2d-a32d-b812eafcf9df",
    "outputId": "7c1a36cd-208a-4317-cf9f-2999762c5a01"
   },
   "outputs": [
    {
     "name": "stdout",
     "output_type": "stream",
     "text": [
      "... Tworzę zespół analityków ...\n",
      "Imię i nazwisko: Anna Kowalska\n",
      "Afiliacja: Bank XYZ\n",
      "Rola: Ekspert ds. systemów wielo-agentowych\n",
      "Opis: Specjalizuje się w zastosowaniach systemów wielo-agentowych w finansach, z doświadczeniem w implementacji rozwiązań opartych na sztucznej inteligencji. Zmotywowana do badania, jak duże modele językowe mogą wspierać procesy decyzyjne w bankowości.\n",
      "--------------------------------------------------\n",
      "Imię i nazwisko: Marek Nowak\n",
      "Afiliacja: Instytut Badań Finansowych\n",
      "Rola: Analityk danych\n",
      "Opis: Posiada doświadczenie w analizie danych w sektorze bankowym, ze szczególnym uwzględnieniem analizy ryzyka. Zainteresowany wykorzystaniem dużych modeli językowych do analizy sentymentu klientów oraz prognozowania trendów rynkowych.\n",
      "--------------------------------------------------\n",
      "Imię i nazwisko: Katarzyna Wiśniewska\n",
      "Afiliacja: Uniwersytet Ekonomiczny\n",
      "Rola: Badaczka innowacji technologicznych\n",
      "Opis: Zajmuje się badaniami nad innowacjami w bankowości, ze szczególnym naciskiem na technologie oparte na AI. Zmotywowana do zbadania, jak systemy wielo-agentowe mogą zrewolucjonizować interakcje z klientami i poprawić efektywność operacyjną.\n",
      "--------------------------------------------------\n"
     ]
    }
   ],
   "source": [
    "# Inputs\n",
    "max_analysts = 3\n",
    "topic = \"Jaki jest potencjał zastosowań systemów wielo-agentowych opartych na dużych modelach językowych w bankowości?\"\n",
    "thread = {\"configurable\": {\"thread_id\": \"1\"}}\n",
    "\n",
    "# Run the graph until the first interruption\n",
    "for event in graph.stream({\"topic\":topic,\n",
    "                           \"max_analysts\":max_analysts},\n",
    "                          thread,\n",
    "                          stream_mode=\"values\"):\n",
    "\n",
    "    analysts = event.get('analysts', '')\n",
    "    if analysts:\n",
    "        for analyst in analysts:\n",
    "            print(f\"Imię i nazwisko: {analyst.name}\")\n",
    "            print(f\"Afiliacja: {analyst.affiliation}\")\n",
    "            print(f\"Rola: {analyst.role}\")\n",
    "            print(f\"Opis: {analyst.description}\")\n",
    "            print(\"-\" * 50)"
   ]
  },
  {
   "cell_type": "code",
   "execution_count": 22,
   "id": "ac521a5f-5a4f-44f9-8af9-d05228e20882",
   "metadata": {
    "colab": {
     "base_uri": "https://localhost:8080/"
    },
    "executionInfo": {
     "elapsed": 9,
     "status": "ok",
     "timestamp": 1740314300313,
     "user": {
      "displayName": "Andrzej Wodecki",
      "userId": "15583970232716185806"
     },
     "user_tz": -60
    },
    "id": "ac521a5f-5a4f-44f9-8af9-d05228e20882",
    "outputId": "479fced5-db57-4fda-a2a7-9559ab52c430"
   },
   "outputs": [
    {
     "name": "stdout",
     "output_type": "stream",
     "text": [
      "... Inicjuję wywiady ...\n"
     ]
    },
    {
     "data": {
      "text/plain": [
       "{'configurable': {'thread_id': '1',\n",
       "  'checkpoint_ns': '',\n",
       "  'checkpoint_id': '1f01f656-84eb-63bf-8002-d4a7a2ca1fb5'}}"
      ]
     },
     "execution_count": 22,
     "metadata": {},
     "output_type": "execute_result"
    }
   ],
   "source": [
    "# We now update the state as if we are the human_feedback node\n",
    "graph.update_state(thread, {\"human_analyst_feedback\":\n",
    "                                \"Dodaj specjalistę ds ochrony danych osobowych\"}, as_node=\"opinia użytkownika\")"
   ]
  },
  {
   "cell_type": "code",
   "execution_count": 23,
   "id": "a3be311f-62ee-49e7-b037-75c53d8960a8",
   "metadata": {
    "colab": {
     "base_uri": "https://localhost:8080/"
    },
    "executionInfo": {
     "elapsed": 3387,
     "status": "ok",
     "timestamp": 1740314305346,
     "user": {
      "displayName": "Andrzej Wodecki",
      "userId": "15583970232716185806"
     },
     "user_tz": -60
    },
    "id": "a3be311f-62ee-49e7-b037-75c53d8960a8",
    "outputId": "65be3e0e-3838-4dbf-dfec-2dd0e5f58fad"
   },
   "outputs": [
    {
     "name": "stdout",
     "output_type": "stream",
     "text": [
      "Imię: Anna Kowalska\n",
      "Afiliacja: Bank XYZ\n",
      "Rola: Ekspert ds. systemów wielo-agentowych\n",
      "Opis: Specjalizuje się w zastosowaniach systemów wielo-agentowych w finansach, z doświadczeniem w implementacji rozwiązań opartych na sztucznej inteligencji. Zmotywowana do badania, jak duże modele językowe mogą wspierać procesy decyzyjne w bankowości.\n",
      "--------------------------------------------------\n",
      "Imię: Marek Nowak\n",
      "Afiliacja: Instytut Badań Finansowych\n",
      "Rola: Analityk danych\n",
      "Opis: Posiada doświadczenie w analizie danych w sektorze bankowym, ze szczególnym uwzględnieniem analizy ryzyka. Zainteresowany wykorzystaniem dużych modeli językowych do analizy sentymentu klientów oraz prognozowania trendów rynkowych.\n",
      "--------------------------------------------------\n",
      "Imię: Katarzyna Wiśniewska\n",
      "Afiliacja: Uniwersytet Ekonomiczny\n",
      "Rola: Badaczka innowacji technologicznych\n",
      "Opis: Zajmuje się badaniami nad innowacjami w bankowości, ze szczególnym naciskiem na technologie oparte na AI. Zmotywowana do zbadania, jak systemy wielo-agentowe mogą zrewolucjonizować interakcje z klientami i poprawić efektywność operacyjną.\n",
      "--------------------------------------------------\n",
      "... Tworzę zespół analityków ...\n",
      "Imię: Anna Kowalska\n",
      "Afiliacja: Bank XYZ\n",
      "Rola: Analityk ds. zastosowań AI w bankowości\n",
      "Opis: Specjalizuje się w zastosowaniach sztucznej inteligencji w sektorze finansowym. Posiada doświadczenie w implementacji rozwiązań opartych na uczeniu maszynowym oraz analizie danych. Zmotywowana do odkrywania innowacyjnych sposobów wykorzystania dużych modeli językowych w bankowości.\n",
      "--------------------------------------------------\n",
      "Imię: Marek Nowak\n",
      "Afiliacja: Instytut Ochrony Danych\n",
      "Rola: Specjalista ds. ochrony danych osobowych\n",
      "Opis: Ekspert w zakresie ochrony danych osobowych i regulacji prawnych związanych z ich przetwarzaniem. Posiada doświadczenie w audytach zgodności oraz wdrażaniu polityk ochrony danych w instytucjach finansowych. Zainteresowany wpływem systemów wielo-agentowych na bezpieczeństwo danych.\n",
      "--------------------------------------------------\n",
      "Imię: Katarzyna Wiśniewska\n",
      "Afiliacja: Konsultant Finansowy\n",
      "Rola: Analityk rynku finansowego\n",
      "Opis: Specjalizuje się w analizie trendów rynkowych oraz ocenie ryzyka finansowego. Posiada doświadczenie w pracy z danymi finansowymi oraz w tworzeniu prognoz. Zmotywowana do badania potencjału zastosowań systemów wielo-agentowych w optymalizacji procesów bankowych.\n",
      "--------------------------------------------------\n"
     ]
    }
   ],
   "source": [
    "# Check\n",
    "for event in graph.stream(None, thread, stream_mode=\"values\"):\n",
    "    analysts = event.get('analysts', '')\n",
    "    if analysts:\n",
    "        for analyst in analysts:\n",
    "            print(f\"Imię: {analyst.name}\")\n",
    "            print(f\"Afiliacja: {analyst.affiliation}\")\n",
    "            print(f\"Rola: {analyst.role}\")\n",
    "            print(f\"Opis: {analyst.description}\")\n",
    "            print(\"-\" * 50)"
   ]
  },
  {
   "cell_type": "code",
   "execution_count": 24,
   "id": "0af41f54-88d9-4597-98b0-444c08322095",
   "metadata": {
    "colab": {
     "base_uri": "https://localhost:8080/"
    },
    "executionInfo": {
     "elapsed": 9,
     "status": "ok",
     "timestamp": 1740314308570,
     "user": {
      "displayName": "Andrzej Wodecki",
      "userId": "15583970232716185806"
     },
     "user_tz": -60
    },
    "id": "0af41f54-88d9-4597-98b0-444c08322095",
    "outputId": "6f17388f-a2c8-4438-901e-7b5c8261e8f4"
   },
   "outputs": [
    {
     "name": "stdout",
     "output_type": "stream",
     "text": [
      "... Inicjuję wywiady ...\n"
     ]
    },
    {
     "data": {
      "text/plain": [
       "{'configurable': {'thread_id': '1',\n",
       "  'checkpoint_ns': '',\n",
       "  'checkpoint_id': '1f01f656-c3c0-657c-8004-b8fdefe88851'}}"
      ]
     },
     "execution_count": 24,
     "metadata": {},
     "output_type": "execute_result"
    }
   ],
   "source": [
    "# Potwierdź, że jest OK\n",
    "graph.update_state(thread, {\"human_analyst_feedback\":\n",
    "                            None}, as_node=\"opinia użytkownika\")"
   ]
  },
  {
   "cell_type": "code",
   "execution_count": 25,
   "id": "37123ca7-c20b-43c1-9a71-39ba344e7ca6",
   "metadata": {
    "colab": {
     "base_uri": "https://localhost:8080/"
    },
    "executionInfo": {
     "elapsed": 48451,
     "status": "ok",
     "timestamp": 1740314358531,
     "user": {
      "displayName": "Andrzej Wodecki",
      "userId": "15583970232716185806"
     },
     "user_tz": -60
    },
    "id": "37123ca7-c20b-43c1-9a71-39ba344e7ca6",
    "outputId": "806275a3-6254-4eb1-898b-71754175e990"
   },
   "outputs": [
    {
     "name": "stdout",
     "output_type": "stream",
     "text": [
      "... Generuję pytania do wywiadu ...... Generuję pytania do wywiadu ...\n",
      "... Generuję pytania do wywiadu ...\n",
      "\n",
      "... ...  Analityk rynku finansowego : Przeszukuję Internet ...\n",
      " Analityk rynku finansowego : Przeszukuję Wikipedię ...\n",
      "...  Analityk rynku finansowego : Przeszukuję Wikipedię ...\n",
      "...  Analityk rynku finansowego : Przeszukuję Internet ...\n",
      "...  Analityk rynku finansowego : Przeszukuję Wikipedię ...\n",
      "...  Analityk rynku finansowego : Przeszukuję Internet ...\n",
      "...  Specjalista ds. ochrony danych osobowych : Generuję odpowiedzi ...\n",
      "...  Analityk ds. zastosowań AI w bankowości : Generuję odpowiedzi ...\n",
      "...  Analityk rynku finansowego : Generuję odpowiedzi ...\n",
      "... Generuję pytania do wywiadu ...\n",
      "... Generuję pytania do wywiadu ...\n",
      "...  Analityk rynku finansowego : Przeszukuję Wikipedię ...\n",
      "...  Analityk rynku finansowego : Przeszukuję Internet ...\n",
      "...  Analityk rynku finansowego : Przeszukuję Wikipedię ...\n",
      "...  Analityk rynku finansowego : Przeszukuję Internet ...\n",
      "... Generuję pytania do wywiadu ...\n",
      "...  Specjalista ds. ochrony danych osobowych : Generuję odpowiedzi ...\n",
      "...  Analityk rynku finansowego : Generuję odpowiedzi ...\n",
      "...  Analityk rynku finansowego : Przeszukuję Wikipedię ...\n",
      "...  Analityk rynku finansowego : Przeszukuję Internet ...\n",
      "...  Analityk ds. zastosowań AI w bankowości : Generuję odpowiedzi ...\n",
      "...  Analityk rynku finansowego : Piszę sekcję ...\n",
      "...  Specjalista ds. ochrony danych osobowych : Piszę sekcję ...\n",
      "...  Analityk ds. zastosowań AI w bankowości : Piszę sekcję ...\n",
      "... Piszę podsumowanie ...... Piszę raport ...\n",
      "... Piszę wprowadzenie...\n",
      "\n",
      "... Finalizuję raport ...\n"
     ]
    }
   ],
   "source": [
    "# Continue\n",
    "for event in graph.stream(None, thread, stream_mode=\"updates\"):\n",
    "    node_name = next(iter(event.keys()))"
   ]
  },
  {
   "cell_type": "code",
   "execution_count": 27,
   "id": "f8f66ad8-80fd-4eb2-96b6-6ae9dffd060c",
   "metadata": {
    "colab": {
     "base_uri": "https://localhost:8080/",
     "height": 969
    },
    "executionInfo": {
     "elapsed": 18,
     "status": "ok",
     "timestamp": 1740314373131,
     "user": {
      "displayName": "Andrzej Wodecki",
      "userId": "15583970232716185806"
     },
     "user_tz": -60
    },
    "id": "f8f66ad8-80fd-4eb2-96b6-6ae9dffd060c",
    "outputId": "fb85d064-3f0f-4cb0-9083-7d341e350237"
   },
   "outputs": [
    {
     "data": {
      "text/markdown": [
       "# Potencjał Zastosowań Systemów Wielo-Agentowych w Bankowości\n",
       "\n",
       "## Wprowadzenie\n",
       "\n",
       "Sektor bankowy stoi na progu rewolucji technologicznej, w której sztuczna inteligencja (AI) i uczenie maszynowe (ML) odgrywają kluczową rolę. W szczególności, integracja dużych modeli językowych (LLM) z systemami wielo-agentowymi oraz technologią cyfrowych bliźniaków otwiera nowe horyzonty w zakresie optymalizacji operacji, poprawy interakcji z klientami oraz zwiększenia bezpieczeństwa danych. W niniejszym raporcie przyjrzymy się innowacyjnym zastosowaniom tych technologii w bankowości, analizując ich wpływ na efektywność procesów, automatyzację zadań oraz personalizację usług. Zrozumienie potencjału tych rozwiązań jest kluczowe dla instytucji finansowych, które pragną utrzymać konkurencyjność w dynamicznie zmieniającym się środowisku rynkowym.\n",
       "\n",
       "---\n",
       "\n",
       "## Główne wnioski\n",
       "\n",
       "Sektor bankowy przechodzi dynamiczną transformację dzięki integracji sztucznej inteligencji (AI) oraz uczenia maszynowego (ML), w szczególności poprzez zastosowanie technologii cyfrowych bliźniaków wspieranych przez duże modele językowe (LLM). Cyfrowe bliźniaki, będące wirtualnymi replikami fizycznych obiektów, umożliwiają bankom symulację zachowań klientów oraz analizę trendów rynkowych w czasie rzeczywistym, co prowadzi do lepszego zarządzania operacjami i zwiększenia satysfakcji klientów [1]. \n",
       "\n",
       "Z badań wynika, że aż 73% czasu pracy w bankowości może zostać zautomatyzowane dzięki generatywnej AI, co czyni ten sektor jednym z najbardziej podatnych na transformację technologiczną [2]. Warto również zauważyć, że 39% pracy w bankach ma wysoki potencjał do automatyzacji, co otwiera nowe możliwości dla pracowników, którzy mogą skupić się na bardziej złożonych zadaniach [2]. Przykłady zastosowania LLM obejmują wsparcie przedstawicieli obsługi klienta, gdzie modele automatycznie generują notatki i dostarczają istotne informacje, co zwiększa efektywność interakcji z klientami [2].\n",
       "\n",
       "Integracja LLM z systemami wieloagentowymi oraz grafami wiedzy pozwala na tworzenie bardziej inteligentnych i responsywnych cyfrowych bliźniaków, co może zrewolucjonizować sposób, w jaki banki prowadzą swoje operacje [1]. Systemy wieloagentowe, wprowadzające wyspecjalizowanych agentów do zarządzania operacjami bankowymi, mogą przyczynić się do zwiększenia efektywności i bezpieczeństwa danych, jednak niosą ze sobą również ryzyko związane z nieautoryzowanym dostępem do informacji [4]. \n",
       "\n",
       "W kontekście bezpieczeństwa, banki wprowadzają różnorodne środki ochronne, takie jak silne hasła i zabezpieczenia przed atakami hakerskimi, które są coraz bardziej złożone i ewoluują w miarę rozwoju technologii [3]. Cyfrowe bliźniaki mogą symulować zachowania klientów oraz trendy rynkowe, co umożliwia bankom lepsze prognozowanie i dostosowywanie ofert do potrzeb rynku [3]. \n",
       "\n",
       "Podsumowując, integracja cyfrowych bliźniaków, LLM oraz systemów wieloagentowych w bankowości nie tylko zwiększa wydajność, ale także umożliwia tworzenie spersonalizowanych usług dla klientów, co jest kluczowe w dzisiejszym konkurencyjnym środowisku.\n",
       "\n",
       "\n",
       "---\n",
       "\n",
       "## Podsumowanie\n",
       "\n",
       "Sektor bankowy stoi na progu rewolucji dzięki integracji sztucznej inteligencji i dużych modeli językowych (LLM) z technologią cyfrowych bliźniaków. Te innowacyjne rozwiązania umożliwiają bankom optymalizację operacji, poprawę interakcji z klientami oraz zwiększenie efektywności procesów. Badania wskazują, że aż 73% pracy w bankowości może zostać zautomatyzowane, co otwiera nowe możliwości dla pracowników i instytucji. Cyfrowe bliźniaki, wspierane przez systemy wieloagentowe, pozwalają na lepsze prognozowanie trendów rynkowych oraz personalizację usług, co jest kluczowe w dzisiejszym konkurencyjnym środowisku. Warto jednak pamiętać o wyzwaniach związanych z bezpieczeństwem danych, które wymagają ciągłej uwagi i innowacyjnych rozwiązań.\n",
       "\n",
       "## Źródła\n",
       "[1] https://www.galaksiya.com/pl/articles/twinize-digital-twin-technology-in-banking/  \n",
       "[2] https://itwiz.pl/3-obszary-na-ktore-wplynie-generatywna-ai-w-bankowosci/  \n",
       "[3] https://gomobi.pl/blogi/przyklady-zastosowania-sztucznej-inteligencji-ai-oraz-uczenia-maszynowego-w-bankowosci/  \n",
       "[4] https://bankiwpolsce.pl/aktualne-zagrozenia-dla-uzytkownikow-bankowosci-elektronicznej  "
      ],
      "text/plain": [
       "<IPython.core.display.Markdown object>"
      ]
     },
     "execution_count": 27,
     "metadata": {},
     "output_type": "execute_result"
    }
   ],
   "source": [
    "from IPython.display import Markdown\n",
    "final_state = graph.get_state(thread)\n",
    "report = final_state.values.get('final_report')\n",
    "Markdown(report)"
   ]
  }
 ],
 "metadata": {
  "colab": {
   "provenance": []
  },
  "kernelspec": {
   "display_name": ".venv",
   "language": "python",
   "name": "python3"
  },
  "language_info": {
   "codemirror_mode": {
    "name": "ipython",
    "version": 3
   },
   "file_extension": ".py",
   "mimetype": "text/x-python",
   "name": "python",
   "nbconvert_exporter": "python",
   "pygments_lexer": "ipython3",
   "version": "3.11.11"
  }
 },
 "nbformat": 4,
 "nbformat_minor": 5
}
